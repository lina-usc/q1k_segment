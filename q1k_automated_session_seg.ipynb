{
 "cells": [
  {
   "cell_type": "markdown",
   "metadata": {},
   "source": [
    "# Generate automated session reports for all participants"
   ]
  },
  {
   "cell_type": "code",
   "execution_count": 1,
   "metadata": {},
   "outputs": [],
   "source": [
    "import pandas as pd\n",
    "import numpy as np\n",
    "import mne\n",
    "import mne_bids\n",
    "import glob\n",
    "import warnings\n",
    "\n",
    "import re\n",
    "import subprocess\n",
    "\n",
    "import os\n",
    "import papermill as pm\n",
    "warnings.filterwarnings('ignore')\n",
    "\n",
    "from nbconvert import HTMLExporter\n",
    "from nbconvert.preprocessors import ExecutePreprocessor\n",
    "from nbformat import read\n"
   ]
  },
  {
   "cell_type": "markdown",
   "metadata": {
    "tags": []
   },
   "source": [
    "### Select task parameters and file paths"
   ]
  },
  {
   "cell_type": "code",
   "execution_count": 2,
   "metadata": {},
   "outputs": [],
   "source": [
    "## Select kind of data experimental or control group\n",
    "\n",
    "#dataset_group = \"experimental\"\n",
    "\n",
    "#if dataset_group == \"control\":\n",
    "#    # Control group data\n",
    "#    project_path = \"/home/james/q1k/pilot/q1k-external-pilot/\"\n",
    "#    task_id_in = \"ap\"\n",
    "#    task_id_in_et = \"ap\"\n",
    "#    task_id_out = \"ap\"\n",
    "#    #subject_id = '002'\n",
    "#    session_id = '01'\n",
    "#    run_id = '1'\n",
    "\n",
    "#elif dataset_group == \"experimental\":\n",
    "## Experimental group data\n",
    "\n",
    "project_path = \"/project/def-emayada/q1k/experimental/\"\n",
    "pyll_path = \"derivatives/pylossless/\"\n",
    "sync_loss_path = \"derivatives/sync_loss/\"\n",
    "segment_path = \"derivatives/segment/\"\n",
    "code_path = \"code/q1k_segment/\"\n",
    "out_seg_path = \"epoch_fif_files/\"\n",
    "out_avg_path = \"erp_fif_files/\"\n",
    "html_reports_path = \"session_reports/\"\n",
    "task_id = \"TO\"\n",
    "#task_id_in_et = \"TO\"\n",
    "#task_id_out = \"TO\"\n",
    "#subject_id = 'Q1K_HSJ_100123_F1'\n",
    "run_id = '1'\n",
    "session_id = '01'\n",
    "#sourcedata_path = \"sourcedata/\" \n",
    "#html_reports_path = \"session_reports/\" + task_id_in  + '/'\n",
    "\n"
   ]
  },
  {
   "cell_type": "code",
   "execution_count": 3,
   "metadata": {},
   "outputs": [
    {
     "name": "stdout",
     "output_type": "stream",
     "text": [
      "TO\n"
     ]
    }
   ],
   "source": [
    "# Sanity check to see which task you would like to make reports for \n",
    "print(task_id)"
   ]
  },
  {
   "cell_type": "code",
   "execution_count": 4,
   "metadata": {},
   "outputs": [
    {
     "name": "stdout",
     "output_type": "stream",
     "text": [
      "Input files:\n",
      "File Path: /project/def-emayada/q1k/experimental/derivatives/pylossless/derivatives/sync_loss/sub-1102S1/ses-01/eeg/sub-1102S1_ses-01_task-TO_run-1_eeg.edf, File Name: sub-1102S1_ses-01_task-TO_run-1_eeg.edf\n",
      "File Path: /project/def-emayada/q1k/experimental/derivatives/pylossless/derivatives/sync_loss/sub-1147F1/ses-01/eeg/sub-1147F1_ses-01_task-TO_run-1_eeg.edf, File Name: sub-1147F1_ses-01_task-TO_run-1_eeg.edf\n",
      "File Path: /project/def-emayada/q1k/experimental/derivatives/pylossless/derivatives/sync_loss/sub-1033P/ses-01/eeg/sub-1033P_ses-01_task-TO_run-1_eeg.edf, File Name: sub-1033P_ses-01_task-TO_run-1_eeg.edf\n",
      "File Path: /project/def-emayada/q1k/experimental/derivatives/pylossless/derivatives/sync_loss/sub-1067P/ses-01/eeg/sub-1067P_ses-01_task-TO_run-1_eeg.edf, File Name: sub-1067P_ses-01_task-TO_run-1_eeg.edf\n",
      "File Path: /project/def-emayada/q1k/experimental/derivatives/pylossless/derivatives/sync_loss/sub-0157P/ses-01/eeg/sub-0157P_ses-01_task-TO_run-1_eeg.edf, File Name: sub-0157P_ses-01_task-TO_run-1_eeg.edf\n",
      "File Path: /project/def-emayada/q1k/experimental/derivatives/pylossless/derivatives/sync_loss/sub-0179P/ses-01/eeg/sub-0179P_ses-01_task-TO_run-1_eeg.edf, File Name: sub-0179P_ses-01_task-TO_run-1_eeg.edf\n",
      "File Path: /project/def-emayada/q1k/experimental/derivatives/pylossless/derivatives/sync_loss/sub-1102P/ses-01/eeg/sub-1102P_ses-01_task-TO_run-1_eeg.edf, File Name: sub-1102P_ses-01_task-TO_run-1_eeg.edf\n",
      "File Path: /project/def-emayada/q1k/experimental/derivatives/pylossless/derivatives/sync_loss/sub-1140S1/ses-01/eeg/sub-1140S1_ses-01_task-TO_run-1_eeg.edf, File Name: sub-1140S1_ses-01_task-TO_run-1_eeg.edf\n",
      "File Path: /project/def-emayada/q1k/experimental/derivatives/pylossless/derivatives/sync_loss/sub-1037F1/ses-01/eeg/sub-1037F1_ses-01_task-TO_run-1_eeg.edf, File Name: sub-1037F1_ses-01_task-TO_run-1_eeg.edf\n",
      "File Path: /project/def-emayada/q1k/experimental/derivatives/pylossless/derivatives/sync_loss/sub-1040M1/ses-01/eeg/sub-1040M1_ses-01_task-TO_run-1_eeg.edf, File Name: sub-1040M1_ses-01_task-TO_run-1_eeg.edf\n",
      "File Path: /project/def-emayada/q1k/experimental/derivatives/pylossless/derivatives/sync_loss/sub-0119M1/ses-01/eeg/sub-0119M1_ses-01_task-TO_run-1_eeg.edf, File Name: sub-0119M1_ses-01_task-TO_run-1_eeg.edf\n",
      "File Path: /project/def-emayada/q1k/experimental/derivatives/pylossless/derivatives/sync_loss/sub-1078P/ses-01/eeg/sub-1078P_ses-01_task-TO_run-1_eeg.edf, File Name: sub-1078P_ses-01_task-TO_run-1_eeg.edf\n",
      "File Path: /project/def-emayada/q1k/experimental/derivatives/pylossless/derivatives/sync_loss/sub-1162M1/ses-01/eeg/sub-1162M1_ses-01_task-TO_run-1_eeg.edf, File Name: sub-1162M1_ses-01_task-TO_run-1_eeg.edf\n",
      "File Path: /project/def-emayada/q1k/experimental/derivatives/pylossless/derivatives/sync_loss/sub-0171P/ses-01/eeg/sub-0171P_ses-01_task-TO_run-1_eeg.edf, File Name: sub-0171P_ses-01_task-TO_run-1_eeg.edf\n",
      "File Path: /project/def-emayada/q1k/experimental/derivatives/pylossless/derivatives/sync_loss/sub-1093P/ses-01/eeg/sub-1093P_ses-01_task-TO_run-1_eeg.edf, File Name: sub-1093P_ses-01_task-TO_run-1_eeg.edf\n",
      "File Path: /project/def-emayada/q1k/experimental/derivatives/pylossless/derivatives/sync_loss/sub-1001S1/ses-01/eeg/sub-1001S1_ses-01_task-TO_run-1_eeg.edf, File Name: sub-1001S1_ses-01_task-TO_run-1_eeg.edf\n",
      "File Path: /project/def-emayada/q1k/experimental/derivatives/pylossless/derivatives/sync_loss/sub-1033M1/ses-01/eeg/sub-1033M1_ses-01_task-TO_run-1_eeg.edf, File Name: sub-1033M1_ses-01_task-TO_run-1_eeg.edf\n",
      "File Path: /project/def-emayada/q1k/experimental/derivatives/pylossless/derivatives/sync_loss/sub-0050P/ses-01/eeg/sub-0050P_ses-01_task-TO_run-1_eeg.edf, File Name: sub-0050P_ses-01_task-TO_run-1_eeg.edf\n",
      "File Path: /project/def-emayada/q1k/experimental/derivatives/pylossless/derivatives/sync_loss/sub-1121M1/ses-01/eeg/sub-1121M1_ses-01_task-TO_run-1_eeg.edf, File Name: sub-1121M1_ses-01_task-TO_run-1_eeg.edf\n",
      "File Path: /project/def-emayada/q1k/experimental/derivatives/pylossless/derivatives/sync_loss/sub-1045F1/ses-01/eeg/sub-1045F1_ses-01_task-TO_run-1_eeg.edf, File Name: sub-1045F1_ses-01_task-TO_run-1_eeg.edf\n",
      "File Path: /project/def-emayada/q1k/experimental/derivatives/pylossless/derivatives/sync_loss/sub-0196S2/ses-01/eeg/sub-0196S2_ses-01_task-TO_run-1_eeg.edf, File Name: sub-0196S2_ses-01_task-TO_run-1_eeg.edf\n",
      "File Path: /project/def-emayada/q1k/experimental/derivatives/pylossless/derivatives/sync_loss/sub-1061M/ses-01/eeg/sub-1061M_ses-01_task-TO_run-1_eeg.edf, File Name: sub-1061M_ses-01_task-TO_run-1_eeg.edf\n",
      "File Path: /project/def-emayada/q1k/experimental/derivatives/pylossless/derivatives/sync_loss/sub-0171M1/ses-01/eeg/sub-0171M1_ses-01_task-TO_run-1_eeg.edf, File Name: sub-0171M1_ses-01_task-TO_run-1_eeg.edf\n",
      "File Path: /project/def-emayada/q1k/experimental/derivatives/pylossless/derivatives/sync_loss/sub-0186M1/ses-01/eeg/sub-0186M1_ses-01_task-TO_run-1_eeg.edf, File Name: sub-0186M1_ses-01_task-TO_run-1_eeg.edf\n",
      "File Path: /project/def-emayada/q1k/experimental/derivatives/pylossless/derivatives/sync_loss/sub-1083P/ses-01/eeg/sub-1083P_ses-01_task-TO_run-1_eeg.edf, File Name: sub-1083P_ses-01_task-TO_run-1_eeg.edf\n",
      "File Path: /project/def-emayada/q1k/experimental/derivatives/pylossless/derivatives/sync_loss/sub-0162S1/ses-01/eeg/sub-0162S1_ses-01_task-TO_run-1_eeg.edf, File Name: sub-0162S1_ses-01_task-TO_run-1_eeg.edf\n",
      "File Path: /project/def-emayada/q1k/experimental/derivatives/pylossless/derivatives/sync_loss/sub-1009M1/ses-01/eeg/sub-1009M1_ses-01_task-TO_run-1_eeg.edf, File Name: sub-1009M1_ses-01_task-TO_run-1_eeg.edf\n",
      "File Path: /project/def-emayada/q1k/experimental/derivatives/pylossless/derivatives/sync_loss/sub-1028S2/ses-01/eeg/sub-1028S2_ses-01_task-TO_run-1_eeg.edf, File Name: sub-1028S2_ses-01_task-TO_run-1_eeg.edf\n",
      "File Path: /project/def-emayada/q1k/experimental/derivatives/pylossless/derivatives/sync_loss/sub-1112P/ses-01/eeg/sub-1112P_ses-01_task-TO_run-1_eeg.edf, File Name: sub-1112P_ses-01_task-TO_run-1_eeg.edf\n",
      "File Path: /project/def-emayada/q1k/experimental/derivatives/pylossless/derivatives/sync_loss/sub-1052S1/ses-01/eeg/sub-1052S1_ses-01_task-TO_run-1_eeg.edf, File Name: sub-1052S1_ses-01_task-TO_run-1_eeg.edf\n",
      "File Path: /project/def-emayada/q1k/experimental/derivatives/pylossless/derivatives/sync_loss/sub-0248P/ses-01/eeg/sub-0248P_ses-01_task-TO_run-1_eeg.edf, File Name: sub-0248P_ses-01_task-TO_run-1_eeg.edf\n",
      "File Path: /project/def-emayada/q1k/experimental/derivatives/pylossless/derivatives/sync_loss/sub-0196M1/ses-01/eeg/sub-0196M1_ses-01_task-TO_run-1_eeg.edf, File Name: sub-0196M1_ses-01_task-TO_run-1_eeg.edf\n",
      "File Path: /project/def-emayada/q1k/experimental/derivatives/pylossless/derivatives/sync_loss/sub-1083F1/ses-01/eeg/sub-1083F1_ses-01_task-TO_run-1_eeg.edf, File Name: sub-1083F1_ses-01_task-TO_run-1_eeg.edf\n",
      "File Path: /project/def-emayada/q1k/experimental/derivatives/pylossless/derivatives/sync_loss/sub-0216M1/ses-01/eeg/sub-0216M1_ses-01_task-TO_run-1_eeg.edf, File Name: sub-0216M1_ses-01_task-TO_run-1_eeg.edf\n",
      "File Path: /project/def-emayada/q1k/experimental/derivatives/pylossless/derivatives/sync_loss/sub-0104P/ses-01/eeg/sub-0104P_ses-01_task-TO_run-1_eeg.edf, File Name: sub-0104P_ses-01_task-TO_run-1_eeg.edf\n",
      "File Path: /project/def-emayada/q1k/experimental/derivatives/pylossless/derivatives/sync_loss/sub-1057F1/ses-01/eeg/sub-1057F1_ses-01_task-TO_run-1_eeg.edf, File Name: sub-1057F1_ses-01_task-TO_run-1_eeg.edf\n",
      "File Path: /project/def-emayada/q1k/experimental/derivatives/pylossless/derivatives/sync_loss/sub-1040P/ses-01/eeg/sub-1040P_ses-01_task-TO_run-1_eeg.edf, File Name: sub-1040P_ses-01_task-TO_run-1_eeg.edf\n",
      "File Path: /project/def-emayada/q1k/experimental/derivatives/pylossless/derivatives/sync_loss/sub-1057P/ses-01/eeg/sub-1057P_ses-01_task-TO_run-1_eeg.edf, File Name: sub-1057P_ses-01_task-TO_run-1_eeg.edf\n",
      "File Path: /project/def-emayada/q1k/experimental/derivatives/pylossless/derivatives/sync_loss/sub-0179M1/ses-01/eeg/sub-0179M1_ses-01_task-TO_run-1_eeg.edf, File Name: sub-0179M1_ses-01_task-TO_run-1_eeg.edf\n",
      "File Path: /project/def-emayada/q1k/experimental/derivatives/pylossless/derivatives/sync_loss/sub-1033S1/ses-01/eeg/sub-1033S1_ses-01_task-TO_run-1_eeg.edf, File Name: sub-1033S1_ses-01_task-TO_run-1_eeg.edf\n",
      "File Path: /project/def-emayada/q1k/experimental/derivatives/pylossless/derivatives/sync_loss/sub-1112M1/ses-01/eeg/sub-1112M1_ses-01_task-TO_run-1_eeg.edf, File Name: sub-1112M1_ses-01_task-TO_run-1_eeg.edf\n",
      "File Path: /project/def-emayada/q1k/experimental/derivatives/pylossless/derivatives/sync_loss/sub-1001M1/ses-01/eeg/sub-1001M1_ses-01_task-TO_run-1_eeg.edf, File Name: sub-1001M1_ses-01_task-TO_run-1_eeg.edf\n",
      "File Path: /project/def-emayada/q1k/experimental/derivatives/pylossless/derivatives/sync_loss/sub-1102S2/ses-01/eeg/sub-1102S2_ses-01_task-TO_run-1_eeg.edf, File Name: sub-1102S2_ses-01_task-TO_run-1_eeg.edf\n",
      "File Path: /project/def-emayada/q1k/experimental/derivatives/pylossless/derivatives/sync_loss/sub-1143S1/ses-01/eeg/sub-1143S1_ses-01_task-TO_run-1_eeg.edf, File Name: sub-1143S1_ses-01_task-TO_run-1_eeg.edf\n",
      "File Path: /project/def-emayada/q1k/experimental/derivatives/pylossless/derivatives/sync_loss/sub-1106F1/ses-01/eeg/sub-1106F1_ses-01_task-TO_run-1_eeg.edf, File Name: sub-1106F1_ses-01_task-TO_run-1_eeg.edf\n",
      "File Path: /project/def-emayada/q1k/experimental/derivatives/pylossless/derivatives/sync_loss/sub-1118M1/ses-01/eeg/sub-1118M1_ses-01_task-TO_run-1_eeg.edf, File Name: sub-1118M1_ses-01_task-TO_run-1_eeg.edf\n",
      "File Path: /project/def-emayada/q1k/experimental/derivatives/pylossless/derivatives/sync_loss/sub-1140P/ses-01/eeg/sub-1140P_ses-01_task-TO_run-1_eeg.edf, File Name: sub-1140P_ses-01_task-TO_run-1_eeg.edf\n",
      "File Path: /project/def-emayada/q1k/experimental/derivatives/pylossless/derivatives/sync_loss/sub-1114P/ses-01/eeg/sub-1114P_ses-01_task-TO_run-1_eeg.edf, File Name: sub-1114P_ses-01_task-TO_run-1_eeg.edf\n",
      "File Path: /project/def-emayada/q1k/experimental/derivatives/pylossless/derivatives/sync_loss/sub-1147P/ses-01/eeg/sub-1147P_ses-01_task-TO_run-1_eeg.edf, File Name: sub-1147P_ses-01_task-TO_run-1_eeg.edf\n",
      "File Path: /project/def-emayada/q1k/experimental/derivatives/pylossless/derivatives/sync_loss/sub-0068S1/ses-01/eeg/sub-0068S1_ses-01_task-TO_run-1_eeg.edf, File Name: sub-0068S1_ses-01_task-TO_run-1_eeg.edf\n",
      "File Path: /project/def-emayada/q1k/experimental/derivatives/pylossless/derivatives/sync_loss/sub-1073M1/ses-01/eeg/sub-1073M1_ses-01_task-TO_run-1_eeg.edf, File Name: sub-1073M1_ses-01_task-TO_run-1_eeg.edf\n",
      "File Path: /project/def-emayada/q1k/experimental/derivatives/pylossless/derivatives/sync_loss/sub-0183P/ses-01/eeg/sub-0183P_ses-01_task-TO_run-1_eeg.edf, File Name: sub-0183P_ses-01_task-TO_run-1_eeg.edf\n",
      "File Path: /project/def-emayada/q1k/experimental/derivatives/pylossless/derivatives/sync_loss/sub-1061P/ses-01/eeg/sub-1061P_ses-01_task-TO_run-1_eeg.edf, File Name: sub-1061P_ses-01_task-TO_run-1_eeg.edf\n",
      "File Path: /project/def-emayada/q1k/experimental/derivatives/pylossless/derivatives/sync_loss/sub-1052M1/ses-01/eeg/sub-1052M1_ses-01_task-TO_run-1_eeg.edf, File Name: sub-1052M1_ses-01_task-TO_run-1_eeg.edf\n",
      "File Path: /project/def-emayada/q1k/experimental/derivatives/pylossless/derivatives/sync_loss/sub-0050M1/ses-01/eeg/sub-0050M1_ses-01_task-TO_run-1_eeg.edf, File Name: sub-0050M1_ses-01_task-TO_run-1_eeg.edf\n",
      "File Path: /project/def-emayada/q1k/experimental/derivatives/pylossless/derivatives/sync_loss/sub-1042M1/ses-01/eeg/sub-1042M1_ses-01_task-TO_run-1_eeg.edf, File Name: sub-1042M1_ses-01_task-TO_run-1_eeg.edf\n",
      "File Path: /project/def-emayada/q1k/experimental/derivatives/pylossless/derivatives/sync_loss/sub-0281M1/ses-01/eeg/sub-0281M1_ses-01_task-TO_run-1_eeg.edf, File Name: sub-0281M1_ses-01_task-TO_run-1_eeg.edf\n",
      "File Path: /project/def-emayada/q1k/experimental/derivatives/pylossless/derivatives/sync_loss/sub-1109M1/ses-01/eeg/sub-1109M1_ses-01_task-TO_run-1_eeg.edf, File Name: sub-1109M1_ses-01_task-TO_run-1_eeg.edf\n",
      "File Path: /project/def-emayada/q1k/experimental/derivatives/pylossless/derivatives/sync_loss/sub-1028S1/ses-01/eeg/sub-1028S1_ses-01_task-TO_run-1_eeg.edf, File Name: sub-1028S1_ses-01_task-TO_run-1_eeg.edf\n",
      "File Path: /project/def-emayada/q1k/experimental/derivatives/pylossless/derivatives/sync_loss/sub-0162M1/ses-01/eeg/sub-0162M1_ses-01_task-TO_run-1_eeg.edf, File Name: sub-0162M1_ses-01_task-TO_run-1_eeg.edf\n",
      "File Path: /project/def-emayada/q1k/experimental/derivatives/pylossless/derivatives/sync_loss/sub-1009S1/ses-01/eeg/sub-1009S1_ses-01_task-TO_run-1_eeg.edf, File Name: sub-1009S1_ses-01_task-TO_run-1_eeg.edf\n",
      "File Path: /project/def-emayada/q1k/experimental/derivatives/pylossless/derivatives/sync_loss/sub-0159M1/ses-01/eeg/sub-0159M1_ses-01_task-TO_run-1_eeg.edf, File Name: sub-0159M1_ses-01_task-TO_run-1_eeg.edf\n",
      "File Path: /project/def-emayada/q1k/experimental/derivatives/pylossless/derivatives/sync_loss/sub-1080F1/ses-01/eeg/sub-1080F1_ses-01_task-TO_run-1_eeg.edf, File Name: sub-1080F1_ses-01_task-TO_run-1_eeg.edf\n",
      "File Path: /project/def-emayada/q1k/experimental/derivatives/pylossless/derivatives/sync_loss/sub-0181F1/ses-01/eeg/sub-0181F1_ses-01_task-TO_run-1_eeg.edf, File Name: sub-0181F1_ses-01_task-TO_run-1_eeg.edf\n",
      "File Path: /project/def-emayada/q1k/experimental/derivatives/pylossless/derivatives/sync_loss/sub-1121S1/ses-01/eeg/sub-1121S1_ses-01_task-TO_run-1_eeg.edf, File Name: sub-1121S1_ses-01_task-TO_run-1_eeg.edf\n",
      "File Path: /project/def-emayada/q1k/experimental/derivatives/pylossless/derivatives/sync_loss/sub-1052F1/ses-01/eeg/sub-1052F1_ses-01_task-TO_run-1_eeg.edf, File Name: sub-1052F1_ses-01_task-TO_run-1_eeg.edf\n",
      "File Path: /project/def-emayada/q1k/experimental/derivatives/pylossless/derivatives/sync_loss/sub-1121P/ses-01/eeg/sub-1121P_ses-01_task-TO_run-1_eeg.edf, File Name: sub-1121P_ses-01_task-TO_run-1_eeg.edf\n",
      "File Path: /project/def-emayada/q1k/experimental/derivatives/pylossless/derivatives/sync_loss/sub-1067M1/ses-01/eeg/sub-1067M1_ses-01_task-TO_run-1_eeg.edf, File Name: sub-1067M1_ses-01_task-TO_run-1_eeg.edf\n",
      "File Path: /project/def-emayada/q1k/experimental/derivatives/pylossless/derivatives/sync_loss/sub-1083S1/ses-01/eeg/sub-1083S1_ses-01_task-TO_run-1_eeg.edf, File Name: sub-1083S1_ses-01_task-TO_run-1_eeg.edf\n",
      "File Path: /project/def-emayada/q1k/experimental/derivatives/pylossless/derivatives/sync_loss/sub-0216P/ses-01/eeg/sub-0216P_ses-01_task-TO_run-1_eeg.edf, File Name: sub-0216P_ses-01_task-TO_run-1_eeg.edf\n",
      "File Path: /project/def-emayada/q1k/experimental/derivatives/pylossless/derivatives/sync_loss/sub-1118P/ses-01/eeg/sub-1118P_ses-01_task-TO_run-1_eeg.edf, File Name: sub-1118P_ses-01_task-TO_run-1_eeg.edf\n",
      "File Path: /project/def-emayada/q1k/experimental/derivatives/pylossless/derivatives/sync_loss/sub-0157M1/ses-01/eeg/sub-0157M1_ses-01_task-TO_run-1_eeg.edf, File Name: sub-0157M1_ses-01_task-TO_run-1_eeg.edf\n",
      "File Path: /project/def-emayada/q1k/experimental/derivatives/pylossless/derivatives/sync_loss/sub-1093S1/ses-01/eeg/sub-1093S1_ses-01_task-TO_run-1_eeg.edf, File Name: sub-1093S1_ses-01_task-TO_run-1_eeg.edf\n",
      "File Path: /project/def-emayada/q1k/experimental/derivatives/pylossless/derivatives/sync_loss/sub-1018P/ses-01/eeg/sub-1018P_ses-01_task-TO_run-1_eeg.edf, File Name: sub-1018P_ses-01_task-TO_run-1_eeg.edf\n",
      "File Path: /project/def-emayada/q1k/experimental/derivatives/pylossless/derivatives/sync_loss/sub-0128P/ses-01/eeg/sub-0128P_ses-01_task-TO_run-1_eeg.edf, File Name: sub-0128P_ses-01_task-TO_run-1_eeg.edf\n",
      "File Path: /project/def-emayada/q1k/experimental/derivatives/pylossless/derivatives/sync_loss/sub-1089P/ses-01/eeg/sub-1089P_ses-01_task-TO_run-1_eeg.edf, File Name: sub-1089P_ses-01_task-TO_run-1_eeg.edf\n",
      "File Path: /project/def-emayada/q1k/experimental/derivatives/pylossless/derivatives/sync_loss/sub-1021F1/ses-01/eeg/sub-1021F1_ses-01_task-TO_run-1_eeg.edf, File Name: sub-1021F1_ses-01_task-TO_run-1_eeg.edf\n",
      "File Path: /project/def-emayada/q1k/experimental/derivatives/pylossless/derivatives/sync_loss/sub-1080M1/ses-01/eeg/sub-1080M1_ses-01_task-TO_run-1_eeg.edf, File Name: sub-1080M1_ses-01_task-TO_run-1_eeg.edf\n",
      "File Path: /project/def-emayada/q1k/experimental/derivatives/pylossless/derivatives/sync_loss/sub-1045S1/ses-01/eeg/sub-1045S1_ses-01_task-TO_run-1_eeg.edf, File Name: sub-1045S1_ses-01_task-TO_run-1_eeg.edf\n",
      "File Path: /project/def-emayada/q1k/experimental/derivatives/pylossless/derivatives/sync_loss/sub-0181M1/ses-01/eeg/sub-0181M1_ses-01_task-TO_run-1_eeg.edf, File Name: sub-0181M1_ses-01_task-TO_run-1_eeg.edf\n",
      "File Path: /project/def-emayada/q1k/experimental/derivatives/pylossless/derivatives/sync_loss/sub-1021P/ses-01/eeg/sub-1021P_ses-01_task-TO_run-1_eeg.edf, File Name: sub-1021P_ses-01_task-TO_run-1_eeg.edf\n",
      "File Path: /project/def-emayada/q1k/experimental/derivatives/pylossless/derivatives/sync_loss/sub-1089S1/ses-01/eeg/sub-1089S1_ses-01_task-TO_run-1_eeg.edf, File Name: sub-1089S1_ses-01_task-TO_run-1_eeg.edf\n",
      "File Path: /project/def-emayada/q1k/experimental/derivatives/pylossless/derivatives/sync_loss/sub-1109F1/ses-01/eeg/sub-1109F1_ses-01_task-TO_run-1_eeg.edf, File Name: sub-1109F1_ses-01_task-TO_run-1_eeg.edf\n",
      "File Path: /project/def-emayada/q1k/experimental/derivatives/pylossless/derivatives/sync_loss/sub-1042F1/ses-01/eeg/sub-1042F1_ses-01_task-TO_run-1_eeg.edf, File Name: sub-1042F1_ses-01_task-TO_run-1_eeg.edf\n",
      "File Path: /project/def-emayada/q1k/experimental/derivatives/pylossless/derivatives/sync_loss/sub-1143P/ses-01/eeg/sub-1143P_ses-01_task-TO_run-1_eeg.edf, File Name: sub-1143P_ses-01_task-TO_run-1_eeg.edf\n",
      "File Path: /project/def-emayada/q1k/experimental/derivatives/pylossless/derivatives/sync_loss/sub-0064P/ses-01/eeg/sub-0064P_ses-01_task-TO_run-1_eeg.edf, File Name: sub-0064P_ses-01_task-TO_run-1_eeg.edf\n",
      "File Path: /project/def-emayada/q1k/experimental/derivatives/pylossless/derivatives/sync_loss/sub-0200M1/ses-01/eeg/sub-0200M1_ses-01_task-TO_run-1_eeg.edf, File Name: sub-0200M1_ses-01_task-TO_run-1_eeg.edf\n",
      "File Path: /project/def-emayada/q1k/experimental/derivatives/pylossless/derivatives/sync_loss/sub-1134S1/ses-01/eeg/sub-1134S1_ses-01_task-TO_run-1_eeg.edf, File Name: sub-1134S1_ses-01_task-TO_run-1_eeg.edf\n",
      "File Path: /project/def-emayada/q1k/experimental/derivatives/pylossless/derivatives/sync_loss/sub-1106M1/ses-01/eeg/sub-1106M1_ses-01_task-TO_run-1_eeg.edf, File Name: sub-1106M1_ses-01_task-TO_run-1_eeg.edf\n",
      "File Path: /project/def-emayada/q1k/experimental/derivatives/pylossless/derivatives/sync_loss/sub-1061S3/ses-01/eeg/sub-1061S3_ses-01_task-TO_run-1_eeg.edf, File Name: sub-1061S3_ses-01_task-TO_run-1_eeg.edf\n",
      "File Path: /project/def-emayada/q1k/experimental/derivatives/pylossless/derivatives/sync_loss/sub-1001F1/ses-01/eeg/sub-1001F1_ses-01_task-TO_run-1_eeg.edf, File Name: sub-1001F1_ses-01_task-TO_run-1_eeg.edf\n",
      "File Path: /project/def-emayada/q1k/experimental/derivatives/pylossless/derivatives/sync_loss/sub-0064M1/ses-01/eeg/sub-0064M1_ses-01_task-TO_run-1_eeg.edf, File Name: sub-0064M1_ses-01_task-TO_run-1_eeg.edf\n",
      "File Path: /project/def-emayada/q1k/experimental/derivatives/pylossless/derivatives/sync_loss/sub-1026P/ses-01/eeg/sub-1026P_ses-01_task-TO_run-1_eeg.edf, File Name: sub-1026P_ses-01_task-TO_run-1_eeg.edf\n",
      "File Path: /project/def-emayada/q1k/experimental/derivatives/pylossless/derivatives/sync_loss/sub-1078F1/ses-01/eeg/sub-1078F1_ses-01_task-TO_run-1_eeg.edf, File Name: sub-1078F1_ses-01_task-TO_run-1_eeg.edf\n",
      "File Path: /project/def-emayada/q1k/experimental/derivatives/pylossless/derivatives/sync_loss/sub-1057M1/ses-01/eeg/sub-1057M1_ses-01_task-TO_run-1_eeg.edf, File Name: sub-1057M1_ses-01_task-TO_run-1_eeg.edf\n",
      "File Path: /project/def-emayada/q1k/experimental/derivatives/pylossless/derivatives/sync_loss/sub-0183S1/ses-01/eeg/sub-0183S1_ses-01_task-TO_run-1_eeg.edf, File Name: sub-0183S1_ses-01_task-TO_run-1_eeg.edf\n",
      "File Path: /project/def-emayada/q1k/experimental/derivatives/pylossless/derivatives/sync_loss/sub-1147S1/ses-01/eeg/sub-1147S1_ses-01_task-TO_run-1_eeg.edf, File Name: sub-1147S1_ses-01_task-TO_run-1_eeg.edf\n",
      "File Path: /project/def-emayada/q1k/experimental/derivatives/pylossless/derivatives/sync_loss/sub-1118F1/ses-01/eeg/sub-1118F1_ses-01_task-TO_run-1_eeg.edf, File Name: sub-1118F1_ses-01_task-TO_run-1_eeg.edf\n",
      "File Path: /project/def-emayada/q1k/experimental/derivatives/pylossless/derivatives/sync_loss/sub-1024M1/ses-01/eeg/sub-1024M1_ses-01_task-TO_run-1_eeg.edf, File Name: sub-1024M1_ses-01_task-TO_run-1_eeg.edf\n",
      "File Path: /project/def-emayada/q1k/experimental/derivatives/pylossless/derivatives/sync_loss/sub-0248M1/ses-01/eeg/sub-0248M1_ses-01_task-TO_run-1_eeg.edf, File Name: sub-0248M1_ses-01_task-TO_run-1_eeg.edf\n",
      "File Path: /project/def-emayada/q1k/experimental/derivatives/pylossless/derivatives/sync_loss/sub-1037P/ses-01/eeg/sub-1037P_ses-01_task-TO_run-1_eeg.edf, File Name: sub-1037P_ses-01_task-TO_run-1_eeg.edf\n",
      "File Path: /project/def-emayada/q1k/experimental/derivatives/pylossless/derivatives/sync_loss/sub-0043F1/ses-01/eeg/sub-0043F1_ses-01_task-TO_run-1_eeg.edf, File Name: sub-0043F1_ses-01_task-TO_run-1_eeg.edf\n",
      "File Path: /project/def-emayada/q1k/experimental/derivatives/pylossless/derivatives/sync_loss/sub-0196P/ses-01/eeg/sub-0196P_ses-01_task-TO_run-1_eeg.edf, File Name: sub-0196P_ses-01_task-TO_run-1_eeg.edf\n",
      "File Path: /project/def-emayada/q1k/experimental/derivatives/pylossless/derivatives/sync_loss/sub-0181P/ses-01/eeg/sub-0181P_ses-01_task-TO_run-1_eeg.edf, File Name: sub-0181P_ses-01_task-TO_run-1_eeg.edf\n",
      "File Path: /project/def-emayada/q1k/experimental/derivatives/pylossless/derivatives/sync_loss/sub-1026M1/ses-01/eeg/sub-1026M1_ses-01_task-TO_run-1_eeg.edf, File Name: sub-1026M1_ses-01_task-TO_run-1_eeg.edf\n",
      "File Path: /project/def-emayada/q1k/experimental/derivatives/pylossless/derivatives/sync_loss/sub-0104C1/ses-01/eeg/sub-0104C1_ses-01_task-TO_run-1_eeg.edf, File Name: sub-0104C1_ses-01_task-TO_run-1_eeg.edf\n",
      "File Path: /project/def-emayada/q1k/experimental/derivatives/pylossless/derivatives/sync_loss/sub-0171F1/ses-01/eeg/sub-0171F1_ses-01_task-TO_run-1_eeg.edf, File Name: sub-0171F1_ses-01_task-TO_run-1_eeg.edf\n",
      "File Path: /project/def-emayada/q1k/experimental/derivatives/pylossless/derivatives/sync_loss/sub-0186F1/ses-01/eeg/sub-0186F1_ses-01_task-TO_run-1_eeg.edf, File Name: sub-0186F1_ses-01_task-TO_run-1_eeg.edf\n",
      "File Path: /project/def-emayada/q1k/experimental/derivatives/pylossless/derivatives/sync_loss/sub-1114M1/ses-01/eeg/sub-1114M1_ses-01_task-TO_run-1_eeg.edf, File Name: sub-1114M1_ses-01_task-TO_run-1_eeg.edf\n",
      "File Path: /project/def-emayada/q1k/experimental/derivatives/pylossless/derivatives/sync_loss/sub-1106P/ses-01/eeg/sub-1106P_ses-01_task-TO_run-1_eeg.edf, File Name: sub-1106P_ses-01_task-TO_run-1_eeg.edf\n",
      "File Path: /project/def-emayada/q1k/experimental/derivatives/pylossless/derivatives/sync_loss/sub-1121F1/ses-01/eeg/sub-1121F1_ses-01_task-TO_run-1_eeg.edf, File Name: sub-1121F1_ses-01_task-TO_run-1_eeg.edf\n",
      "File Path: /project/def-emayada/q1k/experimental/derivatives/pylossless/derivatives/sync_loss/sub-0068F1/ses-01/eeg/sub-0068F1_ses-01_task-TO_run-1_eeg.edf, File Name: sub-0068F1_ses-01_task-TO_run-1_eeg.edf\n",
      "File Path: /project/def-emayada/q1k/experimental/derivatives/pylossless/derivatives/sync_loss/sub-1067S1/ses-01/eeg/sub-1067S1_ses-01_task-TO_run-1_eeg.edf, File Name: sub-1067S1_ses-01_task-TO_run-1_eeg.edf\n",
      "File Path: /project/def-emayada/q1k/experimental/derivatives/pylossless/derivatives/sync_loss/sub-1028P/ses-01/eeg/sub-1028P_ses-01_task-TO_run-1_eeg.edf, File Name: sub-1028P_ses-01_task-TO_run-1_eeg.edf\n",
      "File Path: /project/def-emayada/q1k/experimental/derivatives/pylossless/derivatives/sync_loss/sub-0218M1/ses-01/eeg/sub-0218M1_ses-01_task-TO_run-1_eeg.edf, File Name: sub-0218M1_ses-01_task-TO_run-1_eeg.edf\n",
      "File Path: /project/def-emayada/q1k/experimental/derivatives/pylossless/derivatives/sync_loss/sub-1045P/ses-01/eeg/sub-1045P_ses-01_task-TO_run-1_eeg.edf, File Name: sub-1045P_ses-01_task-TO_run-1_eeg.edf\n",
      "File Path: /project/def-emayada/q1k/experimental/derivatives/pylossless/derivatives/sync_loss/sub-1006P/ses-01/eeg/sub-1006P_ses-01_task-TO_run-1_eeg.edf, File Name: sub-1006P_ses-01_task-TO_run-1_eeg.edf\n",
      "File Path: /project/def-emayada/q1k/experimental/derivatives/pylossless/derivatives/sync_loss/sub-1093S2/ses-01/eeg/sub-1093S2_ses-01_task-TO_run-1_eeg.edf, File Name: sub-1093S2_ses-01_task-TO_run-1_eeg.edf\n",
      "File Path: /project/def-emayada/q1k/experimental/derivatives/pylossless/derivatives/sync_loss/sub-0162P/ses-01/eeg/sub-0162P_ses-01_task-TO_run-1_eeg.edf, File Name: sub-0162P_ses-01_task-TO_run-1_eeg.edf\n",
      "File Path: /project/def-emayada/q1k/experimental/derivatives/pylossless/derivatives/sync_loss/sub-1080P/ses-01/eeg/sub-1080P_ses-01_task-TO_run-1_eeg.edf, File Name: sub-1080P_ses-01_task-TO_run-1_eeg.edf\n",
      "File Path: /project/def-emayada/q1k/experimental/derivatives/pylossless/derivatives/sync_loss/sub-1052P/ses-01/eeg/sub-1052P_ses-01_task-TO_run-1_eeg.edf, File Name: sub-1052P_ses-01_task-TO_run-1_eeg.edf\n",
      "File Path: /project/def-emayada/q1k/experimental/derivatives/pylossless/derivatives/sync_loss/sub-0200P/ses-01/eeg/sub-0200P_ses-01_task-TO_run-1_eeg.edf, File Name: sub-0200P_ses-01_task-TO_run-1_eeg.edf\n",
      "File Path: /project/def-emayada/q1k/experimental/derivatives/pylossless/derivatives/sync_loss/sub-1109P/ses-01/eeg/sub-1109P_ses-01_task-TO_run-1_eeg.edf, File Name: sub-1109P_ses-01_task-TO_run-1_eeg.edf\n",
      "File Path: /project/def-emayada/q1k/experimental/derivatives/pylossless/derivatives/sync_loss/sub-0281P/ses-01/eeg/sub-0281P_ses-01_task-TO_run-1_eeg.edf, File Name: sub-0281P_ses-01_task-TO_run-1_eeg.edf\n",
      "File Path: /project/def-emayada/q1k/experimental/derivatives/pylossless/derivatives/sync_loss/sub-1061F1/ses-01/eeg/sub-1061F1_ses-01_task-TO_run-1_eeg.edf, File Name: sub-1061F1_ses-01_task-TO_run-1_eeg.edf\n",
      "File Path: /project/def-emayada/q1k/experimental/derivatives/pylossless/derivatives/sync_loss/sub-0248S1/ses-01/eeg/sub-0248S1_ses-01_task-TO_run-1_eeg.edf, File Name: sub-0248S1_ses-01_task-TO_run-1_eeg.edf\n",
      "File Path: /project/def-emayada/q1k/experimental/derivatives/pylossless/derivatives/sync_loss/sub-1042P/ses-01/eeg/sub-1042P_ses-01_task-TO_run-1_eeg.edf, File Name: sub-1042P_ses-01_task-TO_run-1_eeg.edf\n",
      "File Path: /project/def-emayada/q1k/experimental/derivatives/pylossless/derivatives/sync_loss/sub-1001P/ses-01/eeg/sub-1001P_ses-01_task-TO_run-1_eeg.edf, File Name: sub-1001P_ses-01_task-TO_run-1_eeg.edf\n",
      "File Path: /project/def-emayada/q1k/experimental/derivatives/pylossless/derivatives/sync_loss/sub-0275P/ses-01/eeg/sub-0275P_ses-01_task-TO_run-1_eeg.edf, File Name: sub-0275P_ses-01_task-TO_run-1_eeg.edf\n",
      "File Path: /project/def-emayada/q1k/experimental/derivatives/pylossless/derivatives/sync_loss/sub-1147S2/ses-01/eeg/sub-1147S2_ses-01_task-TO_run-1_eeg.edf, File Name: sub-1147S2_ses-01_task-TO_run-1_eeg.edf\n",
      "File Path: /project/def-emayada/q1k/experimental/derivatives/pylossless/derivatives/sync_loss/sub-0064S1/ses-01/eeg/sub-0064S1_ses-01_task-TO_run-1_eeg.edf, File Name: sub-0064S1_ses-01_task-TO_run-1_eeg.edf\n",
      "File Path: /project/def-emayada/q1k/experimental/derivatives/pylossless/derivatives/sync_loss/sub-1101P/ses-01/eeg/sub-1101P_ses-01_task-TO_run-1_eeg.edf, File Name: sub-1101P_ses-01_task-TO_run-1_eeg.edf\n",
      "File Path: /project/def-emayada/q1k/experimental/derivatives/pylossless/derivatives/sync_loss/sub-0218P/ses-01/eeg/sub-0218P_ses-01_task-TO_run-1_eeg.edf, File Name: sub-0218P_ses-01_task-TO_run-1_eeg.edf\n",
      "File Path: /project/def-emayada/q1k/experimental/derivatives/pylossless/derivatives/sync_loss/sub-1006M1/ses-01/eeg/sub-1006M1_ses-01_task-TO_run-1_eeg.edf, File Name: sub-1006M1_ses-01_task-TO_run-1_eeg.edf\n",
      "File Path: /project/def-emayada/q1k/experimental/derivatives/pylossless/derivatives/sync_loss/sub-1009P/ses-01/eeg/sub-1009P_ses-01_task-TO_run-1_eeg.edf, File Name: sub-1009P_ses-01_task-TO_run-1_eeg.edf\n",
      "File Path: /project/def-emayada/q1k/experimental/derivatives/pylossless/derivatives/sync_loss/sub-0200S1/ses-01/eeg/sub-0200S1_ses-01_task-TO_run-1_eeg.edf, File Name: sub-0200S1_ses-01_task-TO_run-1_eeg.edf\n",
      "File Path: /project/def-emayada/q1k/experimental/derivatives/pylossless/derivatives/sync_loss/sub-1134M1/ses-01/eeg/sub-1134M1_ses-01_task-TO_run-1_eeg.edf, File Name: sub-1134M1_ses-01_task-TO_run-1_eeg.edf\n",
      "File Path: /project/def-emayada/q1k/experimental/derivatives/pylossless/derivatives/sync_loss/sub-1073P/ses-01/eeg/sub-1073P_ses-01_task-TO_run-1_eeg.edf, File Name: sub-1073P_ses-01_task-TO_run-1_eeg.edf\n",
      "File Path: /project/def-emayada/q1k/experimental/derivatives/pylossless/derivatives/sync_loss/sub-1143F1/ses-01/eeg/sub-1143F1_ses-01_task-TO_run-1_eeg.edf, File Name: sub-1143F1_ses-01_task-TO_run-1_eeg.edf\n",
      "File Path: /project/def-emayada/q1k/experimental/derivatives/pylossless/derivatives/sync_loss/sub-0154P/ses-01/eeg/sub-0154P_ses-01_task-TO_run-1_eeg.edf, File Name: sub-0154P_ses-01_task-TO_run-1_eeg.edf\n",
      "existing output epoch files:\n",
      "File Path: /project/def-emayada/q1k/experimental/derivatives/pylossless/derivatives/sync_loss/derivatives/segment/epoch_fif_files/TO/sub-0162M1_ses-01_task-TO_run-1_eeg_epo.fif, File Name: sub-0162M1_ses-01_task-TO_run-1_eeg_epo.fif\n",
      "File Path: /project/def-emayada/q1k/experimental/derivatives/pylossless/derivatives/sync_loss/derivatives/segment/epoch_fif_files/TO/sub-1061M_ses-01_task-TO_run-1_eeg_epo.fif, File Name: sub-1061M_ses-01_task-TO_run-1_eeg_epo.fif\n",
      "File Path: /project/def-emayada/q1k/experimental/derivatives/pylossless/derivatives/sync_loss/derivatives/segment/epoch_fif_files/TO/sub-1080M1_ses-01_task-TO_run-1_eeg_epo.fif, File Name: sub-1080M1_ses-01_task-TO_run-1_eeg_epo.fif\n",
      "File Path: /project/def-emayada/q1k/experimental/derivatives/pylossless/derivatives/sync_loss/derivatives/segment/epoch_fif_files/TO/sub-0200S1_ses-01_task-TO_run-1_eeg_epo.fif, File Name: sub-0200S1_ses-01_task-TO_run-1_eeg_epo.fif\n",
      "File Path: /project/def-emayada/q1k/experimental/derivatives/pylossless/derivatives/sync_loss/derivatives/segment/epoch_fif_files/TO/sub-0050P_ses-01_task-TO_run-1_eeg_epo.fif, File Name: sub-0050P_ses-01_task-TO_run-1_eeg_epo.fif\n",
      "File Path: /project/def-emayada/q1k/experimental/derivatives/pylossless/derivatives/sync_loss/derivatives/segment/epoch_fif_files/TO/sub-1028S1_ses-01_task-TO_run-1_eeg_epo.fif, File Name: sub-1028S1_ses-01_task-TO_run-1_eeg_epo.fif\n",
      "File Path: /project/def-emayada/q1k/experimental/derivatives/pylossless/derivatives/sync_loss/derivatives/segment/epoch_fif_files/TO/sub-0104P_ses-01_task-TO_run-1_eeg_epo.fif, File Name: sub-0104P_ses-01_task-TO_run-1_eeg_epo.fif\n",
      "File Path: /project/def-emayada/q1k/experimental/derivatives/pylossless/derivatives/sync_loss/derivatives/segment/epoch_fif_files/TO/sub-1109M1_ses-01_task-TO_run-1_eeg_epo.fif, File Name: sub-1109M1_ses-01_task-TO_run-1_eeg_epo.fif\n",
      "File Path: /project/def-emayada/q1k/experimental/derivatives/pylossless/derivatives/sync_loss/derivatives/segment/epoch_fif_files/TO/sub-1083S1_ses-01_task-TO_run-1_eeg_epo.fif, File Name: sub-1083S1_ses-01_task-TO_run-1_eeg_epo.fif\n",
      "File Path: /project/def-emayada/q1k/experimental/derivatives/pylossless/derivatives/sync_loss/derivatives/segment/epoch_fif_files/TO/sub-1162M1_ses-01_task-TO_run-1_eeg_epo.fif, File Name: sub-1162M1_ses-01_task-TO_run-1_eeg_epo.fif\n",
      "File Path: /project/def-emayada/q1k/experimental/derivatives/pylossless/derivatives/sync_loss/derivatives/segment/epoch_fif_files/TO/sub-0068S1_ses-01_task-TO_run-1_eeg_epo.fif, File Name: sub-0068S1_ses-01_task-TO_run-1_eeg_epo.fif\n",
      "File Path: /project/def-emayada/q1k/experimental/derivatives/pylossless/derivatives/sync_loss/derivatives/segment/epoch_fif_files/TO/sub-1001F1_ses-01_task-TO_run-1_eeg_epo.fif, File Name: sub-1001F1_ses-01_task-TO_run-1_eeg_epo.fif\n",
      "File Path: /project/def-emayada/q1k/experimental/derivatives/pylossless/derivatives/sync_loss/derivatives/segment/epoch_fif_files/TO/sub-1042P_ses-01_task-TO_run-1_eeg_epo.fif, File Name: sub-1042P_ses-01_task-TO_run-1_eeg_epo.fif\n",
      "File Path: /project/def-emayada/q1k/experimental/derivatives/pylossless/derivatives/sync_loss/derivatives/segment/epoch_fif_files/TO/sub-0196S2_ses-01_task-TO_run-1_eeg_epo.fif, File Name: sub-0196S2_ses-01_task-TO_run-1_eeg_epo.fif\n",
      "File Path: /project/def-emayada/q1k/experimental/derivatives/pylossless/derivatives/sync_loss/derivatives/segment/epoch_fif_files/TO/sub-1121S1_ses-01_task-TO_run-1_eeg_epo.fif, File Name: sub-1121S1_ses-01_task-TO_run-1_eeg_epo.fif\n",
      "File Path: /project/def-emayada/q1k/experimental/derivatives/pylossless/derivatives/sync_loss/derivatives/segment/epoch_fif_files/TO/sub-1037F1_ses-01_task-TO_run-1_eeg_epo.fif, File Name: sub-1037F1_ses-01_task-TO_run-1_eeg_epo.fif\n",
      "File Path: /project/def-emayada/q1k/experimental/derivatives/pylossless/derivatives/sync_loss/derivatives/segment/epoch_fif_files/TO/sub-1040M1_ses-01_task-TO_run-1_eeg_epo.fif, File Name: sub-1040M1_ses-01_task-TO_run-1_eeg_epo.fif\n",
      "File Path: /project/def-emayada/q1k/experimental/derivatives/pylossless/derivatives/sync_loss/derivatives/segment/epoch_fif_files/TO/sub-1114M1_ses-01_task-TO_run-1_eeg_epo.fif, File Name: sub-1114M1_ses-01_task-TO_run-1_eeg_epo.fif\n",
      "File Path: /project/def-emayada/q1k/experimental/derivatives/pylossless/derivatives/sync_loss/derivatives/segment/epoch_fif_files/TO/sub-1037P_ses-01_task-TO_run-1_eeg_epo.fif, File Name: sub-1037P_ses-01_task-TO_run-1_eeg_epo.fif\n",
      "File Path: /project/def-emayada/q1k/experimental/derivatives/pylossless/derivatives/sync_loss/derivatives/segment/epoch_fif_files/TO/sub-0183P_ses-01_task-TO_run-1_eeg_epo.fif, File Name: sub-0183P_ses-01_task-TO_run-1_eeg_epo.fif\n",
      "File Path: /project/def-emayada/q1k/experimental/derivatives/pylossless/derivatives/sync_loss/derivatives/segment/epoch_fif_files/TO/sub-1009M1_ses-01_task-TO_run-1_eeg_epo.fif, File Name: sub-1009M1_ses-01_task-TO_run-1_eeg_epo.fif\n",
      "File Path: /project/def-emayada/q1k/experimental/derivatives/pylossless/derivatives/sync_loss/derivatives/segment/epoch_fif_files/TO/sub-1052F1_ses-01_task-TO_run-1_eeg_epo.fif, File Name: sub-1052F1_ses-01_task-TO_run-1_eeg_epo.fif\n",
      "File Path: /project/def-emayada/q1k/experimental/derivatives/pylossless/derivatives/sync_loss/derivatives/segment/epoch_fif_files/TO/sub-1026P_ses-01_task-TO_run-1_eeg_epo.fif, File Name: sub-1026P_ses-01_task-TO_run-1_eeg_epo.fif\n",
      "File Path: /project/def-emayada/q1k/experimental/derivatives/pylossless/derivatives/sync_loss/derivatives/segment/epoch_fif_files/TO/sub-1106F1_ses-01_task-TO_run-1_eeg_epo.fif, File Name: sub-1106F1_ses-01_task-TO_run-1_eeg_epo.fif\n",
      "File Path: /project/def-emayada/q1k/experimental/derivatives/pylossless/derivatives/sync_loss/derivatives/segment/epoch_fif_files/TO/sub-0186F1_ses-01_task-TO_run-1_eeg_epo.fif, File Name: sub-0186F1_ses-01_task-TO_run-1_eeg_epo.fif\n",
      "File Path: /project/def-emayada/q1k/experimental/derivatives/pylossless/derivatives/sync_loss/derivatives/segment/epoch_fif_files/TO/sub-0183S1_ses-01_task-TO_run-1_eeg_epo.fif, File Name: sub-0183S1_ses-01_task-TO_run-1_eeg_epo.fif\n",
      "File Path: /project/def-emayada/q1k/experimental/derivatives/pylossless/derivatives/sync_loss/derivatives/segment/epoch_fif_files/TO/sub-0171M1_ses-01_task-TO_run-1_eeg_epo.fif, File Name: sub-0171M1_ses-01_task-TO_run-1_eeg_epo.fif\n",
      "File Path: /project/def-emayada/q1k/experimental/derivatives/pylossless/derivatives/sync_loss/derivatives/segment/epoch_fif_files/TO/sub-0200P_ses-01_task-TO_run-1_eeg_epo.fif, File Name: sub-0200P_ses-01_task-TO_run-1_eeg_epo.fif\n",
      "File Path: /project/def-emayada/q1k/experimental/derivatives/pylossless/derivatives/sync_loss/derivatives/segment/epoch_fif_files/TO/sub-1102P_ses-01_task-TO_run-1_eeg_epo.fif, File Name: sub-1102P_ses-01_task-TO_run-1_eeg_epo.fif\n",
      "File Path: /project/def-emayada/q1k/experimental/derivatives/pylossless/derivatives/sync_loss/derivatives/segment/epoch_fif_files/TO/sub-0281P_ses-01_task-TO_run-1_eeg_epo.fif, File Name: sub-0281P_ses-01_task-TO_run-1_eeg_epo.fif\n",
      "File Path: /project/def-emayada/q1k/experimental/derivatives/pylossless/derivatives/sync_loss/derivatives/segment/epoch_fif_files/TO/sub-1102S2_ses-01_task-TO_run-1_eeg_epo.fif, File Name: sub-1102S2_ses-01_task-TO_run-1_eeg_epo.fif\n",
      "File Path: /project/def-emayada/q1k/experimental/derivatives/pylossless/derivatives/sync_loss/derivatives/segment/epoch_fif_files/TO/sub-0275P_ses-01_task-TO_run-1_eeg_epo.fif, File Name: sub-0275P_ses-01_task-TO_run-1_eeg_epo.fif\n",
      "File Path: /project/def-emayada/q1k/experimental/derivatives/pylossless/derivatives/sync_loss/derivatives/segment/epoch_fif_files/TO/sub-1143S1_ses-01_task-TO_run-1_eeg_epo.fif, File Name: sub-1143S1_ses-01_task-TO_run-1_eeg_epo.fif\n",
      "File Path: /project/def-emayada/q1k/experimental/derivatives/pylossless/derivatives/sync_loss/derivatives/segment/epoch_fif_files/TO/sub-0218P_ses-01_task-TO_run-1_eeg_epo.fif, File Name: sub-0218P_ses-01_task-TO_run-1_eeg_epo.fif\n",
      "File Path: /project/def-emayada/q1k/experimental/derivatives/pylossless/derivatives/sync_loss/derivatives/segment/epoch_fif_files/TO/sub-1101P_ses-01_task-TO_run-1_eeg_epo.fif, File Name: sub-1101P_ses-01_task-TO_run-1_eeg_epo.fif\n",
      "File Path: /project/def-emayada/q1k/experimental/derivatives/pylossless/derivatives/sync_loss/derivatives/segment/epoch_fif_files/TO/sub-0181F1_ses-01_task-TO_run-1_eeg_epo.fif, File Name: sub-0181F1_ses-01_task-TO_run-1_eeg_epo.fif\n",
      "File Path: /project/def-emayada/q1k/experimental/derivatives/pylossless/derivatives/sync_loss/derivatives/segment/epoch_fif_files/TO/sub-1121M1_ses-01_task-TO_run-1_eeg_epo.fif, File Name: sub-1121M1_ses-01_task-TO_run-1_eeg_epo.fif\n",
      "File Path: /project/def-emayada/q1k/experimental/derivatives/pylossless/derivatives/sync_loss/derivatives/segment/epoch_fif_files/TO/sub-1042F1_ses-01_task-TO_run-1_eeg_epo.fif, File Name: sub-1042F1_ses-01_task-TO_run-1_eeg_epo.fif\n",
      "File Path: /project/def-emayada/q1k/experimental/derivatives/pylossless/derivatives/sync_loss/derivatives/segment/epoch_fif_files/TO/sub-0157M1_ses-01_task-TO_run-1_eeg_epo.fif, File Name: sub-0157M1_ses-01_task-TO_run-1_eeg_epo.fif\n",
      "File Path: /project/def-emayada/q1k/experimental/derivatives/pylossless/derivatives/sync_loss/derivatives/segment/epoch_fif_files/TO/sub-1083P_ses-01_task-TO_run-1_eeg_epo.fif, File Name: sub-1083P_ses-01_task-TO_run-1_eeg_epo.fif\n",
      "File Path: /project/def-emayada/q1k/experimental/derivatives/pylossless/derivatives/sync_loss/derivatives/segment/epoch_fif_files/TO/sub-0162S1_ses-01_task-TO_run-1_eeg_epo.fif, File Name: sub-0162S1_ses-01_task-TO_run-1_eeg_epo.fif\n",
      "File Path: /project/def-emayada/q1k/experimental/derivatives/pylossless/derivatives/sync_loss/derivatives/segment/epoch_fif_files/TO/sub-1001P_ses-01_task-TO_run-1_eeg_epo.fif, File Name: sub-1001P_ses-01_task-TO_run-1_eeg_epo.fif\n",
      "File Path: /project/def-emayada/q1k/experimental/derivatives/pylossless/derivatives/sync_loss/derivatives/segment/epoch_fif_files/TO/sub-0200M1_ses-01_task-TO_run-1_eeg_epo.fif, File Name: sub-0200M1_ses-01_task-TO_run-1_eeg_epo.fif\n",
      "File Path: /project/def-emayada/q1k/experimental/derivatives/pylossless/derivatives/sync_loss/derivatives/segment/epoch_fif_files/TO/sub-1080P_ses-01_task-TO_run-1_eeg_epo.fif, File Name: sub-1080P_ses-01_task-TO_run-1_eeg_epo.fif\n",
      "File Path: /project/def-emayada/q1k/experimental/derivatives/pylossless/derivatives/sync_loss/derivatives/segment/epoch_fif_files/TO/sub-1045F1_ses-01_task-TO_run-1_eeg_epo.fif, File Name: sub-1045F1_ses-01_task-TO_run-1_eeg_epo.fif\n",
      "File Path: /project/def-emayada/q1k/experimental/derivatives/pylossless/derivatives/sync_loss/derivatives/segment/epoch_fif_files/TO/sub-1089P_ses-01_task-TO_run-1_eeg_epo.fif, File Name: sub-1089P_ses-01_task-TO_run-1_eeg_epo.fif\n",
      "File Path: /project/def-emayada/q1k/experimental/derivatives/pylossless/derivatives/sync_loss/derivatives/segment/epoch_fif_files/TO/sub-1118F1_ses-01_task-TO_run-1_eeg_epo.fif, File Name: sub-1118F1_ses-01_task-TO_run-1_eeg_epo.fif\n",
      "File Path: /project/def-emayada/q1k/experimental/derivatives/pylossless/derivatives/sync_loss/derivatives/segment/epoch_fif_files/TO/sub-1089S1_ses-01_task-TO_run-1_eeg_epo.fif, File Name: sub-1089S1_ses-01_task-TO_run-1_eeg_epo.fif\n",
      "File Path: /project/def-emayada/q1k/experimental/derivatives/pylossless/derivatives/sync_loss/derivatives/segment/epoch_fif_files/TO/sub-1147P_ses-01_task-TO_run-1_eeg_epo.fif, File Name: sub-1147P_ses-01_task-TO_run-1_eeg_epo.fif\n",
      "File Path: /project/def-emayada/q1k/experimental/derivatives/pylossless/derivatives/sync_loss/derivatives/segment/epoch_fif_files/TO/sub-1093S1_ses-01_task-TO_run-1_eeg_epo.fif, File Name: sub-1093S1_ses-01_task-TO_run-1_eeg_epo.fif\n",
      "File Path: /project/def-emayada/q1k/experimental/derivatives/pylossless/derivatives/sync_loss/derivatives/segment/epoch_fif_files/TO/sub-0050M1_ses-01_task-TO_run-1_eeg_epo.fif, File Name: sub-0050M1_ses-01_task-TO_run-1_eeg_epo.fif\n",
      "File Path: /project/def-emayada/q1k/experimental/derivatives/pylossless/derivatives/sync_loss/derivatives/segment/epoch_fif_files/TO/sub-1057M1_ses-01_task-TO_run-1_eeg_epo.fif, File Name: sub-1057M1_ses-01_task-TO_run-1_eeg_epo.fif\n",
      "File Path: /project/def-emayada/q1k/experimental/derivatives/pylossless/derivatives/sync_loss/derivatives/segment/epoch_fif_files/TO/sub-1140S1_ses-01_task-TO_run-1_eeg_epo.fif, File Name: sub-1140S1_ses-01_task-TO_run-1_eeg_epo.fif\n",
      "File Path: /project/def-emayada/q1k/experimental/derivatives/pylossless/derivatives/sync_loss/derivatives/segment/epoch_fif_files/TO/sub-0159M1_ses-01_task-TO_run-1_eeg_epo.fif, File Name: sub-0159M1_ses-01_task-TO_run-1_eeg_epo.fif\n",
      "File Path: /project/def-emayada/q1k/experimental/derivatives/pylossless/derivatives/sync_loss/derivatives/segment/epoch_fif_files/TO/sub-1026M1_ses-01_task-TO_run-1_eeg_epo.fif, File Name: sub-1026M1_ses-01_task-TO_run-1_eeg_epo.fif\n",
      "File Path: /project/def-emayada/q1k/experimental/derivatives/pylossless/derivatives/sync_loss/derivatives/segment/epoch_fif_files/TO/sub-1078P_ses-01_task-TO_run-1_eeg_epo.fif, File Name: sub-1078P_ses-01_task-TO_run-1_eeg_epo.fif\n",
      "File Path: /project/def-emayada/q1k/experimental/derivatives/pylossless/derivatives/sync_loss/derivatives/segment/epoch_fif_files/TO/sub-1009S1_ses-01_task-TO_run-1_eeg_epo.fif, File Name: sub-1009S1_ses-01_task-TO_run-1_eeg_epo.fif\n",
      "File Path: /project/def-emayada/q1k/experimental/derivatives/pylossless/derivatives/sync_loss/derivatives/segment/epoch_fif_files/TO/sub-0119M1_ses-01_task-TO_run-1_eeg_epo.fif, File Name: sub-0119M1_ses-01_task-TO_run-1_eeg_epo.fif\n",
      "File Path: /project/def-emayada/q1k/experimental/derivatives/pylossless/derivatives/sync_loss/derivatives/segment/epoch_fif_files/TO/sub-1147S1_ses-01_task-TO_run-1_eeg_epo.fif, File Name: sub-1147S1_ses-01_task-TO_run-1_eeg_epo.fif\n",
      "File Path: /project/def-emayada/q1k/experimental/derivatives/pylossless/derivatives/sync_loss/derivatives/segment/epoch_fif_files/TO/sub-1078F1_ses-01_task-TO_run-1_eeg_epo.fif, File Name: sub-1078F1_ses-01_task-TO_run-1_eeg_epo.fif\n",
      "File Path: /project/def-emayada/q1k/experimental/derivatives/pylossless/derivatives/sync_loss/derivatives/segment/epoch_fif_files/TO/sub-0064M1_ses-01_task-TO_run-1_eeg_epo.fif, File Name: sub-0064M1_ses-01_task-TO_run-1_eeg_epo.fif\n",
      "File Path: /project/def-emayada/q1k/experimental/derivatives/pylossless/derivatives/sync_loss/derivatives/segment/epoch_fif_files/TO/sub-0181M1_ses-01_task-TO_run-1_eeg_epo.fif, File Name: sub-0181M1_ses-01_task-TO_run-1_eeg_epo.fif\n",
      "File Path: /project/def-emayada/q1k/experimental/derivatives/pylossless/derivatives/sync_loss/derivatives/segment/epoch_fif_files/TO/sub-0248S1_ses-01_task-TO_run-1_eeg_epo.fif, File Name: sub-0248S1_ses-01_task-TO_run-1_eeg_epo.fif\n",
      "File Path: /project/def-emayada/q1k/experimental/derivatives/pylossless/derivatives/sync_loss/derivatives/segment/epoch_fif_files/TO/sub-1112P_ses-01_task-TO_run-1_eeg_epo.fif, File Name: sub-1112P_ses-01_task-TO_run-1_eeg_epo.fif\n",
      "File Path: /project/def-emayada/q1k/experimental/derivatives/pylossless/derivatives/sync_loss/derivatives/segment/epoch_fif_files/TO/sub-1134S1_ses-01_task-TO_run-1_eeg_epo.fif, File Name: sub-1134S1_ses-01_task-TO_run-1_eeg_epo.fif\n",
      "File Path: /project/def-emayada/q1k/experimental/derivatives/pylossless/derivatives/sync_loss/derivatives/segment/epoch_fif_files/TO/sub-1109P_ses-01_task-TO_run-1_eeg_epo.fif, File Name: sub-1109P_ses-01_task-TO_run-1_eeg_epo.fif\n",
      "File Path: /project/def-emayada/q1k/experimental/derivatives/pylossless/derivatives/sync_loss/derivatives/segment/epoch_fif_files/TO/sub-1033P_ses-01_task-TO_run-1_eeg_epo.fif, File Name: sub-1033P_ses-01_task-TO_run-1_eeg_epo.fif\n",
      "File Path: /project/def-emayada/q1k/experimental/derivatives/pylossless/derivatives/sync_loss/derivatives/segment/epoch_fif_files/TO/sub-1102S1_ses-01_task-TO_run-1_eeg_epo.fif, File Name: sub-1102S1_ses-01_task-TO_run-1_eeg_epo.fif\n",
      "File Path: /project/def-emayada/q1k/experimental/derivatives/pylossless/derivatives/sync_loss/derivatives/segment/epoch_fif_files/TO/sub-1028P_ses-01_task-TO_run-1_eeg_epo.fif, File Name: sub-1028P_ses-01_task-TO_run-1_eeg_epo.fif\n",
      "File Path: /project/def-emayada/q1k/experimental/derivatives/pylossless/derivatives/sync_loss/derivatives/segment/epoch_fif_files/TO/sub-0171F1_ses-01_task-TO_run-1_eeg_epo.fif, File Name: sub-0171F1_ses-01_task-TO_run-1_eeg_epo.fif\n",
      "File Path: /project/def-emayada/q1k/experimental/derivatives/pylossless/derivatives/sync_loss/derivatives/segment/epoch_fif_files/TO/sub-1045P_ses-01_task-TO_run-1_eeg_epo.fif, File Name: sub-1045P_ses-01_task-TO_run-1_eeg_epo.fif\n",
      "File Path: /project/def-emayada/q1k/experimental/derivatives/pylossless/derivatives/sync_loss/derivatives/segment/epoch_fif_files/TO/sub-0216M1_ses-01_task-TO_run-1_eeg_epo.fif, File Name: sub-0216M1_ses-01_task-TO_run-1_eeg_epo.fif\n",
      "File Path: /project/def-emayada/q1k/experimental/derivatives/pylossless/derivatives/sync_loss/derivatives/segment/epoch_fif_files/TO/sub-1106M1_ses-01_task-TO_run-1_eeg_epo.fif, File Name: sub-1106M1_ses-01_task-TO_run-1_eeg_epo.fif\n",
      "File Path: /project/def-emayada/q1k/experimental/derivatives/pylossless/derivatives/sync_loss/derivatives/segment/epoch_fif_files/TO/sub-0186M1_ses-01_task-TO_run-1_eeg_epo.fif, File Name: sub-0186M1_ses-01_task-TO_run-1_eeg_epo.fif\n",
      "File Path: /project/def-emayada/q1k/experimental/derivatives/pylossless/derivatives/sync_loss/derivatives/segment/epoch_fif_files/TO/sub-1040P_ses-01_task-TO_run-1_eeg_epo.fif, File Name: sub-1040P_ses-01_task-TO_run-1_eeg_epo.fif\n",
      "File Path: /project/def-emayada/q1k/experimental/derivatives/pylossless/derivatives/sync_loss/derivatives/segment/epoch_fif_files/TO/sub-1052M1_ses-01_task-TO_run-1_eeg_epo.fif, File Name: sub-1052M1_ses-01_task-TO_run-1_eeg_epo.fif\n",
      "File Path: /project/def-emayada/q1k/experimental/derivatives/pylossless/derivatives/sync_loss/derivatives/segment/epoch_fif_files/TO/sub-1147F1_ses-01_task-TO_run-1_eeg_epo.fif, File Name: sub-1147F1_ses-01_task-TO_run-1_eeg_epo.fif\n",
      "File Path: /project/def-emayada/q1k/experimental/derivatives/pylossless/derivatives/sync_loss/derivatives/segment/epoch_fif_files/TO/sub-1024M1_ses-01_task-TO_run-1_eeg_epo.fif, File Name: sub-1024M1_ses-01_task-TO_run-1_eeg_epo.fif\n",
      "File Path: /project/def-emayada/q1k/experimental/derivatives/pylossless/derivatives/sync_loss/derivatives/segment/epoch_fif_files/TO/sub-1114P_ses-01_task-TO_run-1_eeg_epo.fif, File Name: sub-1114P_ses-01_task-TO_run-1_eeg_epo.fif\n",
      "File Path: /project/def-emayada/q1k/experimental/derivatives/pylossless/derivatives/sync_loss/derivatives/segment/epoch_fif_files/TO/sub-0216P_ses-01_task-TO_run-1_eeg_epo.fif, File Name: sub-0216P_ses-01_task-TO_run-1_eeg_epo.fif\n",
      "File Path: /project/def-emayada/q1k/experimental/derivatives/pylossless/derivatives/sync_loss/derivatives/segment/epoch_fif_files/TO/sub-0181P_ses-01_task-TO_run-1_eeg_epo.fif, File Name: sub-0181P_ses-01_task-TO_run-1_eeg_epo.fif\n",
      "File Path: /project/def-emayada/q1k/experimental/derivatives/pylossless/derivatives/sync_loss/derivatives/segment/epoch_fif_files/TO/sub-1067S1_ses-01_task-TO_run-1_eeg_epo.fif, File Name: sub-1067S1_ses-01_task-TO_run-1_eeg_epo.fif\n",
      "File Path: /project/def-emayada/q1k/experimental/derivatives/pylossless/derivatives/sync_loss/derivatives/segment/epoch_fif_files/TO/sub-1106P_ses-01_task-TO_run-1_eeg_epo.fif, File Name: sub-1106P_ses-01_task-TO_run-1_eeg_epo.fif\n",
      "File Path: /project/def-emayada/q1k/experimental/derivatives/pylossless/derivatives/sync_loss/derivatives/segment/epoch_fif_files/TO/sub-1052P_ses-01_task-TO_run-1_eeg_epo.fif, File Name: sub-1052P_ses-01_task-TO_run-1_eeg_epo.fif\n",
      "File Path: /project/def-emayada/q1k/experimental/derivatives/pylossless/derivatives/sync_loss/derivatives/segment/epoch_fif_files/TO/sub-1001M1_ses-01_task-TO_run-1_eeg_epo.fif, File Name: sub-1001M1_ses-01_task-TO_run-1_eeg_epo.fif\n",
      "File Path: /project/def-emayada/q1k/experimental/derivatives/pylossless/derivatives/sync_loss/derivatives/segment/epoch_fif_files/TO/sub-1028S2_ses-01_task-TO_run-1_eeg_epo.fif, File Name: sub-1028S2_ses-01_task-TO_run-1_eeg_epo.fif\n",
      "File Path: /project/def-emayada/q1k/experimental/derivatives/pylossless/derivatives/sync_loss/derivatives/segment/epoch_fif_files/TO/sub-1021P_ses-01_task-TO_run-1_eeg_epo.fif, File Name: sub-1021P_ses-01_task-TO_run-1_eeg_epo.fif\n",
      "File Path: /project/def-emayada/q1k/experimental/derivatives/pylossless/derivatives/sync_loss/derivatives/segment/epoch_fif_files/TO/sub-1057P_ses-01_task-TO_run-1_eeg_epo.fif, File Name: sub-1057P_ses-01_task-TO_run-1_eeg_epo.fif\n",
      "File Path: /project/def-emayada/q1k/experimental/derivatives/pylossless/derivatives/sync_loss/derivatives/segment/epoch_fif_files/TO/sub-1112M1_ses-01_task-TO_run-1_eeg_epo.fif, File Name: sub-1112M1_ses-01_task-TO_run-1_eeg_epo.fif\n",
      "File Path: /project/def-emayada/q1k/experimental/derivatives/pylossless/derivatives/sync_loss/derivatives/segment/epoch_fif_files/TO/sub-1109F1_ses-01_task-TO_run-1_eeg_epo.fif, File Name: sub-1109F1_ses-01_task-TO_run-1_eeg_epo.fif\n",
      "File Path: /project/def-emayada/q1k/experimental/derivatives/pylossless/derivatives/sync_loss/derivatives/segment/epoch_fif_files/TO/sub-0218M1_ses-01_task-TO_run-1_eeg_epo.fif, File Name: sub-0218M1_ses-01_task-TO_run-1_eeg_epo.fif\n",
      "File Path: /project/def-emayada/q1k/experimental/derivatives/pylossless/derivatives/sync_loss/derivatives/segment/epoch_fif_files/TO/sub-0162P_ses-01_task-TO_run-1_eeg_epo.fif, File Name: sub-0162P_ses-01_task-TO_run-1_eeg_epo.fif\n",
      "File Path: /project/def-emayada/q1k/experimental/derivatives/pylossless/derivatives/sync_loss/derivatives/segment/epoch_fif_files/TO/sub-1033S1_ses-01_task-TO_run-1_eeg_epo.fif, File Name: sub-1033S1_ses-01_task-TO_run-1_eeg_epo.fif\n",
      "File Path: /project/def-emayada/q1k/experimental/derivatives/pylossless/derivatives/sync_loss/derivatives/segment/epoch_fif_files/TO/sub-0179P_ses-01_task-TO_run-1_eeg_epo.fif, File Name: sub-0179P_ses-01_task-TO_run-1_eeg_epo.fif\n",
      "File Path: /project/def-emayada/q1k/experimental/derivatives/pylossless/derivatives/sync_loss/derivatives/segment/epoch_fif_files/TO/sub-1045S1_ses-01_task-TO_run-1_eeg_epo.fif, File Name: sub-1045S1_ses-01_task-TO_run-1_eeg_epo.fif\n",
      "File Path: /project/def-emayada/q1k/experimental/derivatives/pylossless/derivatives/sync_loss/derivatives/segment/epoch_fif_files/TO/sub-0196P_ses-01_task-TO_run-1_eeg_epo.fif, File Name: sub-0196P_ses-01_task-TO_run-1_eeg_epo.fif\n",
      "File Path: /project/def-emayada/q1k/experimental/derivatives/pylossless/derivatives/sync_loss/derivatives/segment/epoch_fif_files/TO/sub-1080F1_ses-01_task-TO_run-1_eeg_epo.fif, File Name: sub-1080F1_ses-01_task-TO_run-1_eeg_epo.fif\n",
      "File Path: /project/def-emayada/q1k/experimental/derivatives/pylossless/derivatives/sync_loss/derivatives/segment/epoch_fif_files/TO/sub-1006M1_ses-01_task-TO_run-1_eeg_epo.fif, File Name: sub-1006M1_ses-01_task-TO_run-1_eeg_epo.fif\n",
      "File Path: /project/def-emayada/q1k/experimental/derivatives/pylossless/derivatives/sync_loss/derivatives/segment/epoch_fif_files/TO/sub-1118P_ses-01_task-TO_run-1_eeg_epo.fif, File Name: sub-1118P_ses-01_task-TO_run-1_eeg_epo.fif\n",
      "File Path: /project/def-emayada/q1k/experimental/derivatives/pylossless/derivatives/sync_loss/derivatives/segment/epoch_fif_files/TO/sub-0179M1_ses-01_task-TO_run-1_eeg_epo.fif, File Name: sub-0179M1_ses-01_task-TO_run-1_eeg_epo.fif\n",
      "File Path: /project/def-emayada/q1k/experimental/derivatives/pylossless/derivatives/sync_loss/derivatives/segment/epoch_fif_files/TO/sub-0064P_ses-01_task-TO_run-1_eeg_epo.fif, File Name: sub-0064P_ses-01_task-TO_run-1_eeg_epo.fif\n",
      "File Path: /project/def-emayada/q1k/experimental/derivatives/pylossless/derivatives/sync_loss/derivatives/segment/epoch_fif_files/TO/sub-1006P_ses-01_task-TO_run-1_eeg_epo.fif, File Name: sub-1006P_ses-01_task-TO_run-1_eeg_epo.fif\n",
      "File Path: /project/def-emayada/q1k/experimental/derivatives/pylossless/derivatives/sync_loss/derivatives/segment/epoch_fif_files/TO/sub-0248P_ses-01_task-TO_run-1_eeg_epo.fif, File Name: sub-0248P_ses-01_task-TO_run-1_eeg_epo.fif\n",
      "File Path: /project/def-emayada/q1k/experimental/derivatives/pylossless/derivatives/sync_loss/derivatives/segment/epoch_fif_files/TO/sub-0128P_ses-01_task-TO_run-1_eeg_epo.fif, File Name: sub-0128P_ses-01_task-TO_run-1_eeg_epo.fif\n",
      "File Path: /project/def-emayada/q1k/experimental/derivatives/pylossless/derivatives/sync_loss/derivatives/segment/epoch_fif_files/TO/sub-1147S2_ses-01_task-TO_run-1_eeg_epo.fif, File Name: sub-1147S2_ses-01_task-TO_run-1_eeg_epo.fif\n",
      "File Path: /project/def-emayada/q1k/experimental/derivatives/pylossless/derivatives/sync_loss/derivatives/segment/epoch_fif_files/TO/sub-1067M1_ses-01_task-TO_run-1_eeg_epo.fif, File Name: sub-1067M1_ses-01_task-TO_run-1_eeg_epo.fif\n",
      "File Path: /project/def-emayada/q1k/experimental/derivatives/pylossless/derivatives/sync_loss/derivatives/segment/epoch_fif_files/TO/sub-1073P_ses-01_task-TO_run-1_eeg_epo.fif, File Name: sub-1073P_ses-01_task-TO_run-1_eeg_epo.fif\n",
      "File Path: /project/def-emayada/q1k/experimental/derivatives/pylossless/derivatives/sync_loss/derivatives/segment/epoch_fif_files/TO/sub-0104C1_ses-01_task-TO_run-1_eeg_epo.fif, File Name: sub-0104C1_ses-01_task-TO_run-1_eeg_epo.fif\n",
      "File Path: /project/def-emayada/q1k/experimental/derivatives/pylossless/derivatives/sync_loss/derivatives/segment/epoch_fif_files/TO/sub-1052S1_ses-01_task-TO_run-1_eeg_epo.fif, File Name: sub-1052S1_ses-01_task-TO_run-1_eeg_epo.fif\n",
      "File Path: /project/def-emayada/q1k/experimental/derivatives/pylossless/derivatives/sync_loss/derivatives/segment/epoch_fif_files/TO/sub-1057F1_ses-01_task-TO_run-1_eeg_epo.fif, File Name: sub-1057F1_ses-01_task-TO_run-1_eeg_epo.fif\n",
      "File Path: /project/def-emayada/q1k/experimental/derivatives/pylossless/derivatives/sync_loss/derivatives/segment/epoch_fif_files/TO/sub-1093S2_ses-01_task-TO_run-1_eeg_epo.fif, File Name: sub-1093S2_ses-01_task-TO_run-1_eeg_epo.fif\n",
      "File Path: /project/def-emayada/q1k/experimental/derivatives/pylossless/derivatives/sync_loss/derivatives/segment/epoch_fif_files/TO/sub-1134M1_ses-01_task-TO_run-1_eeg_epo.fif, File Name: sub-1134M1_ses-01_task-TO_run-1_eeg_epo.fif\n",
      "File Path: /project/def-emayada/q1k/experimental/derivatives/pylossless/derivatives/sync_loss/derivatives/segment/epoch_fif_files/TO/sub-1061F1_ses-01_task-TO_run-1_eeg_epo.fif, File Name: sub-1061F1_ses-01_task-TO_run-1_eeg_epo.fif\n",
      "File Path: /project/def-emayada/q1k/experimental/derivatives/pylossless/derivatives/sync_loss/derivatives/segment/epoch_fif_files/TO/sub-1121P_ses-01_task-TO_run-1_eeg_epo.fif, File Name: sub-1121P_ses-01_task-TO_run-1_eeg_epo.fif\n",
      "File Path: /project/def-emayada/q1k/experimental/derivatives/pylossless/derivatives/sync_loss/derivatives/segment/epoch_fif_files/TO/sub-1118M1_ses-01_task-TO_run-1_eeg_epo.fif, File Name: sub-1118M1_ses-01_task-TO_run-1_eeg_epo.fif\n",
      "File Path: /project/def-emayada/q1k/experimental/derivatives/pylossless/derivatives/sync_loss/derivatives/segment/epoch_fif_files/TO/sub-1018P_ses-01_task-TO_run-1_eeg_epo.fif, File Name: sub-1018P_ses-01_task-TO_run-1_eeg_epo.fif\n",
      "File Path: /project/def-emayada/q1k/experimental/derivatives/pylossless/derivatives/sync_loss/derivatives/segment/epoch_fif_files/TO/sub-0064S1_ses-01_task-TO_run-1_eeg_epo.fif, File Name: sub-0064S1_ses-01_task-TO_run-1_eeg_epo.fif\n",
      "File Path: /project/def-emayada/q1k/experimental/derivatives/pylossless/derivatives/sync_loss/derivatives/segment/epoch_fif_files/TO/sub-1021F1_ses-01_task-TO_run-1_eeg_epo.fif, File Name: sub-1021F1_ses-01_task-TO_run-1_eeg_epo.fif\n",
      "File Path: /project/def-emayada/q1k/experimental/derivatives/pylossless/derivatives/sync_loss/derivatives/segment/epoch_fif_files/TO/sub-0248M1_ses-01_task-TO_run-1_eeg_epo.fif, File Name: sub-0248M1_ses-01_task-TO_run-1_eeg_epo.fif\n",
      "File Path: /project/def-emayada/q1k/experimental/derivatives/pylossless/derivatives/sync_loss/derivatives/segment/epoch_fif_files/TO/sub-1143F1_ses-01_task-TO_run-1_eeg_epo.fif, File Name: sub-1143F1_ses-01_task-TO_run-1_eeg_epo.fif\n",
      "File Path: /project/def-emayada/q1k/experimental/derivatives/pylossless/derivatives/sync_loss/derivatives/segment/epoch_fif_files/TO/sub-1061S3_ses-01_task-TO_run-1_eeg_epo.fif, File Name: sub-1061S3_ses-01_task-TO_run-1_eeg_epo.fif\n",
      "File Path: /project/def-emayada/q1k/experimental/derivatives/pylossless/derivatives/sync_loss/derivatives/segment/epoch_fif_files/TO/sub-0043F1_ses-01_task-TO_run-1_eeg_epo.fif, File Name: sub-0043F1_ses-01_task-TO_run-1_eeg_epo.fif\n",
      "File Path: /project/def-emayada/q1k/experimental/derivatives/pylossless/derivatives/sync_loss/derivatives/segment/epoch_fif_files/TO/sub-1067P_ses-01_task-TO_run-1_eeg_epo.fif, File Name: sub-1067P_ses-01_task-TO_run-1_eeg_epo.fif\n",
      "File Path: /project/def-emayada/q1k/experimental/derivatives/pylossless/derivatives/sync_loss/derivatives/segment/epoch_fif_files/TO/sub-1073M1_ses-01_task-TO_run-1_eeg_epo.fif, File Name: sub-1073M1_ses-01_task-TO_run-1_eeg_epo.fif\n",
      "File Path: /project/def-emayada/q1k/experimental/derivatives/pylossless/derivatives/sync_loss/derivatives/segment/epoch_fif_files/TO/sub-1093P_ses-01_task-TO_run-1_eeg_epo.fif, File Name: sub-1093P_ses-01_task-TO_run-1_eeg_epo.fif\n",
      "File Path: /project/def-emayada/q1k/experimental/derivatives/pylossless/derivatives/sync_loss/derivatives/segment/epoch_fif_files/TO/sub-1083F1_ses-01_task-TO_run-1_eeg_epo.fif, File Name: sub-1083F1_ses-01_task-TO_run-1_eeg_epo.fif\n",
      "File Path: /project/def-emayada/q1k/experimental/derivatives/pylossless/derivatives/sync_loss/derivatives/segment/epoch_fif_files/TO/sub-1009P_ses-01_task-TO_run-1_eeg_epo.fif, File Name: sub-1009P_ses-01_task-TO_run-1_eeg_epo.fif\n",
      "File Path: /project/def-emayada/q1k/experimental/derivatives/pylossless/derivatives/sync_loss/derivatives/segment/epoch_fif_files/TO/sub-1033M1_ses-01_task-TO_run-1_eeg_epo.fif, File Name: sub-1033M1_ses-01_task-TO_run-1_eeg_epo.fif\n",
      "File Path: /project/def-emayada/q1k/experimental/derivatives/pylossless/derivatives/sync_loss/derivatives/segment/epoch_fif_files/TO/sub-0154P_ses-01_task-TO_run-1_eeg_epo.fif, File Name: sub-0154P_ses-01_task-TO_run-1_eeg_epo.fif\n",
      "File Path: /project/def-emayada/q1k/experimental/derivatives/pylossless/derivatives/sync_loss/derivatives/segment/epoch_fif_files/TO/sub-1121F1_ses-01_task-TO_run-1_eeg_epo.fif, File Name: sub-1121F1_ses-01_task-TO_run-1_eeg_epo.fif\n",
      "File Path: /project/def-emayada/q1k/experimental/derivatives/pylossless/derivatives/sync_loss/derivatives/segment/epoch_fif_files/TO/sub-1042M1_ses-01_task-TO_run-1_eeg_epo.fif, File Name: sub-1042M1_ses-01_task-TO_run-1_eeg_epo.fif\n",
      "File Path: /project/def-emayada/q1k/experimental/derivatives/pylossless/derivatives/sync_loss/derivatives/segment/epoch_fif_files/TO/sub-1140P_ses-01_task-TO_run-1_eeg_epo.fif, File Name: sub-1140P_ses-01_task-TO_run-1_eeg_epo.fif\n",
      "File Path: /project/def-emayada/q1k/experimental/derivatives/pylossless/derivatives/sync_loss/derivatives/segment/epoch_fif_files/TO/sub-1061P_ses-01_task-TO_run-1_eeg_epo.fif, File Name: sub-1061P_ses-01_task-TO_run-1_eeg_epo.fif\n",
      "File Path: /project/def-emayada/q1k/experimental/derivatives/pylossless/derivatives/sync_loss/derivatives/segment/epoch_fif_files/TO/sub-1001S1_ses-01_task-TO_run-1_eeg_epo.fif, File Name: sub-1001S1_ses-01_task-TO_run-1_eeg_epo.fif\n",
      "File Path: /project/def-emayada/q1k/experimental/derivatives/pylossless/derivatives/sync_loss/derivatives/segment/epoch_fif_files/TO/sub-0068F1_ses-01_task-TO_run-1_eeg_epo.fif, File Name: sub-0068F1_ses-01_task-TO_run-1_eeg_epo.fif\n",
      "File Path: /project/def-emayada/q1k/experimental/derivatives/pylossless/derivatives/sync_loss/derivatives/segment/epoch_fif_files/TO/sub-0281M1_ses-01_task-TO_run-1_eeg_epo.fif, File Name: sub-0281M1_ses-01_task-TO_run-1_eeg_epo.fif\n",
      "File Path: /project/def-emayada/q1k/experimental/derivatives/pylossless/derivatives/sync_loss/derivatives/segment/epoch_fif_files/TO/sub-0157P_ses-01_task-TO_run-1_eeg_epo.fif, File Name: sub-0157P_ses-01_task-TO_run-1_eeg_epo.fif\n",
      "File Path: /project/def-emayada/q1k/experimental/derivatives/pylossless/derivatives/sync_loss/derivatives/segment/epoch_fif_files/TO/sub-1143P_ses-01_task-TO_run-1_eeg_epo.fif, File Name: sub-1143P_ses-01_task-TO_run-1_eeg_epo.fif\n",
      "existing output avg files:\n",
      "File Path: /project/def-emayada/q1k/experimental/derivatives/pylossless/derivatives/sync_loss/derivatives/segment/epoch_fif_files/TO/sub-0162M1_ses-01_task-TO_run-1_eeg_epo.fif, File Name: sub-0162M1_ses-01_task-TO_run-1_eeg_epo.fif\n",
      "File Path: /project/def-emayada/q1k/experimental/derivatives/pylossless/derivatives/sync_loss/derivatives/segment/epoch_fif_files/TO/sub-1061M_ses-01_task-TO_run-1_eeg_epo.fif, File Name: sub-1061M_ses-01_task-TO_run-1_eeg_epo.fif\n",
      "File Path: /project/def-emayada/q1k/experimental/derivatives/pylossless/derivatives/sync_loss/derivatives/segment/epoch_fif_files/TO/sub-1080M1_ses-01_task-TO_run-1_eeg_epo.fif, File Name: sub-1080M1_ses-01_task-TO_run-1_eeg_epo.fif\n",
      "File Path: /project/def-emayada/q1k/experimental/derivatives/pylossless/derivatives/sync_loss/derivatives/segment/epoch_fif_files/TO/sub-0200S1_ses-01_task-TO_run-1_eeg_epo.fif, File Name: sub-0200S1_ses-01_task-TO_run-1_eeg_epo.fif\n",
      "File Path: /project/def-emayada/q1k/experimental/derivatives/pylossless/derivatives/sync_loss/derivatives/segment/epoch_fif_files/TO/sub-0050P_ses-01_task-TO_run-1_eeg_epo.fif, File Name: sub-0050P_ses-01_task-TO_run-1_eeg_epo.fif\n",
      "File Path: /project/def-emayada/q1k/experimental/derivatives/pylossless/derivatives/sync_loss/derivatives/segment/epoch_fif_files/TO/sub-1028S1_ses-01_task-TO_run-1_eeg_epo.fif, File Name: sub-1028S1_ses-01_task-TO_run-1_eeg_epo.fif\n",
      "File Path: /project/def-emayada/q1k/experimental/derivatives/pylossless/derivatives/sync_loss/derivatives/segment/epoch_fif_files/TO/sub-0104P_ses-01_task-TO_run-1_eeg_epo.fif, File Name: sub-0104P_ses-01_task-TO_run-1_eeg_epo.fif\n",
      "File Path: /project/def-emayada/q1k/experimental/derivatives/pylossless/derivatives/sync_loss/derivatives/segment/epoch_fif_files/TO/sub-1109M1_ses-01_task-TO_run-1_eeg_epo.fif, File Name: sub-1109M1_ses-01_task-TO_run-1_eeg_epo.fif\n",
      "File Path: /project/def-emayada/q1k/experimental/derivatives/pylossless/derivatives/sync_loss/derivatives/segment/epoch_fif_files/TO/sub-1083S1_ses-01_task-TO_run-1_eeg_epo.fif, File Name: sub-1083S1_ses-01_task-TO_run-1_eeg_epo.fif\n",
      "File Path: /project/def-emayada/q1k/experimental/derivatives/pylossless/derivatives/sync_loss/derivatives/segment/epoch_fif_files/TO/sub-1162M1_ses-01_task-TO_run-1_eeg_epo.fif, File Name: sub-1162M1_ses-01_task-TO_run-1_eeg_epo.fif\n",
      "File Path: /project/def-emayada/q1k/experimental/derivatives/pylossless/derivatives/sync_loss/derivatives/segment/epoch_fif_files/TO/sub-0068S1_ses-01_task-TO_run-1_eeg_epo.fif, File Name: sub-0068S1_ses-01_task-TO_run-1_eeg_epo.fif\n",
      "File Path: /project/def-emayada/q1k/experimental/derivatives/pylossless/derivatives/sync_loss/derivatives/segment/epoch_fif_files/TO/sub-1001F1_ses-01_task-TO_run-1_eeg_epo.fif, File Name: sub-1001F1_ses-01_task-TO_run-1_eeg_epo.fif\n",
      "File Path: /project/def-emayada/q1k/experimental/derivatives/pylossless/derivatives/sync_loss/derivatives/segment/epoch_fif_files/TO/sub-1042P_ses-01_task-TO_run-1_eeg_epo.fif, File Name: sub-1042P_ses-01_task-TO_run-1_eeg_epo.fif\n",
      "File Path: /project/def-emayada/q1k/experimental/derivatives/pylossless/derivatives/sync_loss/derivatives/segment/epoch_fif_files/TO/sub-0196S2_ses-01_task-TO_run-1_eeg_epo.fif, File Name: sub-0196S2_ses-01_task-TO_run-1_eeg_epo.fif\n",
      "File Path: /project/def-emayada/q1k/experimental/derivatives/pylossless/derivatives/sync_loss/derivatives/segment/epoch_fif_files/TO/sub-1121S1_ses-01_task-TO_run-1_eeg_epo.fif, File Name: sub-1121S1_ses-01_task-TO_run-1_eeg_epo.fif\n",
      "File Path: /project/def-emayada/q1k/experimental/derivatives/pylossless/derivatives/sync_loss/derivatives/segment/epoch_fif_files/TO/sub-1037F1_ses-01_task-TO_run-1_eeg_epo.fif, File Name: sub-1037F1_ses-01_task-TO_run-1_eeg_epo.fif\n",
      "File Path: /project/def-emayada/q1k/experimental/derivatives/pylossless/derivatives/sync_loss/derivatives/segment/epoch_fif_files/TO/sub-1040M1_ses-01_task-TO_run-1_eeg_epo.fif, File Name: sub-1040M1_ses-01_task-TO_run-1_eeg_epo.fif\n",
      "File Path: /project/def-emayada/q1k/experimental/derivatives/pylossless/derivatives/sync_loss/derivatives/segment/epoch_fif_files/TO/sub-1114M1_ses-01_task-TO_run-1_eeg_epo.fif, File Name: sub-1114M1_ses-01_task-TO_run-1_eeg_epo.fif\n",
      "File Path: /project/def-emayada/q1k/experimental/derivatives/pylossless/derivatives/sync_loss/derivatives/segment/epoch_fif_files/TO/sub-1037P_ses-01_task-TO_run-1_eeg_epo.fif, File Name: sub-1037P_ses-01_task-TO_run-1_eeg_epo.fif\n",
      "File Path: /project/def-emayada/q1k/experimental/derivatives/pylossless/derivatives/sync_loss/derivatives/segment/epoch_fif_files/TO/sub-0183P_ses-01_task-TO_run-1_eeg_epo.fif, File Name: sub-0183P_ses-01_task-TO_run-1_eeg_epo.fif\n",
      "File Path: /project/def-emayada/q1k/experimental/derivatives/pylossless/derivatives/sync_loss/derivatives/segment/epoch_fif_files/TO/sub-1009M1_ses-01_task-TO_run-1_eeg_epo.fif, File Name: sub-1009M1_ses-01_task-TO_run-1_eeg_epo.fif\n",
      "File Path: /project/def-emayada/q1k/experimental/derivatives/pylossless/derivatives/sync_loss/derivatives/segment/epoch_fif_files/TO/sub-1052F1_ses-01_task-TO_run-1_eeg_epo.fif, File Name: sub-1052F1_ses-01_task-TO_run-1_eeg_epo.fif\n",
      "File Path: /project/def-emayada/q1k/experimental/derivatives/pylossless/derivatives/sync_loss/derivatives/segment/epoch_fif_files/TO/sub-1026P_ses-01_task-TO_run-1_eeg_epo.fif, File Name: sub-1026P_ses-01_task-TO_run-1_eeg_epo.fif\n",
      "File Path: /project/def-emayada/q1k/experimental/derivatives/pylossless/derivatives/sync_loss/derivatives/segment/epoch_fif_files/TO/sub-1106F1_ses-01_task-TO_run-1_eeg_epo.fif, File Name: sub-1106F1_ses-01_task-TO_run-1_eeg_epo.fif\n",
      "File Path: /project/def-emayada/q1k/experimental/derivatives/pylossless/derivatives/sync_loss/derivatives/segment/epoch_fif_files/TO/sub-0186F1_ses-01_task-TO_run-1_eeg_epo.fif, File Name: sub-0186F1_ses-01_task-TO_run-1_eeg_epo.fif\n",
      "File Path: /project/def-emayada/q1k/experimental/derivatives/pylossless/derivatives/sync_loss/derivatives/segment/epoch_fif_files/TO/sub-0183S1_ses-01_task-TO_run-1_eeg_epo.fif, File Name: sub-0183S1_ses-01_task-TO_run-1_eeg_epo.fif\n",
      "File Path: /project/def-emayada/q1k/experimental/derivatives/pylossless/derivatives/sync_loss/derivatives/segment/epoch_fif_files/TO/sub-0171M1_ses-01_task-TO_run-1_eeg_epo.fif, File Name: sub-0171M1_ses-01_task-TO_run-1_eeg_epo.fif\n",
      "File Path: /project/def-emayada/q1k/experimental/derivatives/pylossless/derivatives/sync_loss/derivatives/segment/epoch_fif_files/TO/sub-0200P_ses-01_task-TO_run-1_eeg_epo.fif, File Name: sub-0200P_ses-01_task-TO_run-1_eeg_epo.fif\n",
      "File Path: /project/def-emayada/q1k/experimental/derivatives/pylossless/derivatives/sync_loss/derivatives/segment/epoch_fif_files/TO/sub-1102P_ses-01_task-TO_run-1_eeg_epo.fif, File Name: sub-1102P_ses-01_task-TO_run-1_eeg_epo.fif\n",
      "File Path: /project/def-emayada/q1k/experimental/derivatives/pylossless/derivatives/sync_loss/derivatives/segment/epoch_fif_files/TO/sub-0281P_ses-01_task-TO_run-1_eeg_epo.fif, File Name: sub-0281P_ses-01_task-TO_run-1_eeg_epo.fif\n",
      "File Path: /project/def-emayada/q1k/experimental/derivatives/pylossless/derivatives/sync_loss/derivatives/segment/epoch_fif_files/TO/sub-1102S2_ses-01_task-TO_run-1_eeg_epo.fif, File Name: sub-1102S2_ses-01_task-TO_run-1_eeg_epo.fif\n",
      "File Path: /project/def-emayada/q1k/experimental/derivatives/pylossless/derivatives/sync_loss/derivatives/segment/epoch_fif_files/TO/sub-0275P_ses-01_task-TO_run-1_eeg_epo.fif, File Name: sub-0275P_ses-01_task-TO_run-1_eeg_epo.fif\n",
      "File Path: /project/def-emayada/q1k/experimental/derivatives/pylossless/derivatives/sync_loss/derivatives/segment/epoch_fif_files/TO/sub-1143S1_ses-01_task-TO_run-1_eeg_epo.fif, File Name: sub-1143S1_ses-01_task-TO_run-1_eeg_epo.fif\n",
      "File Path: /project/def-emayada/q1k/experimental/derivatives/pylossless/derivatives/sync_loss/derivatives/segment/epoch_fif_files/TO/sub-0218P_ses-01_task-TO_run-1_eeg_epo.fif, File Name: sub-0218P_ses-01_task-TO_run-1_eeg_epo.fif\n",
      "File Path: /project/def-emayada/q1k/experimental/derivatives/pylossless/derivatives/sync_loss/derivatives/segment/epoch_fif_files/TO/sub-1101P_ses-01_task-TO_run-1_eeg_epo.fif, File Name: sub-1101P_ses-01_task-TO_run-1_eeg_epo.fif\n",
      "File Path: /project/def-emayada/q1k/experimental/derivatives/pylossless/derivatives/sync_loss/derivatives/segment/epoch_fif_files/TO/sub-0181F1_ses-01_task-TO_run-1_eeg_epo.fif, File Name: sub-0181F1_ses-01_task-TO_run-1_eeg_epo.fif\n",
      "File Path: /project/def-emayada/q1k/experimental/derivatives/pylossless/derivatives/sync_loss/derivatives/segment/epoch_fif_files/TO/sub-1121M1_ses-01_task-TO_run-1_eeg_epo.fif, File Name: sub-1121M1_ses-01_task-TO_run-1_eeg_epo.fif\n",
      "File Path: /project/def-emayada/q1k/experimental/derivatives/pylossless/derivatives/sync_loss/derivatives/segment/epoch_fif_files/TO/sub-1042F1_ses-01_task-TO_run-1_eeg_epo.fif, File Name: sub-1042F1_ses-01_task-TO_run-1_eeg_epo.fif\n",
      "File Path: /project/def-emayada/q1k/experimental/derivatives/pylossless/derivatives/sync_loss/derivatives/segment/epoch_fif_files/TO/sub-0157M1_ses-01_task-TO_run-1_eeg_epo.fif, File Name: sub-0157M1_ses-01_task-TO_run-1_eeg_epo.fif\n",
      "File Path: /project/def-emayada/q1k/experimental/derivatives/pylossless/derivatives/sync_loss/derivatives/segment/epoch_fif_files/TO/sub-1083P_ses-01_task-TO_run-1_eeg_epo.fif, File Name: sub-1083P_ses-01_task-TO_run-1_eeg_epo.fif\n",
      "File Path: /project/def-emayada/q1k/experimental/derivatives/pylossless/derivatives/sync_loss/derivatives/segment/epoch_fif_files/TO/sub-0162S1_ses-01_task-TO_run-1_eeg_epo.fif, File Name: sub-0162S1_ses-01_task-TO_run-1_eeg_epo.fif\n",
      "File Path: /project/def-emayada/q1k/experimental/derivatives/pylossless/derivatives/sync_loss/derivatives/segment/epoch_fif_files/TO/sub-1001P_ses-01_task-TO_run-1_eeg_epo.fif, File Name: sub-1001P_ses-01_task-TO_run-1_eeg_epo.fif\n",
      "File Path: /project/def-emayada/q1k/experimental/derivatives/pylossless/derivatives/sync_loss/derivatives/segment/epoch_fif_files/TO/sub-0200M1_ses-01_task-TO_run-1_eeg_epo.fif, File Name: sub-0200M1_ses-01_task-TO_run-1_eeg_epo.fif\n",
      "File Path: /project/def-emayada/q1k/experimental/derivatives/pylossless/derivatives/sync_loss/derivatives/segment/epoch_fif_files/TO/sub-1080P_ses-01_task-TO_run-1_eeg_epo.fif, File Name: sub-1080P_ses-01_task-TO_run-1_eeg_epo.fif\n",
      "File Path: /project/def-emayada/q1k/experimental/derivatives/pylossless/derivatives/sync_loss/derivatives/segment/epoch_fif_files/TO/sub-1045F1_ses-01_task-TO_run-1_eeg_epo.fif, File Name: sub-1045F1_ses-01_task-TO_run-1_eeg_epo.fif\n",
      "File Path: /project/def-emayada/q1k/experimental/derivatives/pylossless/derivatives/sync_loss/derivatives/segment/epoch_fif_files/TO/sub-1089P_ses-01_task-TO_run-1_eeg_epo.fif, File Name: sub-1089P_ses-01_task-TO_run-1_eeg_epo.fif\n",
      "File Path: /project/def-emayada/q1k/experimental/derivatives/pylossless/derivatives/sync_loss/derivatives/segment/epoch_fif_files/TO/sub-1118F1_ses-01_task-TO_run-1_eeg_epo.fif, File Name: sub-1118F1_ses-01_task-TO_run-1_eeg_epo.fif\n",
      "File Path: /project/def-emayada/q1k/experimental/derivatives/pylossless/derivatives/sync_loss/derivatives/segment/epoch_fif_files/TO/sub-1089S1_ses-01_task-TO_run-1_eeg_epo.fif, File Name: sub-1089S1_ses-01_task-TO_run-1_eeg_epo.fif\n",
      "File Path: /project/def-emayada/q1k/experimental/derivatives/pylossless/derivatives/sync_loss/derivatives/segment/epoch_fif_files/TO/sub-1147P_ses-01_task-TO_run-1_eeg_epo.fif, File Name: sub-1147P_ses-01_task-TO_run-1_eeg_epo.fif\n",
      "File Path: /project/def-emayada/q1k/experimental/derivatives/pylossless/derivatives/sync_loss/derivatives/segment/epoch_fif_files/TO/sub-1093S1_ses-01_task-TO_run-1_eeg_epo.fif, File Name: sub-1093S1_ses-01_task-TO_run-1_eeg_epo.fif\n",
      "File Path: /project/def-emayada/q1k/experimental/derivatives/pylossless/derivatives/sync_loss/derivatives/segment/epoch_fif_files/TO/sub-0050M1_ses-01_task-TO_run-1_eeg_epo.fif, File Name: sub-0050M1_ses-01_task-TO_run-1_eeg_epo.fif\n",
      "File Path: /project/def-emayada/q1k/experimental/derivatives/pylossless/derivatives/sync_loss/derivatives/segment/epoch_fif_files/TO/sub-1057M1_ses-01_task-TO_run-1_eeg_epo.fif, File Name: sub-1057M1_ses-01_task-TO_run-1_eeg_epo.fif\n",
      "File Path: /project/def-emayada/q1k/experimental/derivatives/pylossless/derivatives/sync_loss/derivatives/segment/epoch_fif_files/TO/sub-1140S1_ses-01_task-TO_run-1_eeg_epo.fif, File Name: sub-1140S1_ses-01_task-TO_run-1_eeg_epo.fif\n",
      "File Path: /project/def-emayada/q1k/experimental/derivatives/pylossless/derivatives/sync_loss/derivatives/segment/epoch_fif_files/TO/sub-0159M1_ses-01_task-TO_run-1_eeg_epo.fif, File Name: sub-0159M1_ses-01_task-TO_run-1_eeg_epo.fif\n",
      "File Path: /project/def-emayada/q1k/experimental/derivatives/pylossless/derivatives/sync_loss/derivatives/segment/epoch_fif_files/TO/sub-1026M1_ses-01_task-TO_run-1_eeg_epo.fif, File Name: sub-1026M1_ses-01_task-TO_run-1_eeg_epo.fif\n",
      "File Path: /project/def-emayada/q1k/experimental/derivatives/pylossless/derivatives/sync_loss/derivatives/segment/epoch_fif_files/TO/sub-1078P_ses-01_task-TO_run-1_eeg_epo.fif, File Name: sub-1078P_ses-01_task-TO_run-1_eeg_epo.fif\n",
      "File Path: /project/def-emayada/q1k/experimental/derivatives/pylossless/derivatives/sync_loss/derivatives/segment/epoch_fif_files/TO/sub-1009S1_ses-01_task-TO_run-1_eeg_epo.fif, File Name: sub-1009S1_ses-01_task-TO_run-1_eeg_epo.fif\n",
      "File Path: /project/def-emayada/q1k/experimental/derivatives/pylossless/derivatives/sync_loss/derivatives/segment/epoch_fif_files/TO/sub-0119M1_ses-01_task-TO_run-1_eeg_epo.fif, File Name: sub-0119M1_ses-01_task-TO_run-1_eeg_epo.fif\n",
      "File Path: /project/def-emayada/q1k/experimental/derivatives/pylossless/derivatives/sync_loss/derivatives/segment/epoch_fif_files/TO/sub-1147S1_ses-01_task-TO_run-1_eeg_epo.fif, File Name: sub-1147S1_ses-01_task-TO_run-1_eeg_epo.fif\n",
      "File Path: /project/def-emayada/q1k/experimental/derivatives/pylossless/derivatives/sync_loss/derivatives/segment/epoch_fif_files/TO/sub-1078F1_ses-01_task-TO_run-1_eeg_epo.fif, File Name: sub-1078F1_ses-01_task-TO_run-1_eeg_epo.fif\n",
      "File Path: /project/def-emayada/q1k/experimental/derivatives/pylossless/derivatives/sync_loss/derivatives/segment/epoch_fif_files/TO/sub-0064M1_ses-01_task-TO_run-1_eeg_epo.fif, File Name: sub-0064M1_ses-01_task-TO_run-1_eeg_epo.fif\n",
      "File Path: /project/def-emayada/q1k/experimental/derivatives/pylossless/derivatives/sync_loss/derivatives/segment/epoch_fif_files/TO/sub-0181M1_ses-01_task-TO_run-1_eeg_epo.fif, File Name: sub-0181M1_ses-01_task-TO_run-1_eeg_epo.fif\n",
      "File Path: /project/def-emayada/q1k/experimental/derivatives/pylossless/derivatives/sync_loss/derivatives/segment/epoch_fif_files/TO/sub-0248S1_ses-01_task-TO_run-1_eeg_epo.fif, File Name: sub-0248S1_ses-01_task-TO_run-1_eeg_epo.fif\n",
      "File Path: /project/def-emayada/q1k/experimental/derivatives/pylossless/derivatives/sync_loss/derivatives/segment/epoch_fif_files/TO/sub-1112P_ses-01_task-TO_run-1_eeg_epo.fif, File Name: sub-1112P_ses-01_task-TO_run-1_eeg_epo.fif\n",
      "File Path: /project/def-emayada/q1k/experimental/derivatives/pylossless/derivatives/sync_loss/derivatives/segment/epoch_fif_files/TO/sub-1134S1_ses-01_task-TO_run-1_eeg_epo.fif, File Name: sub-1134S1_ses-01_task-TO_run-1_eeg_epo.fif\n",
      "File Path: /project/def-emayada/q1k/experimental/derivatives/pylossless/derivatives/sync_loss/derivatives/segment/epoch_fif_files/TO/sub-1109P_ses-01_task-TO_run-1_eeg_epo.fif, File Name: sub-1109P_ses-01_task-TO_run-1_eeg_epo.fif\n",
      "File Path: /project/def-emayada/q1k/experimental/derivatives/pylossless/derivatives/sync_loss/derivatives/segment/epoch_fif_files/TO/sub-1033P_ses-01_task-TO_run-1_eeg_epo.fif, File Name: sub-1033P_ses-01_task-TO_run-1_eeg_epo.fif\n",
      "File Path: /project/def-emayada/q1k/experimental/derivatives/pylossless/derivatives/sync_loss/derivatives/segment/epoch_fif_files/TO/sub-1102S1_ses-01_task-TO_run-1_eeg_epo.fif, File Name: sub-1102S1_ses-01_task-TO_run-1_eeg_epo.fif\n",
      "File Path: /project/def-emayada/q1k/experimental/derivatives/pylossless/derivatives/sync_loss/derivatives/segment/epoch_fif_files/TO/sub-1028P_ses-01_task-TO_run-1_eeg_epo.fif, File Name: sub-1028P_ses-01_task-TO_run-1_eeg_epo.fif\n",
      "File Path: /project/def-emayada/q1k/experimental/derivatives/pylossless/derivatives/sync_loss/derivatives/segment/epoch_fif_files/TO/sub-0171F1_ses-01_task-TO_run-1_eeg_epo.fif, File Name: sub-0171F1_ses-01_task-TO_run-1_eeg_epo.fif\n",
      "File Path: /project/def-emayada/q1k/experimental/derivatives/pylossless/derivatives/sync_loss/derivatives/segment/epoch_fif_files/TO/sub-1045P_ses-01_task-TO_run-1_eeg_epo.fif, File Name: sub-1045P_ses-01_task-TO_run-1_eeg_epo.fif\n",
      "File Path: /project/def-emayada/q1k/experimental/derivatives/pylossless/derivatives/sync_loss/derivatives/segment/epoch_fif_files/TO/sub-0216M1_ses-01_task-TO_run-1_eeg_epo.fif, File Name: sub-0216M1_ses-01_task-TO_run-1_eeg_epo.fif\n",
      "File Path: /project/def-emayada/q1k/experimental/derivatives/pylossless/derivatives/sync_loss/derivatives/segment/epoch_fif_files/TO/sub-1106M1_ses-01_task-TO_run-1_eeg_epo.fif, File Name: sub-1106M1_ses-01_task-TO_run-1_eeg_epo.fif\n",
      "File Path: /project/def-emayada/q1k/experimental/derivatives/pylossless/derivatives/sync_loss/derivatives/segment/epoch_fif_files/TO/sub-0186M1_ses-01_task-TO_run-1_eeg_epo.fif, File Name: sub-0186M1_ses-01_task-TO_run-1_eeg_epo.fif\n",
      "File Path: /project/def-emayada/q1k/experimental/derivatives/pylossless/derivatives/sync_loss/derivatives/segment/epoch_fif_files/TO/sub-1040P_ses-01_task-TO_run-1_eeg_epo.fif, File Name: sub-1040P_ses-01_task-TO_run-1_eeg_epo.fif\n",
      "File Path: /project/def-emayada/q1k/experimental/derivatives/pylossless/derivatives/sync_loss/derivatives/segment/epoch_fif_files/TO/sub-1052M1_ses-01_task-TO_run-1_eeg_epo.fif, File Name: sub-1052M1_ses-01_task-TO_run-1_eeg_epo.fif\n",
      "File Path: /project/def-emayada/q1k/experimental/derivatives/pylossless/derivatives/sync_loss/derivatives/segment/epoch_fif_files/TO/sub-1147F1_ses-01_task-TO_run-1_eeg_epo.fif, File Name: sub-1147F1_ses-01_task-TO_run-1_eeg_epo.fif\n",
      "File Path: /project/def-emayada/q1k/experimental/derivatives/pylossless/derivatives/sync_loss/derivatives/segment/epoch_fif_files/TO/sub-1024M1_ses-01_task-TO_run-1_eeg_epo.fif, File Name: sub-1024M1_ses-01_task-TO_run-1_eeg_epo.fif\n",
      "File Path: /project/def-emayada/q1k/experimental/derivatives/pylossless/derivatives/sync_loss/derivatives/segment/epoch_fif_files/TO/sub-1114P_ses-01_task-TO_run-1_eeg_epo.fif, File Name: sub-1114P_ses-01_task-TO_run-1_eeg_epo.fif\n",
      "File Path: /project/def-emayada/q1k/experimental/derivatives/pylossless/derivatives/sync_loss/derivatives/segment/epoch_fif_files/TO/sub-0216P_ses-01_task-TO_run-1_eeg_epo.fif, File Name: sub-0216P_ses-01_task-TO_run-1_eeg_epo.fif\n",
      "File Path: /project/def-emayada/q1k/experimental/derivatives/pylossless/derivatives/sync_loss/derivatives/segment/epoch_fif_files/TO/sub-0181P_ses-01_task-TO_run-1_eeg_epo.fif, File Name: sub-0181P_ses-01_task-TO_run-1_eeg_epo.fif\n",
      "File Path: /project/def-emayada/q1k/experimental/derivatives/pylossless/derivatives/sync_loss/derivatives/segment/epoch_fif_files/TO/sub-1067S1_ses-01_task-TO_run-1_eeg_epo.fif, File Name: sub-1067S1_ses-01_task-TO_run-1_eeg_epo.fif\n",
      "File Path: /project/def-emayada/q1k/experimental/derivatives/pylossless/derivatives/sync_loss/derivatives/segment/epoch_fif_files/TO/sub-1106P_ses-01_task-TO_run-1_eeg_epo.fif, File Name: sub-1106P_ses-01_task-TO_run-1_eeg_epo.fif\n",
      "File Path: /project/def-emayada/q1k/experimental/derivatives/pylossless/derivatives/sync_loss/derivatives/segment/epoch_fif_files/TO/sub-1052P_ses-01_task-TO_run-1_eeg_epo.fif, File Name: sub-1052P_ses-01_task-TO_run-1_eeg_epo.fif\n",
      "File Path: /project/def-emayada/q1k/experimental/derivatives/pylossless/derivatives/sync_loss/derivatives/segment/epoch_fif_files/TO/sub-1001M1_ses-01_task-TO_run-1_eeg_epo.fif, File Name: sub-1001M1_ses-01_task-TO_run-1_eeg_epo.fif\n",
      "File Path: /project/def-emayada/q1k/experimental/derivatives/pylossless/derivatives/sync_loss/derivatives/segment/epoch_fif_files/TO/sub-1028S2_ses-01_task-TO_run-1_eeg_epo.fif, File Name: sub-1028S2_ses-01_task-TO_run-1_eeg_epo.fif\n",
      "File Path: /project/def-emayada/q1k/experimental/derivatives/pylossless/derivatives/sync_loss/derivatives/segment/epoch_fif_files/TO/sub-1021P_ses-01_task-TO_run-1_eeg_epo.fif, File Name: sub-1021P_ses-01_task-TO_run-1_eeg_epo.fif\n",
      "File Path: /project/def-emayada/q1k/experimental/derivatives/pylossless/derivatives/sync_loss/derivatives/segment/epoch_fif_files/TO/sub-1057P_ses-01_task-TO_run-1_eeg_epo.fif, File Name: sub-1057P_ses-01_task-TO_run-1_eeg_epo.fif\n",
      "File Path: /project/def-emayada/q1k/experimental/derivatives/pylossless/derivatives/sync_loss/derivatives/segment/epoch_fif_files/TO/sub-1112M1_ses-01_task-TO_run-1_eeg_epo.fif, File Name: sub-1112M1_ses-01_task-TO_run-1_eeg_epo.fif\n",
      "File Path: /project/def-emayada/q1k/experimental/derivatives/pylossless/derivatives/sync_loss/derivatives/segment/epoch_fif_files/TO/sub-1109F1_ses-01_task-TO_run-1_eeg_epo.fif, File Name: sub-1109F1_ses-01_task-TO_run-1_eeg_epo.fif\n",
      "File Path: /project/def-emayada/q1k/experimental/derivatives/pylossless/derivatives/sync_loss/derivatives/segment/epoch_fif_files/TO/sub-0218M1_ses-01_task-TO_run-1_eeg_epo.fif, File Name: sub-0218M1_ses-01_task-TO_run-1_eeg_epo.fif\n",
      "File Path: /project/def-emayada/q1k/experimental/derivatives/pylossless/derivatives/sync_loss/derivatives/segment/epoch_fif_files/TO/sub-0162P_ses-01_task-TO_run-1_eeg_epo.fif, File Name: sub-0162P_ses-01_task-TO_run-1_eeg_epo.fif\n",
      "File Path: /project/def-emayada/q1k/experimental/derivatives/pylossless/derivatives/sync_loss/derivatives/segment/epoch_fif_files/TO/sub-1033S1_ses-01_task-TO_run-1_eeg_epo.fif, File Name: sub-1033S1_ses-01_task-TO_run-1_eeg_epo.fif\n",
      "File Path: /project/def-emayada/q1k/experimental/derivatives/pylossless/derivatives/sync_loss/derivatives/segment/epoch_fif_files/TO/sub-0179P_ses-01_task-TO_run-1_eeg_epo.fif, File Name: sub-0179P_ses-01_task-TO_run-1_eeg_epo.fif\n",
      "File Path: /project/def-emayada/q1k/experimental/derivatives/pylossless/derivatives/sync_loss/derivatives/segment/epoch_fif_files/TO/sub-1045S1_ses-01_task-TO_run-1_eeg_epo.fif, File Name: sub-1045S1_ses-01_task-TO_run-1_eeg_epo.fif\n",
      "File Path: /project/def-emayada/q1k/experimental/derivatives/pylossless/derivatives/sync_loss/derivatives/segment/epoch_fif_files/TO/sub-0196P_ses-01_task-TO_run-1_eeg_epo.fif, File Name: sub-0196P_ses-01_task-TO_run-1_eeg_epo.fif\n",
      "File Path: /project/def-emayada/q1k/experimental/derivatives/pylossless/derivatives/sync_loss/derivatives/segment/epoch_fif_files/TO/sub-1080F1_ses-01_task-TO_run-1_eeg_epo.fif, File Name: sub-1080F1_ses-01_task-TO_run-1_eeg_epo.fif\n",
      "File Path: /project/def-emayada/q1k/experimental/derivatives/pylossless/derivatives/sync_loss/derivatives/segment/epoch_fif_files/TO/sub-1006M1_ses-01_task-TO_run-1_eeg_epo.fif, File Name: sub-1006M1_ses-01_task-TO_run-1_eeg_epo.fif\n",
      "File Path: /project/def-emayada/q1k/experimental/derivatives/pylossless/derivatives/sync_loss/derivatives/segment/epoch_fif_files/TO/sub-1118P_ses-01_task-TO_run-1_eeg_epo.fif, File Name: sub-1118P_ses-01_task-TO_run-1_eeg_epo.fif\n",
      "File Path: /project/def-emayada/q1k/experimental/derivatives/pylossless/derivatives/sync_loss/derivatives/segment/epoch_fif_files/TO/sub-0179M1_ses-01_task-TO_run-1_eeg_epo.fif, File Name: sub-0179M1_ses-01_task-TO_run-1_eeg_epo.fif\n",
      "File Path: /project/def-emayada/q1k/experimental/derivatives/pylossless/derivatives/sync_loss/derivatives/segment/epoch_fif_files/TO/sub-0064P_ses-01_task-TO_run-1_eeg_epo.fif, File Name: sub-0064P_ses-01_task-TO_run-1_eeg_epo.fif\n",
      "File Path: /project/def-emayada/q1k/experimental/derivatives/pylossless/derivatives/sync_loss/derivatives/segment/epoch_fif_files/TO/sub-1006P_ses-01_task-TO_run-1_eeg_epo.fif, File Name: sub-1006P_ses-01_task-TO_run-1_eeg_epo.fif\n",
      "File Path: /project/def-emayada/q1k/experimental/derivatives/pylossless/derivatives/sync_loss/derivatives/segment/epoch_fif_files/TO/sub-0248P_ses-01_task-TO_run-1_eeg_epo.fif, File Name: sub-0248P_ses-01_task-TO_run-1_eeg_epo.fif\n",
      "File Path: /project/def-emayada/q1k/experimental/derivatives/pylossless/derivatives/sync_loss/derivatives/segment/epoch_fif_files/TO/sub-0128P_ses-01_task-TO_run-1_eeg_epo.fif, File Name: sub-0128P_ses-01_task-TO_run-1_eeg_epo.fif\n",
      "File Path: /project/def-emayada/q1k/experimental/derivatives/pylossless/derivatives/sync_loss/derivatives/segment/epoch_fif_files/TO/sub-1147S2_ses-01_task-TO_run-1_eeg_epo.fif, File Name: sub-1147S2_ses-01_task-TO_run-1_eeg_epo.fif\n",
      "File Path: /project/def-emayada/q1k/experimental/derivatives/pylossless/derivatives/sync_loss/derivatives/segment/epoch_fif_files/TO/sub-1067M1_ses-01_task-TO_run-1_eeg_epo.fif, File Name: sub-1067M1_ses-01_task-TO_run-1_eeg_epo.fif\n",
      "File Path: /project/def-emayada/q1k/experimental/derivatives/pylossless/derivatives/sync_loss/derivatives/segment/epoch_fif_files/TO/sub-1073P_ses-01_task-TO_run-1_eeg_epo.fif, File Name: sub-1073P_ses-01_task-TO_run-1_eeg_epo.fif\n",
      "File Path: /project/def-emayada/q1k/experimental/derivatives/pylossless/derivatives/sync_loss/derivatives/segment/epoch_fif_files/TO/sub-0104C1_ses-01_task-TO_run-1_eeg_epo.fif, File Name: sub-0104C1_ses-01_task-TO_run-1_eeg_epo.fif\n",
      "File Path: /project/def-emayada/q1k/experimental/derivatives/pylossless/derivatives/sync_loss/derivatives/segment/epoch_fif_files/TO/sub-1052S1_ses-01_task-TO_run-1_eeg_epo.fif, File Name: sub-1052S1_ses-01_task-TO_run-1_eeg_epo.fif\n",
      "File Path: /project/def-emayada/q1k/experimental/derivatives/pylossless/derivatives/sync_loss/derivatives/segment/epoch_fif_files/TO/sub-1057F1_ses-01_task-TO_run-1_eeg_epo.fif, File Name: sub-1057F1_ses-01_task-TO_run-1_eeg_epo.fif\n",
      "File Path: /project/def-emayada/q1k/experimental/derivatives/pylossless/derivatives/sync_loss/derivatives/segment/epoch_fif_files/TO/sub-1093S2_ses-01_task-TO_run-1_eeg_epo.fif, File Name: sub-1093S2_ses-01_task-TO_run-1_eeg_epo.fif\n",
      "File Path: /project/def-emayada/q1k/experimental/derivatives/pylossless/derivatives/sync_loss/derivatives/segment/epoch_fif_files/TO/sub-1134M1_ses-01_task-TO_run-1_eeg_epo.fif, File Name: sub-1134M1_ses-01_task-TO_run-1_eeg_epo.fif\n",
      "File Path: /project/def-emayada/q1k/experimental/derivatives/pylossless/derivatives/sync_loss/derivatives/segment/epoch_fif_files/TO/sub-1061F1_ses-01_task-TO_run-1_eeg_epo.fif, File Name: sub-1061F1_ses-01_task-TO_run-1_eeg_epo.fif\n",
      "File Path: /project/def-emayada/q1k/experimental/derivatives/pylossless/derivatives/sync_loss/derivatives/segment/epoch_fif_files/TO/sub-1121P_ses-01_task-TO_run-1_eeg_epo.fif, File Name: sub-1121P_ses-01_task-TO_run-1_eeg_epo.fif\n",
      "File Path: /project/def-emayada/q1k/experimental/derivatives/pylossless/derivatives/sync_loss/derivatives/segment/epoch_fif_files/TO/sub-1118M1_ses-01_task-TO_run-1_eeg_epo.fif, File Name: sub-1118M1_ses-01_task-TO_run-1_eeg_epo.fif\n",
      "File Path: /project/def-emayada/q1k/experimental/derivatives/pylossless/derivatives/sync_loss/derivatives/segment/epoch_fif_files/TO/sub-1018P_ses-01_task-TO_run-1_eeg_epo.fif, File Name: sub-1018P_ses-01_task-TO_run-1_eeg_epo.fif\n",
      "File Path: /project/def-emayada/q1k/experimental/derivatives/pylossless/derivatives/sync_loss/derivatives/segment/epoch_fif_files/TO/sub-0064S1_ses-01_task-TO_run-1_eeg_epo.fif, File Name: sub-0064S1_ses-01_task-TO_run-1_eeg_epo.fif\n",
      "File Path: /project/def-emayada/q1k/experimental/derivatives/pylossless/derivatives/sync_loss/derivatives/segment/epoch_fif_files/TO/sub-1021F1_ses-01_task-TO_run-1_eeg_epo.fif, File Name: sub-1021F1_ses-01_task-TO_run-1_eeg_epo.fif\n",
      "File Path: /project/def-emayada/q1k/experimental/derivatives/pylossless/derivatives/sync_loss/derivatives/segment/epoch_fif_files/TO/sub-0248M1_ses-01_task-TO_run-1_eeg_epo.fif, File Name: sub-0248M1_ses-01_task-TO_run-1_eeg_epo.fif\n",
      "File Path: /project/def-emayada/q1k/experimental/derivatives/pylossless/derivatives/sync_loss/derivatives/segment/epoch_fif_files/TO/sub-1143F1_ses-01_task-TO_run-1_eeg_epo.fif, File Name: sub-1143F1_ses-01_task-TO_run-1_eeg_epo.fif\n",
      "File Path: /project/def-emayada/q1k/experimental/derivatives/pylossless/derivatives/sync_loss/derivatives/segment/epoch_fif_files/TO/sub-1061S3_ses-01_task-TO_run-1_eeg_epo.fif, File Name: sub-1061S3_ses-01_task-TO_run-1_eeg_epo.fif\n",
      "File Path: /project/def-emayada/q1k/experimental/derivatives/pylossless/derivatives/sync_loss/derivatives/segment/epoch_fif_files/TO/sub-0043F1_ses-01_task-TO_run-1_eeg_epo.fif, File Name: sub-0043F1_ses-01_task-TO_run-1_eeg_epo.fif\n",
      "File Path: /project/def-emayada/q1k/experimental/derivatives/pylossless/derivatives/sync_loss/derivatives/segment/epoch_fif_files/TO/sub-1067P_ses-01_task-TO_run-1_eeg_epo.fif, File Name: sub-1067P_ses-01_task-TO_run-1_eeg_epo.fif\n",
      "File Path: /project/def-emayada/q1k/experimental/derivatives/pylossless/derivatives/sync_loss/derivatives/segment/epoch_fif_files/TO/sub-1073M1_ses-01_task-TO_run-1_eeg_epo.fif, File Name: sub-1073M1_ses-01_task-TO_run-1_eeg_epo.fif\n",
      "File Path: /project/def-emayada/q1k/experimental/derivatives/pylossless/derivatives/sync_loss/derivatives/segment/epoch_fif_files/TO/sub-1093P_ses-01_task-TO_run-1_eeg_epo.fif, File Name: sub-1093P_ses-01_task-TO_run-1_eeg_epo.fif\n",
      "File Path: /project/def-emayada/q1k/experimental/derivatives/pylossless/derivatives/sync_loss/derivatives/segment/epoch_fif_files/TO/sub-1083F1_ses-01_task-TO_run-1_eeg_epo.fif, File Name: sub-1083F1_ses-01_task-TO_run-1_eeg_epo.fif\n",
      "File Path: /project/def-emayada/q1k/experimental/derivatives/pylossless/derivatives/sync_loss/derivatives/segment/epoch_fif_files/TO/sub-1009P_ses-01_task-TO_run-1_eeg_epo.fif, File Name: sub-1009P_ses-01_task-TO_run-1_eeg_epo.fif\n",
      "File Path: /project/def-emayada/q1k/experimental/derivatives/pylossless/derivatives/sync_loss/derivatives/segment/epoch_fif_files/TO/sub-1033M1_ses-01_task-TO_run-1_eeg_epo.fif, File Name: sub-1033M1_ses-01_task-TO_run-1_eeg_epo.fif\n",
      "File Path: /project/def-emayada/q1k/experimental/derivatives/pylossless/derivatives/sync_loss/derivatives/segment/epoch_fif_files/TO/sub-0154P_ses-01_task-TO_run-1_eeg_epo.fif, File Name: sub-0154P_ses-01_task-TO_run-1_eeg_epo.fif\n",
      "File Path: /project/def-emayada/q1k/experimental/derivatives/pylossless/derivatives/sync_loss/derivatives/segment/epoch_fif_files/TO/sub-1121F1_ses-01_task-TO_run-1_eeg_epo.fif, File Name: sub-1121F1_ses-01_task-TO_run-1_eeg_epo.fif\n",
      "File Path: /project/def-emayada/q1k/experimental/derivatives/pylossless/derivatives/sync_loss/derivatives/segment/epoch_fif_files/TO/sub-1042M1_ses-01_task-TO_run-1_eeg_epo.fif, File Name: sub-1042M1_ses-01_task-TO_run-1_eeg_epo.fif\n",
      "File Path: /project/def-emayada/q1k/experimental/derivatives/pylossless/derivatives/sync_loss/derivatives/segment/epoch_fif_files/TO/sub-1140P_ses-01_task-TO_run-1_eeg_epo.fif, File Name: sub-1140P_ses-01_task-TO_run-1_eeg_epo.fif\n",
      "File Path: /project/def-emayada/q1k/experimental/derivatives/pylossless/derivatives/sync_loss/derivatives/segment/epoch_fif_files/TO/sub-1061P_ses-01_task-TO_run-1_eeg_epo.fif, File Name: sub-1061P_ses-01_task-TO_run-1_eeg_epo.fif\n",
      "File Path: /project/def-emayada/q1k/experimental/derivatives/pylossless/derivatives/sync_loss/derivatives/segment/epoch_fif_files/TO/sub-1001S1_ses-01_task-TO_run-1_eeg_epo.fif, File Name: sub-1001S1_ses-01_task-TO_run-1_eeg_epo.fif\n",
      "File Path: /project/def-emayada/q1k/experimental/derivatives/pylossless/derivatives/sync_loss/derivatives/segment/epoch_fif_files/TO/sub-0068F1_ses-01_task-TO_run-1_eeg_epo.fif, File Name: sub-0068F1_ses-01_task-TO_run-1_eeg_epo.fif\n",
      "File Path: /project/def-emayada/q1k/experimental/derivatives/pylossless/derivatives/sync_loss/derivatives/segment/epoch_fif_files/TO/sub-0281M1_ses-01_task-TO_run-1_eeg_epo.fif, File Name: sub-0281M1_ses-01_task-TO_run-1_eeg_epo.fif\n",
      "File Path: /project/def-emayada/q1k/experimental/derivatives/pylossless/derivatives/sync_loss/derivatives/segment/epoch_fif_files/TO/sub-0157P_ses-01_task-TO_run-1_eeg_epo.fif, File Name: sub-0157P_ses-01_task-TO_run-1_eeg_epo.fif\n",
      "File Path: /project/def-emayada/q1k/experimental/derivatives/pylossless/derivatives/sync_loss/derivatives/segment/epoch_fif_files/TO/sub-1143P_ses-01_task-TO_run-1_eeg_epo.fif, File Name: sub-1143P_ses-01_task-TO_run-1_eeg_epo.fif\n"
     ]
    }
   ],
   "source": [
    "# Function to extract details from filename\n",
    "def extract_job_info(filename):\n",
    "    # Define the pattern to capture the required sections\n",
    "    pattern = r\"sub-(.*?)_ses-(.*?)_task-(.*?)_run-(.*?)_eeg\\.edf\"\n",
    "    match = re.match(pattern, filename)\n",
    "\n",
    "    if match:\n",
    "        # Extract the groups from the match\n",
    "        subject_id = match.group(1)\n",
    "        session_id = match.group(2)\n",
    "        task_id = match.group(3)\n",
    "        run_id = match.group(4)\n",
    "        return subject_id, session_id, task_id, run_id\n",
    "    else:\n",
    "        raise ValueError(\"Filename pattern did not match.\")\n",
    "\n",
    "\n",
    "in_pattern = project_path + pyll_path + sync_loss_path + '**/eeg/*' + task_id + '*.edf'\n",
    "in_file_paths = glob.glob(in_pattern, recursive=True)\n",
    "print(f\"Input files:\")\n",
    "for file_path in in_file_paths:\n",
    "    file_name = os.path.basename(file_path)  # Extract the filename from the full path\n",
    "    print(f\"File Path: {file_path}, File Name: {file_name}\")\n",
    "\n",
    "    \n",
    "# Make sure the output directories exists\n",
    "if not os.path.exists(project_path + pyll_path + sync_loss_path + segment_path + out_seg_path + task_id):\n",
    "    os.makedirs(project_path + pyll_path + sync_loss_path + segment_path + out_seg_path + task_id)\n",
    "if not os.path.exists(project_path + pyll_path + sync_loss_path + segment_path + out_avg_path + task_id):\n",
    "    os.makedirs(project_path + pyll_path + sync_loss_path +segment_path + out_avg_path + task_id)\n",
    "    \n",
    "out_seg_pattern = project_path + pyll_path + sync_loss_path + segment_path + out_seg_path + task_id + '/*' + task_id + '*epo.fif'\n",
    "out_seg_file_paths = glob.glob(out_seg_pattern, recursive=True)\n",
    "print(f\"existing output epoch files:\")\n",
    "for file_path in out_seg_file_paths:\n",
    "    file_name = os.path.basename(file_path)  # Extract the filename from the full path\n",
    "    print(f\"File Path: {file_path}, File Name: {file_name}\")\n",
    "\n",
    "out_avg_pattern = project_path + pyll_path + sync_loss_path + segment_path + out_avg_path + task_id + '/*' + task_id + '*epo.fif'\n",
    "out_avg_file_paths = glob.glob(out_seg_pattern, recursive=True)\n",
    "print(f\"existing output avg files:\")\n",
    "for file_path in out_avg_file_paths:\n",
    "    file_name = os.path.basename(file_path)  # Extract the filename from the full path\n",
    "    print(f\"File Path: {file_path}, File Name: {file_name}\")\n",
    "\n",
    "    #submit_slurm_job(project_path, file_name)"
   ]
  },
  {
   "cell_type": "code",
   "execution_count": 5,
   "metadata": {},
   "outputs": [
    {
     "data": {
      "text/plain": [
       "[]"
      ]
     },
     "execution_count": 5,
     "metadata": {},
     "output_type": "execute_result"
    }
   ],
   "source": [
    "glob.glob(project_path + pyll_path + sync_loss_path + segment_path + code_path + html_reports_path + task_id + \"/*.html\")"
   ]
  },
  {
   "cell_type": "code",
   "execution_count": 6,
   "metadata": {},
   "outputs": [
    {
     "name": "stdout",
     "output_type": "stream",
     "text": [
      "Existing session reports:\n"
     ]
    },
    {
     "data": {
      "text/plain": [
       "[]"
      ]
     },
     "execution_count": 6,
     "metadata": {},
     "output_type": "execute_result"
    }
   ],
   "source": [
    "# Generate list of session reports already processed so they are not processed again in next step\n",
    "processed_sessions = []\n",
    "\n",
    "for subject in glob.glob(project_path + pyll_path + sync_loss_path + segment_path + code_path + html_reports_path + task_id + \"/*.html\"): \n",
    "    html_file = subject.split('/')[-1]\n",
    "    processed_sessions.append(html_file.split('_')[0])\n",
    "\n",
    "    #processed_sessions.append(subject.split('\\\\')[1][:-5])\n",
    "    print(subject)\n",
    "    #processed_sessions.append(subject.split('//')[1][:-5])\n",
    "\n",
    "print('Existing session reports:')\n",
    "processed_sessions"
   ]
  },
  {
   "cell_type": "markdown",
   "metadata": {},
   "source": [
    "## Generate html session reports for all participants"
   ]
  },
  {
   "cell_type": "code",
   "execution_count": 7,
   "metadata": {},
   "outputs": [
    {
     "name": "stdout",
     "output_type": "stream",
     "text": [
      "Current data file: sub-1102S1_ses-01_task-TO_run-1_eeg.edf\n",
      "Participant ID: 1102S1\n",
      "1102S1\n",
      "Output notebook file: /project/def-emayada/q1k/experimental/derivatives/pylossless/derivatives/sync_loss/derivatives/segment/code/q1k_segment/session_reports/TO/executed_notebooks/1102S1_TO_executed.ipynb\n",
      "Output HTML file: /project/def-emayada/q1k/experimental/derivatives/pylossless/derivatives/sync_loss/derivatives/segment/code/q1k_segment/session_reports/TO/1102S1_TO.html\n"
     ]
    },
    {
     "data": {
      "application/vnd.jupyter.widget-view+json": {
       "model_id": "5cc4096255f1400bba5a6e931c8d8ed9",
       "version_major": 2,
       "version_minor": 0
      },
      "text/plain": [
       "Executing:   0%|          | 0/31 [00:00<?, ?cell/s]"
      ]
     },
     "metadata": {},
     "output_type": "display_data"
    },
    {
     "name": "stdout",
     "output_type": "stream",
     "text": [
      "HTML report saved for 1102S1.\n",
      "Current data file: sub-1147F1_ses-01_task-TO_run-1_eeg.edf\n",
      "Participant ID: 1147F1\n",
      "1147F1\n",
      "Output notebook file: /project/def-emayada/q1k/experimental/derivatives/pylossless/derivatives/sync_loss/derivatives/segment/code/q1k_segment/session_reports/TO/executed_notebooks/1147F1_TO_executed.ipynb\n",
      "Output HTML file: /project/def-emayada/q1k/experimental/derivatives/pylossless/derivatives/sync_loss/derivatives/segment/code/q1k_segment/session_reports/TO/1147F1_TO.html\n"
     ]
    },
    {
     "data": {
      "application/vnd.jupyter.widget-view+json": {
       "model_id": "24c8e522aa34469ea6a9fceffbf6b958",
       "version_major": 2,
       "version_minor": 0
      },
      "text/plain": [
       "Executing:   0%|          | 0/31 [00:00<?, ?cell/s]"
      ]
     },
     "metadata": {},
     "output_type": "display_data"
    },
    {
     "name": "stdout",
     "output_type": "stream",
     "text": [
      "HTML report saved for 1147F1.\n",
      "Current data file: sub-1033P_ses-01_task-TO_run-1_eeg.edf\n",
      "Participant ID: 1033P\n",
      "1033P\n",
      "Output notebook file: /project/def-emayada/q1k/experimental/derivatives/pylossless/derivatives/sync_loss/derivatives/segment/code/q1k_segment/session_reports/TO/executed_notebooks/1033P_TO_executed.ipynb\n",
      "Output HTML file: /project/def-emayada/q1k/experimental/derivatives/pylossless/derivatives/sync_loss/derivatives/segment/code/q1k_segment/session_reports/TO/1033P_TO.html\n"
     ]
    },
    {
     "data": {
      "application/vnd.jupyter.widget-view+json": {
       "model_id": "c2d05ab915e84fd88d1d61ccb2dfd6b8",
       "version_major": 2,
       "version_minor": 0
      },
      "text/plain": [
       "Executing:   0%|          | 0/31 [00:00<?, ?cell/s]"
      ]
     },
     "metadata": {},
     "output_type": "display_data"
    },
    {
     "name": "stdout",
     "output_type": "stream",
     "text": [
      "HTML report saved for 1033P.\n",
      "Current data file: sub-1067P_ses-01_task-TO_run-1_eeg.edf\n",
      "Participant ID: 1067P\n",
      "1067P\n",
      "Output notebook file: /project/def-emayada/q1k/experimental/derivatives/pylossless/derivatives/sync_loss/derivatives/segment/code/q1k_segment/session_reports/TO/executed_notebooks/1067P_TO_executed.ipynb\n",
      "Output HTML file: /project/def-emayada/q1k/experimental/derivatives/pylossless/derivatives/sync_loss/derivatives/segment/code/q1k_segment/session_reports/TO/1067P_TO.html\n"
     ]
    },
    {
     "data": {
      "application/vnd.jupyter.widget-view+json": {
       "model_id": "1cc3e8802d7d4b9d8ad76c408498d70c",
       "version_major": 2,
       "version_minor": 0
      },
      "text/plain": [
       "Executing:   0%|          | 0/31 [00:00<?, ?cell/s]"
      ]
     },
     "metadata": {},
     "output_type": "display_data"
    },
    {
     "name": "stdout",
     "output_type": "stream",
     "text": [
      "HTML report saved for 1067P.\n",
      "Current data file: sub-0157P_ses-01_task-TO_run-1_eeg.edf\n",
      "Participant ID: 0157P\n",
      "0157P\n",
      "Output notebook file: /project/def-emayada/q1k/experimental/derivatives/pylossless/derivatives/sync_loss/derivatives/segment/code/q1k_segment/session_reports/TO/executed_notebooks/0157P_TO_executed.ipynb\n",
      "Output HTML file: /project/def-emayada/q1k/experimental/derivatives/pylossless/derivatives/sync_loss/derivatives/segment/code/q1k_segment/session_reports/TO/0157P_TO.html\n"
     ]
    },
    {
     "data": {
      "application/vnd.jupyter.widget-view+json": {
       "model_id": "a1ed857f8c6744c5811a8db718a54750",
       "version_major": 2,
       "version_minor": 0
      },
      "text/plain": [
       "Executing:   0%|          | 0/31 [00:00<?, ?cell/s]"
      ]
     },
     "metadata": {},
     "output_type": "display_data"
    },
    {
     "name": "stdout",
     "output_type": "stream",
     "text": [
      "HTML report saved for 0157P.\n",
      "Current data file: sub-0179P_ses-01_task-TO_run-1_eeg.edf\n",
      "Participant ID: 0179P\n",
      "0179P\n",
      "Output notebook file: /project/def-emayada/q1k/experimental/derivatives/pylossless/derivatives/sync_loss/derivatives/segment/code/q1k_segment/session_reports/TO/executed_notebooks/0179P_TO_executed.ipynb\n",
      "Output HTML file: /project/def-emayada/q1k/experimental/derivatives/pylossless/derivatives/sync_loss/derivatives/segment/code/q1k_segment/session_reports/TO/0179P_TO.html\n"
     ]
    },
    {
     "data": {
      "application/vnd.jupyter.widget-view+json": {
       "model_id": "36ca2cc2c89149c48a1742c4db16ce8c",
       "version_major": 2,
       "version_minor": 0
      },
      "text/plain": [
       "Executing:   0%|          | 0/31 [00:00<?, ?cell/s]"
      ]
     },
     "metadata": {},
     "output_type": "display_data"
    },
    {
     "name": "stdout",
     "output_type": "stream",
     "text": [
      "HTML report saved for 0179P.\n",
      "Current data file: sub-1102P_ses-01_task-TO_run-1_eeg.edf\n",
      "Participant ID: 1102P\n",
      "1102P\n",
      "Output notebook file: /project/def-emayada/q1k/experimental/derivatives/pylossless/derivatives/sync_loss/derivatives/segment/code/q1k_segment/session_reports/TO/executed_notebooks/1102P_TO_executed.ipynb\n",
      "Output HTML file: /project/def-emayada/q1k/experimental/derivatives/pylossless/derivatives/sync_loss/derivatives/segment/code/q1k_segment/session_reports/TO/1102P_TO.html\n"
     ]
    },
    {
     "data": {
      "application/vnd.jupyter.widget-view+json": {
       "model_id": "5a2fdc5a8ead4e4c895376fb22fe750f",
       "version_major": 2,
       "version_minor": 0
      },
      "text/plain": [
       "Executing:   0%|          | 0/31 [00:00<?, ?cell/s]"
      ]
     },
     "metadata": {},
     "output_type": "display_data"
    },
    {
     "name": "stdout",
     "output_type": "stream",
     "text": [
      "HTML report saved for 1102P.\n",
      "Current data file: sub-1140S1_ses-01_task-TO_run-1_eeg.edf\n",
      "Participant ID: 1140S1\n",
      "1140S1\n",
      "Output notebook file: /project/def-emayada/q1k/experimental/derivatives/pylossless/derivatives/sync_loss/derivatives/segment/code/q1k_segment/session_reports/TO/executed_notebooks/1140S1_TO_executed.ipynb\n",
      "Output HTML file: /project/def-emayada/q1k/experimental/derivatives/pylossless/derivatives/sync_loss/derivatives/segment/code/q1k_segment/session_reports/TO/1140S1_TO.html\n"
     ]
    },
    {
     "data": {
      "application/vnd.jupyter.widget-view+json": {
       "model_id": "71c4ed65d56542f194c0c526a99b0165",
       "version_major": 2,
       "version_minor": 0
      },
      "text/plain": [
       "Executing:   0%|          | 0/31 [00:00<?, ?cell/s]"
      ]
     },
     "metadata": {},
     "output_type": "display_data"
    },
    {
     "name": "stdout",
     "output_type": "stream",
     "text": [
      "HTML report saved for 1140S1.\n",
      "Current data file: sub-1037F1_ses-01_task-TO_run-1_eeg.edf\n",
      "Participant ID: 1037F1\n",
      "1037F1\n",
      "Output notebook file: /project/def-emayada/q1k/experimental/derivatives/pylossless/derivatives/sync_loss/derivatives/segment/code/q1k_segment/session_reports/TO/executed_notebooks/1037F1_TO_executed.ipynb\n",
      "Output HTML file: /project/def-emayada/q1k/experimental/derivatives/pylossless/derivatives/sync_loss/derivatives/segment/code/q1k_segment/session_reports/TO/1037F1_TO.html\n"
     ]
    },
    {
     "data": {
      "application/vnd.jupyter.widget-view+json": {
       "model_id": "bd3b12d1d2c84bb38d915c39811f7771",
       "version_major": 2,
       "version_minor": 0
      },
      "text/plain": [
       "Executing:   0%|          | 0/31 [00:00<?, ?cell/s]"
      ]
     },
     "metadata": {},
     "output_type": "display_data"
    },
    {
     "name": "stdout",
     "output_type": "stream",
     "text": [
      "HTML report saved for 1037F1.\n",
      "Current data file: sub-1040M1_ses-01_task-TO_run-1_eeg.edf\n",
      "Participant ID: 1040M1\n",
      "1040M1\n",
      "Output notebook file: /project/def-emayada/q1k/experimental/derivatives/pylossless/derivatives/sync_loss/derivatives/segment/code/q1k_segment/session_reports/TO/executed_notebooks/1040M1_TO_executed.ipynb\n",
      "Output HTML file: /project/def-emayada/q1k/experimental/derivatives/pylossless/derivatives/sync_loss/derivatives/segment/code/q1k_segment/session_reports/TO/1040M1_TO.html\n"
     ]
    },
    {
     "data": {
      "application/vnd.jupyter.widget-view+json": {
       "model_id": "6a1a0d86a9944ba3b677773ffe11dc37",
       "version_major": 2,
       "version_minor": 0
      },
      "text/plain": [
       "Executing:   0%|          | 0/31 [00:00<?, ?cell/s]"
      ]
     },
     "metadata": {},
     "output_type": "display_data"
    },
    {
     "name": "stdout",
     "output_type": "stream",
     "text": [
      "HTML report saved for 1040M1.\n",
      "Current data file: sub-0119M1_ses-01_task-TO_run-1_eeg.edf\n",
      "Participant ID: 0119M1\n",
      "0119M1\n",
      "Output notebook file: /project/def-emayada/q1k/experimental/derivatives/pylossless/derivatives/sync_loss/derivatives/segment/code/q1k_segment/session_reports/TO/executed_notebooks/0119M1_TO_executed.ipynb\n",
      "Output HTML file: /project/def-emayada/q1k/experimental/derivatives/pylossless/derivatives/sync_loss/derivatives/segment/code/q1k_segment/session_reports/TO/0119M1_TO.html\n"
     ]
    },
    {
     "data": {
      "application/vnd.jupyter.widget-view+json": {
       "model_id": "da72b4e391d644418bfef5968dd5ade7",
       "version_major": 2,
       "version_minor": 0
      },
      "text/plain": [
       "Executing:   0%|          | 0/31 [00:00<?, ?cell/s]"
      ]
     },
     "metadata": {},
     "output_type": "display_data"
    },
    {
     "name": "stdout",
     "output_type": "stream",
     "text": [
      "HTML report saved for 0119M1.\n",
      "Current data file: sub-1078P_ses-01_task-TO_run-1_eeg.edf\n",
      "Participant ID: 1078P\n",
      "1078P\n",
      "Output notebook file: /project/def-emayada/q1k/experimental/derivatives/pylossless/derivatives/sync_loss/derivatives/segment/code/q1k_segment/session_reports/TO/executed_notebooks/1078P_TO_executed.ipynb\n",
      "Output HTML file: /project/def-emayada/q1k/experimental/derivatives/pylossless/derivatives/sync_loss/derivatives/segment/code/q1k_segment/session_reports/TO/1078P_TO.html\n"
     ]
    },
    {
     "data": {
      "application/vnd.jupyter.widget-view+json": {
       "model_id": "801fedfc691742d9b3f212e6fa84b6f0",
       "version_major": 2,
       "version_minor": 0
      },
      "text/plain": [
       "Executing:   0%|          | 0/31 [00:00<?, ?cell/s]"
      ]
     },
     "metadata": {},
     "output_type": "display_data"
    },
    {
     "name": "stdout",
     "output_type": "stream",
     "text": [
      "HTML report saved for 1078P.\n",
      "Current data file: sub-1162M1_ses-01_task-TO_run-1_eeg.edf\n",
      "Participant ID: 1162M1\n",
      "1162M1\n",
      "Output notebook file: /project/def-emayada/q1k/experimental/derivatives/pylossless/derivatives/sync_loss/derivatives/segment/code/q1k_segment/session_reports/TO/executed_notebooks/1162M1_TO_executed.ipynb\n",
      "Output HTML file: /project/def-emayada/q1k/experimental/derivatives/pylossless/derivatives/sync_loss/derivatives/segment/code/q1k_segment/session_reports/TO/1162M1_TO.html\n"
     ]
    },
    {
     "data": {
      "application/vnd.jupyter.widget-view+json": {
       "model_id": "4a65caa59ff14bcdb671ab8e90a4ff5b",
       "version_major": 2,
       "version_minor": 0
      },
      "text/plain": [
       "Executing:   0%|          | 0/31 [00:00<?, ?cell/s]"
      ]
     },
     "metadata": {},
     "output_type": "display_data"
    },
    {
     "name": "stdout",
     "output_type": "stream",
     "text": [
      "HTML report saved for 1162M1.\n",
      "Current data file: sub-0171P_ses-01_task-TO_run-1_eeg.edf\n",
      "Participant ID: 0171P\n",
      "0171P\n",
      "Output notebook file: /project/def-emayada/q1k/experimental/derivatives/pylossless/derivatives/sync_loss/derivatives/segment/code/q1k_segment/session_reports/TO/executed_notebooks/0171P_TO_executed.ipynb\n",
      "Output HTML file: /project/def-emayada/q1k/experimental/derivatives/pylossless/derivatives/sync_loss/derivatives/segment/code/q1k_segment/session_reports/TO/0171P_TO.html\n"
     ]
    },
    {
     "data": {
      "application/vnd.jupyter.widget-view+json": {
       "model_id": "b93a601ffa0e4aa18cab82bbf1618bdf",
       "version_major": 2,
       "version_minor": 0
      },
      "text/plain": [
       "Executing:   0%|          | 0/31 [00:00<?, ?cell/s]"
      ]
     },
     "metadata": {},
     "output_type": "display_data"
    },
    {
     "name": "stdout",
     "output_type": "stream",
     "text": [
      "Error while processing 0171P: \n",
      "---------------------------------------------------------------------------\n",
      "Exception encountered at \"In [8]\":\n",
      "---------------------------------------------------------------------------\n",
      "KeyError                                  Traceback (most recent call last)\n",
      "Cell In[8], line 25\n",
      "     23 eeg_event_dict['to/stimulus/audio/standard/set7/item1/SO71'] = eeg_event_dict.pop('SO71')\n",
      "     24 eeg_event_dict['to/stimulus/audio/standard/set7/item2/SO72'] = eeg_event_dict.pop('SO72')\n",
      "---> 25 eeg_event_dict['to/stimulus/audio/standard/set7/item3/SO73'] = eeg_event_dict.pop('SO73')\n",
      "     26 eeg_event_dict['to/stimulus/audio/standard/set7/item4/SO74'] = eeg_event_dict.pop('SO74')\n",
      "     27 eeg_event_dict['to/stimulus/audio/standard/set7/item5/SO75'] = eeg_event_dict.pop('SO75')\n",
      "\n",
      "KeyError: 'SO73'\n",
      "\n",
      "Current data file: sub-1093P_ses-01_task-TO_run-1_eeg.edf\n",
      "Participant ID: 1093P\n",
      "1093P\n",
      "Output notebook file: /project/def-emayada/q1k/experimental/derivatives/pylossless/derivatives/sync_loss/derivatives/segment/code/q1k_segment/session_reports/TO/executed_notebooks/1093P_TO_executed.ipynb\n",
      "Output HTML file: /project/def-emayada/q1k/experimental/derivatives/pylossless/derivatives/sync_loss/derivatives/segment/code/q1k_segment/session_reports/TO/1093P_TO.html\n"
     ]
    },
    {
     "data": {
      "application/vnd.jupyter.widget-view+json": {
       "model_id": "febfd9bdc6a64a22a1bcff6c033b17e7",
       "version_major": 2,
       "version_minor": 0
      },
      "text/plain": [
       "Executing:   0%|          | 0/31 [00:00<?, ?cell/s]"
      ]
     },
     "metadata": {},
     "output_type": "display_data"
    },
    {
     "name": "stdout",
     "output_type": "stream",
     "text": [
      "HTML report saved for 1093P.\n",
      "Current data file: sub-1001S1_ses-01_task-TO_run-1_eeg.edf\n",
      "Participant ID: 1001S1\n",
      "1001S1\n",
      "Output notebook file: /project/def-emayada/q1k/experimental/derivatives/pylossless/derivatives/sync_loss/derivatives/segment/code/q1k_segment/session_reports/TO/executed_notebooks/1001S1_TO_executed.ipynb\n",
      "Output HTML file: /project/def-emayada/q1k/experimental/derivatives/pylossless/derivatives/sync_loss/derivatives/segment/code/q1k_segment/session_reports/TO/1001S1_TO.html\n"
     ]
    },
    {
     "data": {
      "application/vnd.jupyter.widget-view+json": {
       "model_id": "788548944ef34ada8367023cf3bf599b",
       "version_major": 2,
       "version_minor": 0
      },
      "text/plain": [
       "Executing:   0%|          | 0/31 [00:00<?, ?cell/s]"
      ]
     },
     "metadata": {},
     "output_type": "display_data"
    },
    {
     "name": "stdout",
     "output_type": "stream",
     "text": [
      "HTML report saved for 1001S1.\n",
      "Current data file: sub-1033M1_ses-01_task-TO_run-1_eeg.edf\n",
      "Participant ID: 1033M1\n",
      "1033M1\n",
      "Output notebook file: /project/def-emayada/q1k/experimental/derivatives/pylossless/derivatives/sync_loss/derivatives/segment/code/q1k_segment/session_reports/TO/executed_notebooks/1033M1_TO_executed.ipynb\n",
      "Output HTML file: /project/def-emayada/q1k/experimental/derivatives/pylossless/derivatives/sync_loss/derivatives/segment/code/q1k_segment/session_reports/TO/1033M1_TO.html\n"
     ]
    },
    {
     "data": {
      "application/vnd.jupyter.widget-view+json": {
       "model_id": "5d69eeda500c476594852956d5606da0",
       "version_major": 2,
       "version_minor": 0
      },
      "text/plain": [
       "Executing:   0%|          | 0/31 [00:00<?, ?cell/s]"
      ]
     },
     "metadata": {},
     "output_type": "display_data"
    },
    {
     "name": "stdout",
     "output_type": "stream",
     "text": [
      "HTML report saved for 1033M1.\n",
      "Current data file: sub-0050P_ses-01_task-TO_run-1_eeg.edf\n",
      "Participant ID: 0050P\n",
      "0050P\n",
      "Output notebook file: /project/def-emayada/q1k/experimental/derivatives/pylossless/derivatives/sync_loss/derivatives/segment/code/q1k_segment/session_reports/TO/executed_notebooks/0050P_TO_executed.ipynb\n",
      "Output HTML file: /project/def-emayada/q1k/experimental/derivatives/pylossless/derivatives/sync_loss/derivatives/segment/code/q1k_segment/session_reports/TO/0050P_TO.html\n"
     ]
    },
    {
     "data": {
      "application/vnd.jupyter.widget-view+json": {
       "model_id": "0d3a389a4e334ec1b4298d8a4b9404f8",
       "version_major": 2,
       "version_minor": 0
      },
      "text/plain": [
       "Executing:   0%|          | 0/31 [00:00<?, ?cell/s]"
      ]
     },
     "metadata": {},
     "output_type": "display_data"
    },
    {
     "name": "stdout",
     "output_type": "stream",
     "text": [
      "HTML report saved for 0050P.\n",
      "Current data file: sub-1121M1_ses-01_task-TO_run-1_eeg.edf\n",
      "Participant ID: 1121M1\n",
      "1121M1\n",
      "Output notebook file: /project/def-emayada/q1k/experimental/derivatives/pylossless/derivatives/sync_loss/derivatives/segment/code/q1k_segment/session_reports/TO/executed_notebooks/1121M1_TO_executed.ipynb\n",
      "Output HTML file: /project/def-emayada/q1k/experimental/derivatives/pylossless/derivatives/sync_loss/derivatives/segment/code/q1k_segment/session_reports/TO/1121M1_TO.html\n"
     ]
    },
    {
     "data": {
      "application/vnd.jupyter.widget-view+json": {
       "model_id": "a923c200bc644ee59770384f2c065f23",
       "version_major": 2,
       "version_minor": 0
      },
      "text/plain": [
       "Executing:   0%|          | 0/31 [00:00<?, ?cell/s]"
      ]
     },
     "metadata": {},
     "output_type": "display_data"
    },
    {
     "name": "stdout",
     "output_type": "stream",
     "text": [
      "HTML report saved for 1121M1.\n",
      "Current data file: sub-1045F1_ses-01_task-TO_run-1_eeg.edf\n",
      "Participant ID: 1045F1\n",
      "1045F1\n",
      "Output notebook file: /project/def-emayada/q1k/experimental/derivatives/pylossless/derivatives/sync_loss/derivatives/segment/code/q1k_segment/session_reports/TO/executed_notebooks/1045F1_TO_executed.ipynb\n",
      "Output HTML file: /project/def-emayada/q1k/experimental/derivatives/pylossless/derivatives/sync_loss/derivatives/segment/code/q1k_segment/session_reports/TO/1045F1_TO.html\n"
     ]
    },
    {
     "data": {
      "application/vnd.jupyter.widget-view+json": {
       "model_id": "30053287d8eb4d20afbe3154a3eb2308",
       "version_major": 2,
       "version_minor": 0
      },
      "text/plain": [
       "Executing:   0%|          | 0/31 [00:00<?, ?cell/s]"
      ]
     },
     "metadata": {},
     "output_type": "display_data"
    },
    {
     "name": "stdout",
     "output_type": "stream",
     "text": [
      "HTML report saved for 1045F1.\n",
      "Current data file: sub-0196S2_ses-01_task-TO_run-1_eeg.edf\n",
      "Participant ID: 0196S2\n",
      "0196S2\n",
      "Output notebook file: /project/def-emayada/q1k/experimental/derivatives/pylossless/derivatives/sync_loss/derivatives/segment/code/q1k_segment/session_reports/TO/executed_notebooks/0196S2_TO_executed.ipynb\n",
      "Output HTML file: /project/def-emayada/q1k/experimental/derivatives/pylossless/derivatives/sync_loss/derivatives/segment/code/q1k_segment/session_reports/TO/0196S2_TO.html\n"
     ]
    },
    {
     "data": {
      "application/vnd.jupyter.widget-view+json": {
       "model_id": "4be9424b08cf49d1b4ca65d23872079d",
       "version_major": 2,
       "version_minor": 0
      },
      "text/plain": [
       "Executing:   0%|          | 0/31 [00:00<?, ?cell/s]"
      ]
     },
     "metadata": {},
     "output_type": "display_data"
    },
    {
     "name": "stdout",
     "output_type": "stream",
     "text": [
      "HTML report saved for 0196S2.\n",
      "Current data file: sub-1061M_ses-01_task-TO_run-1_eeg.edf\n",
      "Participant ID: 1061M\n",
      "1061M\n",
      "Output notebook file: /project/def-emayada/q1k/experimental/derivatives/pylossless/derivatives/sync_loss/derivatives/segment/code/q1k_segment/session_reports/TO/executed_notebooks/1061M_TO_executed.ipynb\n",
      "Output HTML file: /project/def-emayada/q1k/experimental/derivatives/pylossless/derivatives/sync_loss/derivatives/segment/code/q1k_segment/session_reports/TO/1061M_TO.html\n"
     ]
    },
    {
     "data": {
      "application/vnd.jupyter.widget-view+json": {
       "model_id": "ee536098c9074a9e8c6bf039c892d9e0",
       "version_major": 2,
       "version_minor": 0
      },
      "text/plain": [
       "Executing:   0%|          | 0/31 [00:00<?, ?cell/s]"
      ]
     },
     "metadata": {},
     "output_type": "display_data"
    },
    {
     "name": "stdout",
     "output_type": "stream",
     "text": [
      "HTML report saved for 1061M.\n",
      "Current data file: sub-0171M1_ses-01_task-TO_run-1_eeg.edf\n",
      "Participant ID: 0171M1\n",
      "0171M1\n",
      "Output notebook file: /project/def-emayada/q1k/experimental/derivatives/pylossless/derivatives/sync_loss/derivatives/segment/code/q1k_segment/session_reports/TO/executed_notebooks/0171M1_TO_executed.ipynb\n",
      "Output HTML file: /project/def-emayada/q1k/experimental/derivatives/pylossless/derivatives/sync_loss/derivatives/segment/code/q1k_segment/session_reports/TO/0171M1_TO.html\n"
     ]
    },
    {
     "data": {
      "application/vnd.jupyter.widget-view+json": {
       "model_id": "94421590e2fc48d29fde0084f3f4b73e",
       "version_major": 2,
       "version_minor": 0
      },
      "text/plain": [
       "Executing:   0%|          | 0/31 [00:00<?, ?cell/s]"
      ]
     },
     "metadata": {},
     "output_type": "display_data"
    },
    {
     "name": "stdout",
     "output_type": "stream",
     "text": [
      "HTML report saved for 0171M1.\n",
      "Current data file: sub-0186M1_ses-01_task-TO_run-1_eeg.edf\n",
      "Participant ID: 0186M1\n",
      "0186M1\n",
      "Output notebook file: /project/def-emayada/q1k/experimental/derivatives/pylossless/derivatives/sync_loss/derivatives/segment/code/q1k_segment/session_reports/TO/executed_notebooks/0186M1_TO_executed.ipynb\n",
      "Output HTML file: /project/def-emayada/q1k/experimental/derivatives/pylossless/derivatives/sync_loss/derivatives/segment/code/q1k_segment/session_reports/TO/0186M1_TO.html\n"
     ]
    },
    {
     "data": {
      "application/vnd.jupyter.widget-view+json": {
       "model_id": "73fd862736914afc8a8c965e9b063168",
       "version_major": 2,
       "version_minor": 0
      },
      "text/plain": [
       "Executing:   0%|          | 0/31 [00:00<?, ?cell/s]"
      ]
     },
     "metadata": {},
     "output_type": "display_data"
    },
    {
     "name": "stdout",
     "output_type": "stream",
     "text": [
      "HTML report saved for 0186M1.\n",
      "Current data file: sub-1083P_ses-01_task-TO_run-1_eeg.edf\n",
      "Participant ID: 1083P\n",
      "1083P\n",
      "Output notebook file: /project/def-emayada/q1k/experimental/derivatives/pylossless/derivatives/sync_loss/derivatives/segment/code/q1k_segment/session_reports/TO/executed_notebooks/1083P_TO_executed.ipynb\n",
      "Output HTML file: /project/def-emayada/q1k/experimental/derivatives/pylossless/derivatives/sync_loss/derivatives/segment/code/q1k_segment/session_reports/TO/1083P_TO.html\n"
     ]
    },
    {
     "data": {
      "application/vnd.jupyter.widget-view+json": {
       "model_id": "1c9f306fb20d4939bd4c182fff2d21b7",
       "version_major": 2,
       "version_minor": 0
      },
      "text/plain": [
       "Executing:   0%|          | 0/31 [00:00<?, ?cell/s]"
      ]
     },
     "metadata": {},
     "output_type": "display_data"
    },
    {
     "name": "stdout",
     "output_type": "stream",
     "text": [
      "HTML report saved for 1083P.\n",
      "Current data file: sub-0162S1_ses-01_task-TO_run-1_eeg.edf\n",
      "Participant ID: 0162S1\n",
      "0162S1\n",
      "Output notebook file: /project/def-emayada/q1k/experimental/derivatives/pylossless/derivatives/sync_loss/derivatives/segment/code/q1k_segment/session_reports/TO/executed_notebooks/0162S1_TO_executed.ipynb\n",
      "Output HTML file: /project/def-emayada/q1k/experimental/derivatives/pylossless/derivatives/sync_loss/derivatives/segment/code/q1k_segment/session_reports/TO/0162S1_TO.html\n"
     ]
    },
    {
     "data": {
      "application/vnd.jupyter.widget-view+json": {
       "model_id": "83957948868844e8a17477d759d19469",
       "version_major": 2,
       "version_minor": 0
      },
      "text/plain": [
       "Executing:   0%|          | 0/31 [00:00<?, ?cell/s]"
      ]
     },
     "metadata": {},
     "output_type": "display_data"
    },
    {
     "name": "stdout",
     "output_type": "stream",
     "text": [
      "HTML report saved for 0162S1.\n",
      "Current data file: sub-1009M1_ses-01_task-TO_run-1_eeg.edf\n",
      "Participant ID: 1009M1\n",
      "1009M1\n",
      "Output notebook file: /project/def-emayada/q1k/experimental/derivatives/pylossless/derivatives/sync_loss/derivatives/segment/code/q1k_segment/session_reports/TO/executed_notebooks/1009M1_TO_executed.ipynb\n",
      "Output HTML file: /project/def-emayada/q1k/experimental/derivatives/pylossless/derivatives/sync_loss/derivatives/segment/code/q1k_segment/session_reports/TO/1009M1_TO.html\n"
     ]
    },
    {
     "data": {
      "application/vnd.jupyter.widget-view+json": {
       "model_id": "acea92960f1e4a4291e17d865ad87537",
       "version_major": 2,
       "version_minor": 0
      },
      "text/plain": [
       "Executing:   0%|          | 0/31 [00:00<?, ?cell/s]"
      ]
     },
     "metadata": {},
     "output_type": "display_data"
    },
    {
     "name": "stdout",
     "output_type": "stream",
     "text": [
      "HTML report saved for 1009M1.\n",
      "Current data file: sub-1028S2_ses-01_task-TO_run-1_eeg.edf\n",
      "Participant ID: 1028S2\n",
      "1028S2\n",
      "Output notebook file: /project/def-emayada/q1k/experimental/derivatives/pylossless/derivatives/sync_loss/derivatives/segment/code/q1k_segment/session_reports/TO/executed_notebooks/1028S2_TO_executed.ipynb\n",
      "Output HTML file: /project/def-emayada/q1k/experimental/derivatives/pylossless/derivatives/sync_loss/derivatives/segment/code/q1k_segment/session_reports/TO/1028S2_TO.html\n"
     ]
    },
    {
     "data": {
      "application/vnd.jupyter.widget-view+json": {
       "model_id": "0527e90ededc40d0a5567326469513dd",
       "version_major": 2,
       "version_minor": 0
      },
      "text/plain": [
       "Executing:   0%|          | 0/31 [00:00<?, ?cell/s]"
      ]
     },
     "metadata": {},
     "output_type": "display_data"
    },
    {
     "name": "stdout",
     "output_type": "stream",
     "text": [
      "HTML report saved for 1028S2.\n",
      "Current data file: sub-1112P_ses-01_task-TO_run-1_eeg.edf\n",
      "Participant ID: 1112P\n",
      "1112P\n",
      "Output notebook file: /project/def-emayada/q1k/experimental/derivatives/pylossless/derivatives/sync_loss/derivatives/segment/code/q1k_segment/session_reports/TO/executed_notebooks/1112P_TO_executed.ipynb\n",
      "Output HTML file: /project/def-emayada/q1k/experimental/derivatives/pylossless/derivatives/sync_loss/derivatives/segment/code/q1k_segment/session_reports/TO/1112P_TO.html\n"
     ]
    },
    {
     "data": {
      "application/vnd.jupyter.widget-view+json": {
       "model_id": "4b2141a7661b47fc8a0691039e77c134",
       "version_major": 2,
       "version_minor": 0
      },
      "text/plain": [
       "Executing:   0%|          | 0/31 [00:00<?, ?cell/s]"
      ]
     },
     "metadata": {},
     "output_type": "display_data"
    },
    {
     "name": "stdout",
     "output_type": "stream",
     "text": [
      "HTML report saved for 1112P.\n",
      "Current data file: sub-1052S1_ses-01_task-TO_run-1_eeg.edf\n",
      "Participant ID: 1052S1\n",
      "1052S1\n",
      "Output notebook file: /project/def-emayada/q1k/experimental/derivatives/pylossless/derivatives/sync_loss/derivatives/segment/code/q1k_segment/session_reports/TO/executed_notebooks/1052S1_TO_executed.ipynb\n",
      "Output HTML file: /project/def-emayada/q1k/experimental/derivatives/pylossless/derivatives/sync_loss/derivatives/segment/code/q1k_segment/session_reports/TO/1052S1_TO.html\n"
     ]
    },
    {
     "data": {
      "application/vnd.jupyter.widget-view+json": {
       "model_id": "63be9a70b7a946d683d65e0b2344e09a",
       "version_major": 2,
       "version_minor": 0
      },
      "text/plain": [
       "Executing:   0%|          | 0/31 [00:00<?, ?cell/s]"
      ]
     },
     "metadata": {},
     "output_type": "display_data"
    },
    {
     "name": "stdout",
     "output_type": "stream",
     "text": [
      "HTML report saved for 1052S1.\n",
      "Current data file: sub-0248P_ses-01_task-TO_run-1_eeg.edf\n",
      "Participant ID: 0248P\n",
      "0248P\n",
      "Output notebook file: /project/def-emayada/q1k/experimental/derivatives/pylossless/derivatives/sync_loss/derivatives/segment/code/q1k_segment/session_reports/TO/executed_notebooks/0248P_TO_executed.ipynb\n",
      "Output HTML file: /project/def-emayada/q1k/experimental/derivatives/pylossless/derivatives/sync_loss/derivatives/segment/code/q1k_segment/session_reports/TO/0248P_TO.html\n"
     ]
    },
    {
     "data": {
      "application/vnd.jupyter.widget-view+json": {
       "model_id": "1377696f257e44c3b110c8acd51376cf",
       "version_major": 2,
       "version_minor": 0
      },
      "text/plain": [
       "Executing:   0%|          | 0/31 [00:00<?, ?cell/s]"
      ]
     },
     "metadata": {},
     "output_type": "display_data"
    },
    {
     "name": "stdout",
     "output_type": "stream",
     "text": [
      "HTML report saved for 0248P.\n",
      "Current data file: sub-0196M1_ses-01_task-TO_run-1_eeg.edf\n",
      "Participant ID: 0196M1\n",
      "0196M1\n",
      "Output notebook file: /project/def-emayada/q1k/experimental/derivatives/pylossless/derivatives/sync_loss/derivatives/segment/code/q1k_segment/session_reports/TO/executed_notebooks/0196M1_TO_executed.ipynb\n",
      "Output HTML file: /project/def-emayada/q1k/experimental/derivatives/pylossless/derivatives/sync_loss/derivatives/segment/code/q1k_segment/session_reports/TO/0196M1_TO.html\n"
     ]
    },
    {
     "data": {
      "application/vnd.jupyter.widget-view+json": {
       "model_id": "e7ead3d177f54763a777397f1eb95af5",
       "version_major": 2,
       "version_minor": 0
      },
      "text/plain": [
       "Executing:   0%|          | 0/31 [00:00<?, ?cell/s]"
      ]
     },
     "metadata": {},
     "output_type": "display_data"
    },
    {
     "name": "stdout",
     "output_type": "stream",
     "text": [
      "Error while processing 0196M1: \n",
      "---------------------------------------------------------------------------\n",
      "Exception encountered at \"In [8]\":\n",
      "---------------------------------------------------------------------------\n",
      "KeyError                                  Traceback (most recent call last)\n",
      "Cell In[8], line 54\n",
      "     52 eeg_event_dict['to/stimulus/audio/deviant/set6/Dev6'] = eeg_event_dict.pop('Dev6')\n",
      "     53 eeg_event_dict['to/stimulus/audio/deviant/set7/Dev7'] = eeg_event_dict.pop('Dev7')\n",
      "---> 54 eeg_event_dict['to/stimulus/audio/deviant/set8/Dev8'] = eeg_event_dict.pop('Dev8')\n",
      "     55 eeg_event_dict['to/stimulus/audio/deviant/set9/Dev9'] = eeg_event_dict.pop('Dev9')\n",
      "\n",
      "KeyError: 'Dev8'\n",
      "\n",
      "Current data file: sub-1083F1_ses-01_task-TO_run-1_eeg.edf\n",
      "Participant ID: 1083F1\n",
      "1083F1\n",
      "Output notebook file: /project/def-emayada/q1k/experimental/derivatives/pylossless/derivatives/sync_loss/derivatives/segment/code/q1k_segment/session_reports/TO/executed_notebooks/1083F1_TO_executed.ipynb\n",
      "Output HTML file: /project/def-emayada/q1k/experimental/derivatives/pylossless/derivatives/sync_loss/derivatives/segment/code/q1k_segment/session_reports/TO/1083F1_TO.html\n"
     ]
    },
    {
     "data": {
      "application/vnd.jupyter.widget-view+json": {
       "model_id": "100fff272e4343f19614676a88fce568",
       "version_major": 2,
       "version_minor": 0
      },
      "text/plain": [
       "Executing:   0%|          | 0/31 [00:00<?, ?cell/s]"
      ]
     },
     "metadata": {},
     "output_type": "display_data"
    },
    {
     "name": "stdout",
     "output_type": "stream",
     "text": [
      "HTML report saved for 1083F1.\n",
      "Current data file: sub-0216M1_ses-01_task-TO_run-1_eeg.edf\n",
      "Participant ID: 0216M1\n",
      "0216M1\n",
      "Output notebook file: /project/def-emayada/q1k/experimental/derivatives/pylossless/derivatives/sync_loss/derivatives/segment/code/q1k_segment/session_reports/TO/executed_notebooks/0216M1_TO_executed.ipynb\n",
      "Output HTML file: /project/def-emayada/q1k/experimental/derivatives/pylossless/derivatives/sync_loss/derivatives/segment/code/q1k_segment/session_reports/TO/0216M1_TO.html\n"
     ]
    },
    {
     "data": {
      "application/vnd.jupyter.widget-view+json": {
       "model_id": "aaa7b7ef7dfc4e6da35240e60b95b80b",
       "version_major": 2,
       "version_minor": 0
      },
      "text/plain": [
       "Executing:   0%|          | 0/31 [00:00<?, ?cell/s]"
      ]
     },
     "metadata": {},
     "output_type": "display_data"
    },
    {
     "name": "stdout",
     "output_type": "stream",
     "text": [
      "HTML report saved for 0216M1.\n",
      "Current data file: sub-0104P_ses-01_task-TO_run-1_eeg.edf\n",
      "Participant ID: 0104P\n",
      "0104P\n",
      "Output notebook file: /project/def-emayada/q1k/experimental/derivatives/pylossless/derivatives/sync_loss/derivatives/segment/code/q1k_segment/session_reports/TO/executed_notebooks/0104P_TO_executed.ipynb\n",
      "Output HTML file: /project/def-emayada/q1k/experimental/derivatives/pylossless/derivatives/sync_loss/derivatives/segment/code/q1k_segment/session_reports/TO/0104P_TO.html\n"
     ]
    },
    {
     "data": {
      "application/vnd.jupyter.widget-view+json": {
       "model_id": "6726929db5624b8f963c8192e4aaf0a8",
       "version_major": 2,
       "version_minor": 0
      },
      "text/plain": [
       "Executing:   0%|          | 0/31 [00:00<?, ?cell/s]"
      ]
     },
     "metadata": {},
     "output_type": "display_data"
    },
    {
     "name": "stdout",
     "output_type": "stream",
     "text": [
      "HTML report saved for 0104P.\n",
      "Current data file: sub-1057F1_ses-01_task-TO_run-1_eeg.edf\n",
      "Participant ID: 1057F1\n",
      "1057F1\n",
      "Output notebook file: /project/def-emayada/q1k/experimental/derivatives/pylossless/derivatives/sync_loss/derivatives/segment/code/q1k_segment/session_reports/TO/executed_notebooks/1057F1_TO_executed.ipynb\n",
      "Output HTML file: /project/def-emayada/q1k/experimental/derivatives/pylossless/derivatives/sync_loss/derivatives/segment/code/q1k_segment/session_reports/TO/1057F1_TO.html\n"
     ]
    },
    {
     "data": {
      "application/vnd.jupyter.widget-view+json": {
       "model_id": "5b4dd3f7bde5425c9f6578176848d109",
       "version_major": 2,
       "version_minor": 0
      },
      "text/plain": [
       "Executing:   0%|          | 0/31 [00:00<?, ?cell/s]"
      ]
     },
     "metadata": {},
     "output_type": "display_data"
    },
    {
     "name": "stdout",
     "output_type": "stream",
     "text": [
      "HTML report saved for 1057F1.\n",
      "Current data file: sub-1040P_ses-01_task-TO_run-1_eeg.edf\n",
      "Participant ID: 1040P\n",
      "1040P\n",
      "Output notebook file: /project/def-emayada/q1k/experimental/derivatives/pylossless/derivatives/sync_loss/derivatives/segment/code/q1k_segment/session_reports/TO/executed_notebooks/1040P_TO_executed.ipynb\n",
      "Output HTML file: /project/def-emayada/q1k/experimental/derivatives/pylossless/derivatives/sync_loss/derivatives/segment/code/q1k_segment/session_reports/TO/1040P_TO.html\n"
     ]
    },
    {
     "data": {
      "application/vnd.jupyter.widget-view+json": {
       "model_id": "4b223fd2d69546c9a39566ba70194adf",
       "version_major": 2,
       "version_minor": 0
      },
      "text/plain": [
       "Executing:   0%|          | 0/31 [00:00<?, ?cell/s]"
      ]
     },
     "metadata": {},
     "output_type": "display_data"
    },
    {
     "name": "stdout",
     "output_type": "stream",
     "text": [
      "HTML report saved for 1040P.\n",
      "Current data file: sub-1057P_ses-01_task-TO_run-1_eeg.edf\n",
      "Participant ID: 1057P\n",
      "1057P\n",
      "Output notebook file: /project/def-emayada/q1k/experimental/derivatives/pylossless/derivatives/sync_loss/derivatives/segment/code/q1k_segment/session_reports/TO/executed_notebooks/1057P_TO_executed.ipynb\n",
      "Output HTML file: /project/def-emayada/q1k/experimental/derivatives/pylossless/derivatives/sync_loss/derivatives/segment/code/q1k_segment/session_reports/TO/1057P_TO.html\n"
     ]
    },
    {
     "data": {
      "application/vnd.jupyter.widget-view+json": {
       "model_id": "6103444a3e5945ffa4e52aaeab87afcd",
       "version_major": 2,
       "version_minor": 0
      },
      "text/plain": [
       "Executing:   0%|          | 0/31 [00:00<?, ?cell/s]"
      ]
     },
     "metadata": {},
     "output_type": "display_data"
    },
    {
     "name": "stdout",
     "output_type": "stream",
     "text": [
      "HTML report saved for 1057P.\n",
      "Current data file: sub-0179M1_ses-01_task-TO_run-1_eeg.edf\n",
      "Participant ID: 0179M1\n",
      "0179M1\n",
      "Output notebook file: /project/def-emayada/q1k/experimental/derivatives/pylossless/derivatives/sync_loss/derivatives/segment/code/q1k_segment/session_reports/TO/executed_notebooks/0179M1_TO_executed.ipynb\n",
      "Output HTML file: /project/def-emayada/q1k/experimental/derivatives/pylossless/derivatives/sync_loss/derivatives/segment/code/q1k_segment/session_reports/TO/0179M1_TO.html\n"
     ]
    },
    {
     "data": {
      "application/vnd.jupyter.widget-view+json": {
       "model_id": "d0b69079443c49779ec06eb5dffc56e6",
       "version_major": 2,
       "version_minor": 0
      },
      "text/plain": [
       "Executing:   0%|          | 0/31 [00:00<?, ?cell/s]"
      ]
     },
     "metadata": {},
     "output_type": "display_data"
    },
    {
     "name": "stdout",
     "output_type": "stream",
     "text": [
      "HTML report saved for 0179M1.\n",
      "Current data file: sub-1033S1_ses-01_task-TO_run-1_eeg.edf\n",
      "Participant ID: 1033S1\n",
      "1033S1\n",
      "Output notebook file: /project/def-emayada/q1k/experimental/derivatives/pylossless/derivatives/sync_loss/derivatives/segment/code/q1k_segment/session_reports/TO/executed_notebooks/1033S1_TO_executed.ipynb\n",
      "Output HTML file: /project/def-emayada/q1k/experimental/derivatives/pylossless/derivatives/sync_loss/derivatives/segment/code/q1k_segment/session_reports/TO/1033S1_TO.html\n"
     ]
    },
    {
     "data": {
      "application/vnd.jupyter.widget-view+json": {
       "model_id": "6ce89cb1d1b14976a773b9e16f0a46f7",
       "version_major": 2,
       "version_minor": 0
      },
      "text/plain": [
       "Executing:   0%|          | 0/31 [00:00<?, ?cell/s]"
      ]
     },
     "metadata": {},
     "output_type": "display_data"
    },
    {
     "name": "stdout",
     "output_type": "stream",
     "text": [
      "HTML report saved for 1033S1.\n",
      "Current data file: sub-1112M1_ses-01_task-TO_run-1_eeg.edf\n",
      "Participant ID: 1112M1\n",
      "1112M1\n",
      "Output notebook file: /project/def-emayada/q1k/experimental/derivatives/pylossless/derivatives/sync_loss/derivatives/segment/code/q1k_segment/session_reports/TO/executed_notebooks/1112M1_TO_executed.ipynb\n",
      "Output HTML file: /project/def-emayada/q1k/experimental/derivatives/pylossless/derivatives/sync_loss/derivatives/segment/code/q1k_segment/session_reports/TO/1112M1_TO.html\n"
     ]
    },
    {
     "data": {
      "application/vnd.jupyter.widget-view+json": {
       "model_id": "24ac0bdcb4a14972a1e9adee3cee83d7",
       "version_major": 2,
       "version_minor": 0
      },
      "text/plain": [
       "Executing:   0%|          | 0/31 [00:00<?, ?cell/s]"
      ]
     },
     "metadata": {},
     "output_type": "display_data"
    },
    {
     "name": "stdout",
     "output_type": "stream",
     "text": [
      "HTML report saved for 1112M1.\n",
      "Current data file: sub-1001M1_ses-01_task-TO_run-1_eeg.edf\n",
      "Participant ID: 1001M1\n",
      "1001M1\n",
      "Output notebook file: /project/def-emayada/q1k/experimental/derivatives/pylossless/derivatives/sync_loss/derivatives/segment/code/q1k_segment/session_reports/TO/executed_notebooks/1001M1_TO_executed.ipynb\n",
      "Output HTML file: /project/def-emayada/q1k/experimental/derivatives/pylossless/derivatives/sync_loss/derivatives/segment/code/q1k_segment/session_reports/TO/1001M1_TO.html\n"
     ]
    },
    {
     "data": {
      "application/vnd.jupyter.widget-view+json": {
       "model_id": "f2170c3780e34b0c98c6fe6c95b51c31",
       "version_major": 2,
       "version_minor": 0
      },
      "text/plain": [
       "Executing:   0%|          | 0/31 [00:00<?, ?cell/s]"
      ]
     },
     "metadata": {},
     "output_type": "display_data"
    },
    {
     "name": "stdout",
     "output_type": "stream",
     "text": [
      "HTML report saved for 1001M1.\n",
      "Current data file: sub-1102S2_ses-01_task-TO_run-1_eeg.edf\n",
      "Participant ID: 1102S2\n",
      "1102S2\n",
      "Output notebook file: /project/def-emayada/q1k/experimental/derivatives/pylossless/derivatives/sync_loss/derivatives/segment/code/q1k_segment/session_reports/TO/executed_notebooks/1102S2_TO_executed.ipynb\n",
      "Output HTML file: /project/def-emayada/q1k/experimental/derivatives/pylossless/derivatives/sync_loss/derivatives/segment/code/q1k_segment/session_reports/TO/1102S2_TO.html\n"
     ]
    },
    {
     "data": {
      "application/vnd.jupyter.widget-view+json": {
       "model_id": "e93203ddeb7b40f7b5f2790c59e9923a",
       "version_major": 2,
       "version_minor": 0
      },
      "text/plain": [
       "Executing:   0%|          | 0/31 [00:00<?, ?cell/s]"
      ]
     },
     "metadata": {},
     "output_type": "display_data"
    },
    {
     "name": "stdout",
     "output_type": "stream",
     "text": [
      "HTML report saved for 1102S2.\n",
      "Current data file: sub-1143S1_ses-01_task-TO_run-1_eeg.edf\n",
      "Participant ID: 1143S1\n",
      "1143S1\n",
      "Output notebook file: /project/def-emayada/q1k/experimental/derivatives/pylossless/derivatives/sync_loss/derivatives/segment/code/q1k_segment/session_reports/TO/executed_notebooks/1143S1_TO_executed.ipynb\n",
      "Output HTML file: /project/def-emayada/q1k/experimental/derivatives/pylossless/derivatives/sync_loss/derivatives/segment/code/q1k_segment/session_reports/TO/1143S1_TO.html\n"
     ]
    },
    {
     "data": {
      "application/vnd.jupyter.widget-view+json": {
       "model_id": "d836fbb89ce54a6da8d43eaadf0534d5",
       "version_major": 2,
       "version_minor": 0
      },
      "text/plain": [
       "Executing:   0%|          | 0/31 [00:00<?, ?cell/s]"
      ]
     },
     "metadata": {},
     "output_type": "display_data"
    },
    {
     "name": "stdout",
     "output_type": "stream",
     "text": [
      "HTML report saved for 1143S1.\n",
      "Current data file: sub-1106F1_ses-01_task-TO_run-1_eeg.edf\n",
      "Participant ID: 1106F1\n",
      "1106F1\n",
      "Output notebook file: /project/def-emayada/q1k/experimental/derivatives/pylossless/derivatives/sync_loss/derivatives/segment/code/q1k_segment/session_reports/TO/executed_notebooks/1106F1_TO_executed.ipynb\n",
      "Output HTML file: /project/def-emayada/q1k/experimental/derivatives/pylossless/derivatives/sync_loss/derivatives/segment/code/q1k_segment/session_reports/TO/1106F1_TO.html\n"
     ]
    },
    {
     "data": {
      "application/vnd.jupyter.widget-view+json": {
       "model_id": "0848f2bf51fe4e3d8c28a63a11d0ccc0",
       "version_major": 2,
       "version_minor": 0
      },
      "text/plain": [
       "Executing:   0%|          | 0/31 [00:00<?, ?cell/s]"
      ]
     },
     "metadata": {},
     "output_type": "display_data"
    },
    {
     "name": "stdout",
     "output_type": "stream",
     "text": [
      "HTML report saved for 1106F1.\n",
      "Current data file: sub-1118M1_ses-01_task-TO_run-1_eeg.edf\n",
      "Participant ID: 1118M1\n",
      "1118M1\n",
      "Output notebook file: /project/def-emayada/q1k/experimental/derivatives/pylossless/derivatives/sync_loss/derivatives/segment/code/q1k_segment/session_reports/TO/executed_notebooks/1118M1_TO_executed.ipynb\n",
      "Output HTML file: /project/def-emayada/q1k/experimental/derivatives/pylossless/derivatives/sync_loss/derivatives/segment/code/q1k_segment/session_reports/TO/1118M1_TO.html\n"
     ]
    },
    {
     "data": {
      "application/vnd.jupyter.widget-view+json": {
       "model_id": "ab460d3641e6443893c8a4d1e79358a5",
       "version_major": 2,
       "version_minor": 0
      },
      "text/plain": [
       "Executing:   0%|          | 0/31 [00:00<?, ?cell/s]"
      ]
     },
     "metadata": {},
     "output_type": "display_data"
    },
    {
     "name": "stdout",
     "output_type": "stream",
     "text": [
      "HTML report saved for 1118M1.\n",
      "Current data file: sub-1140P_ses-01_task-TO_run-1_eeg.edf\n",
      "Participant ID: 1140P\n",
      "1140P\n",
      "Output notebook file: /project/def-emayada/q1k/experimental/derivatives/pylossless/derivatives/sync_loss/derivatives/segment/code/q1k_segment/session_reports/TO/executed_notebooks/1140P_TO_executed.ipynb\n",
      "Output HTML file: /project/def-emayada/q1k/experimental/derivatives/pylossless/derivatives/sync_loss/derivatives/segment/code/q1k_segment/session_reports/TO/1140P_TO.html\n"
     ]
    },
    {
     "data": {
      "application/vnd.jupyter.widget-view+json": {
       "model_id": "c4d531e0796248e29c98dbb061707797",
       "version_major": 2,
       "version_minor": 0
      },
      "text/plain": [
       "Executing:   0%|          | 0/31 [00:00<?, ?cell/s]"
      ]
     },
     "metadata": {},
     "output_type": "display_data"
    },
    {
     "name": "stdout",
     "output_type": "stream",
     "text": [
      "HTML report saved for 1140P.\n",
      "Current data file: sub-1114P_ses-01_task-TO_run-1_eeg.edf\n",
      "Participant ID: 1114P\n",
      "1114P\n",
      "Output notebook file: /project/def-emayada/q1k/experimental/derivatives/pylossless/derivatives/sync_loss/derivatives/segment/code/q1k_segment/session_reports/TO/executed_notebooks/1114P_TO_executed.ipynb\n",
      "Output HTML file: /project/def-emayada/q1k/experimental/derivatives/pylossless/derivatives/sync_loss/derivatives/segment/code/q1k_segment/session_reports/TO/1114P_TO.html\n"
     ]
    },
    {
     "data": {
      "application/vnd.jupyter.widget-view+json": {
       "model_id": "dea3d77d4fad4b6983baf60243def54e",
       "version_major": 2,
       "version_minor": 0
      },
      "text/plain": [
       "Executing:   0%|          | 0/31 [00:00<?, ?cell/s]"
      ]
     },
     "metadata": {},
     "output_type": "display_data"
    },
    {
     "name": "stdout",
     "output_type": "stream",
     "text": [
      "HTML report saved for 1114P.\n",
      "Current data file: sub-1147P_ses-01_task-TO_run-1_eeg.edf\n",
      "Participant ID: 1147P\n",
      "1147P\n",
      "Output notebook file: /project/def-emayada/q1k/experimental/derivatives/pylossless/derivatives/sync_loss/derivatives/segment/code/q1k_segment/session_reports/TO/executed_notebooks/1147P_TO_executed.ipynb\n",
      "Output HTML file: /project/def-emayada/q1k/experimental/derivatives/pylossless/derivatives/sync_loss/derivatives/segment/code/q1k_segment/session_reports/TO/1147P_TO.html\n"
     ]
    },
    {
     "data": {
      "application/vnd.jupyter.widget-view+json": {
       "model_id": "cf28b0223bb4455bb57086326e4c6bd6",
       "version_major": 2,
       "version_minor": 0
      },
      "text/plain": [
       "Executing:   0%|          | 0/31 [00:00<?, ?cell/s]"
      ]
     },
     "metadata": {},
     "output_type": "display_data"
    },
    {
     "name": "stdout",
     "output_type": "stream",
     "text": [
      "HTML report saved for 1147P.\n",
      "Current data file: sub-0068S1_ses-01_task-TO_run-1_eeg.edf\n",
      "Participant ID: 0068S1\n",
      "0068S1\n",
      "Output notebook file: /project/def-emayada/q1k/experimental/derivatives/pylossless/derivatives/sync_loss/derivatives/segment/code/q1k_segment/session_reports/TO/executed_notebooks/0068S1_TO_executed.ipynb\n",
      "Output HTML file: /project/def-emayada/q1k/experimental/derivatives/pylossless/derivatives/sync_loss/derivatives/segment/code/q1k_segment/session_reports/TO/0068S1_TO.html\n"
     ]
    },
    {
     "data": {
      "application/vnd.jupyter.widget-view+json": {
       "model_id": "e844648cb2bb40248fc1d8bfba322884",
       "version_major": 2,
       "version_minor": 0
      },
      "text/plain": [
       "Executing:   0%|          | 0/31 [00:00<?, ?cell/s]"
      ]
     },
     "metadata": {},
     "output_type": "display_data"
    },
    {
     "name": "stdout",
     "output_type": "stream",
     "text": [
      "HTML report saved for 0068S1.\n",
      "Current data file: sub-1073M1_ses-01_task-TO_run-1_eeg.edf\n",
      "Participant ID: 1073M1\n",
      "1073M1\n",
      "Output notebook file: /project/def-emayada/q1k/experimental/derivatives/pylossless/derivatives/sync_loss/derivatives/segment/code/q1k_segment/session_reports/TO/executed_notebooks/1073M1_TO_executed.ipynb\n",
      "Output HTML file: /project/def-emayada/q1k/experimental/derivatives/pylossless/derivatives/sync_loss/derivatives/segment/code/q1k_segment/session_reports/TO/1073M1_TO.html\n"
     ]
    },
    {
     "data": {
      "application/vnd.jupyter.widget-view+json": {
       "model_id": "943b49951b964dc688cb086182684833",
       "version_major": 2,
       "version_minor": 0
      },
      "text/plain": [
       "Executing:   0%|          | 0/31 [00:00<?, ?cell/s]"
      ]
     },
     "metadata": {},
     "output_type": "display_data"
    },
    {
     "name": "stdout",
     "output_type": "stream",
     "text": [
      "HTML report saved for 1073M1.\n",
      "Current data file: sub-0183P_ses-01_task-TO_run-1_eeg.edf\n",
      "Participant ID: 0183P\n",
      "0183P\n",
      "Output notebook file: /project/def-emayada/q1k/experimental/derivatives/pylossless/derivatives/sync_loss/derivatives/segment/code/q1k_segment/session_reports/TO/executed_notebooks/0183P_TO_executed.ipynb\n",
      "Output HTML file: /project/def-emayada/q1k/experimental/derivatives/pylossless/derivatives/sync_loss/derivatives/segment/code/q1k_segment/session_reports/TO/0183P_TO.html\n"
     ]
    },
    {
     "data": {
      "application/vnd.jupyter.widget-view+json": {
       "model_id": "86a380abd00e4a6eb69930307f0e95b4",
       "version_major": 2,
       "version_minor": 0
      },
      "text/plain": [
       "Executing:   0%|          | 0/31 [00:00<?, ?cell/s]"
      ]
     },
     "metadata": {},
     "output_type": "display_data"
    },
    {
     "name": "stdout",
     "output_type": "stream",
     "text": [
      "HTML report saved for 0183P.\n",
      "Current data file: sub-1061P_ses-01_task-TO_run-1_eeg.edf\n",
      "Participant ID: 1061P\n",
      "1061P\n",
      "Output notebook file: /project/def-emayada/q1k/experimental/derivatives/pylossless/derivatives/sync_loss/derivatives/segment/code/q1k_segment/session_reports/TO/executed_notebooks/1061P_TO_executed.ipynb\n",
      "Output HTML file: /project/def-emayada/q1k/experimental/derivatives/pylossless/derivatives/sync_loss/derivatives/segment/code/q1k_segment/session_reports/TO/1061P_TO.html\n"
     ]
    },
    {
     "data": {
      "application/vnd.jupyter.widget-view+json": {
       "model_id": "4df4da44926c4dcc8611cf783f552bb2",
       "version_major": 2,
       "version_minor": 0
      },
      "text/plain": [
       "Executing:   0%|          | 0/31 [00:00<?, ?cell/s]"
      ]
     },
     "metadata": {},
     "output_type": "display_data"
    },
    {
     "name": "stdout",
     "output_type": "stream",
     "text": [
      "HTML report saved for 1061P.\n",
      "Current data file: sub-1052M1_ses-01_task-TO_run-1_eeg.edf\n",
      "Participant ID: 1052M1\n",
      "1052M1\n",
      "Output notebook file: /project/def-emayada/q1k/experimental/derivatives/pylossless/derivatives/sync_loss/derivatives/segment/code/q1k_segment/session_reports/TO/executed_notebooks/1052M1_TO_executed.ipynb\n",
      "Output HTML file: /project/def-emayada/q1k/experimental/derivatives/pylossless/derivatives/sync_loss/derivatives/segment/code/q1k_segment/session_reports/TO/1052M1_TO.html\n"
     ]
    },
    {
     "data": {
      "application/vnd.jupyter.widget-view+json": {
       "model_id": "d7b8cd07cad24f3e802ca2f4394146fc",
       "version_major": 2,
       "version_minor": 0
      },
      "text/plain": [
       "Executing:   0%|          | 0/31 [00:00<?, ?cell/s]"
      ]
     },
     "metadata": {},
     "output_type": "display_data"
    },
    {
     "name": "stdout",
     "output_type": "stream",
     "text": [
      "HTML report saved for 1052M1.\n",
      "Current data file: sub-0050M1_ses-01_task-TO_run-1_eeg.edf\n",
      "Participant ID: 0050M1\n",
      "0050M1\n",
      "Output notebook file: /project/def-emayada/q1k/experimental/derivatives/pylossless/derivatives/sync_loss/derivatives/segment/code/q1k_segment/session_reports/TO/executed_notebooks/0050M1_TO_executed.ipynb\n",
      "Output HTML file: /project/def-emayada/q1k/experimental/derivatives/pylossless/derivatives/sync_loss/derivatives/segment/code/q1k_segment/session_reports/TO/0050M1_TO.html\n"
     ]
    },
    {
     "data": {
      "application/vnd.jupyter.widget-view+json": {
       "model_id": "26233f7287a541e38ab1305545bcb484",
       "version_major": 2,
       "version_minor": 0
      },
      "text/plain": [
       "Executing:   0%|          | 0/31 [00:00<?, ?cell/s]"
      ]
     },
     "metadata": {},
     "output_type": "display_data"
    },
    {
     "name": "stdout",
     "output_type": "stream",
     "text": [
      "HTML report saved for 0050M1.\n",
      "Current data file: sub-1042M1_ses-01_task-TO_run-1_eeg.edf\n",
      "Participant ID: 1042M1\n",
      "1042M1\n",
      "Output notebook file: /project/def-emayada/q1k/experimental/derivatives/pylossless/derivatives/sync_loss/derivatives/segment/code/q1k_segment/session_reports/TO/executed_notebooks/1042M1_TO_executed.ipynb\n",
      "Output HTML file: /project/def-emayada/q1k/experimental/derivatives/pylossless/derivatives/sync_loss/derivatives/segment/code/q1k_segment/session_reports/TO/1042M1_TO.html\n"
     ]
    },
    {
     "data": {
      "application/vnd.jupyter.widget-view+json": {
       "model_id": "de492385d9934885bffc1b406364103e",
       "version_major": 2,
       "version_minor": 0
      },
      "text/plain": [
       "Executing:   0%|          | 0/31 [00:00<?, ?cell/s]"
      ]
     },
     "metadata": {},
     "output_type": "display_data"
    },
    {
     "name": "stdout",
     "output_type": "stream",
     "text": [
      "HTML report saved for 1042M1.\n",
      "Current data file: sub-0281M1_ses-01_task-TO_run-1_eeg.edf\n",
      "Participant ID: 0281M1\n",
      "0281M1\n",
      "Output notebook file: /project/def-emayada/q1k/experimental/derivatives/pylossless/derivatives/sync_loss/derivatives/segment/code/q1k_segment/session_reports/TO/executed_notebooks/0281M1_TO_executed.ipynb\n",
      "Output HTML file: /project/def-emayada/q1k/experimental/derivatives/pylossless/derivatives/sync_loss/derivatives/segment/code/q1k_segment/session_reports/TO/0281M1_TO.html\n"
     ]
    },
    {
     "data": {
      "application/vnd.jupyter.widget-view+json": {
       "model_id": "c012e36c88e74ad99ab4da078b091f3d",
       "version_major": 2,
       "version_minor": 0
      },
      "text/plain": [
       "Executing:   0%|          | 0/31 [00:00<?, ?cell/s]"
      ]
     },
     "metadata": {},
     "output_type": "display_data"
    },
    {
     "name": "stdout",
     "output_type": "stream",
     "text": [
      "HTML report saved for 0281M1.\n",
      "Current data file: sub-1109M1_ses-01_task-TO_run-1_eeg.edf\n",
      "Participant ID: 1109M1\n",
      "1109M1\n",
      "Output notebook file: /project/def-emayada/q1k/experimental/derivatives/pylossless/derivatives/sync_loss/derivatives/segment/code/q1k_segment/session_reports/TO/executed_notebooks/1109M1_TO_executed.ipynb\n",
      "Output HTML file: /project/def-emayada/q1k/experimental/derivatives/pylossless/derivatives/sync_loss/derivatives/segment/code/q1k_segment/session_reports/TO/1109M1_TO.html\n"
     ]
    },
    {
     "data": {
      "application/vnd.jupyter.widget-view+json": {
       "model_id": "faefef7f2e0f45ea9f73abcb12f2ef5e",
       "version_major": 2,
       "version_minor": 0
      },
      "text/plain": [
       "Executing:   0%|          | 0/31 [00:00<?, ?cell/s]"
      ]
     },
     "metadata": {},
     "output_type": "display_data"
    },
    {
     "name": "stdout",
     "output_type": "stream",
     "text": [
      "HTML report saved for 1109M1.\n",
      "Current data file: sub-1028S1_ses-01_task-TO_run-1_eeg.edf\n",
      "Participant ID: 1028S1\n",
      "1028S1\n",
      "Output notebook file: /project/def-emayada/q1k/experimental/derivatives/pylossless/derivatives/sync_loss/derivatives/segment/code/q1k_segment/session_reports/TO/executed_notebooks/1028S1_TO_executed.ipynb\n",
      "Output HTML file: /project/def-emayada/q1k/experimental/derivatives/pylossless/derivatives/sync_loss/derivatives/segment/code/q1k_segment/session_reports/TO/1028S1_TO.html\n"
     ]
    },
    {
     "data": {
      "application/vnd.jupyter.widget-view+json": {
       "model_id": "7ecf3b6236724b16b24b8cf071e2e41c",
       "version_major": 2,
       "version_minor": 0
      },
      "text/plain": [
       "Executing:   0%|          | 0/31 [00:00<?, ?cell/s]"
      ]
     },
     "metadata": {},
     "output_type": "display_data"
    },
    {
     "name": "stdout",
     "output_type": "stream",
     "text": [
      "HTML report saved for 1028S1.\n",
      "Current data file: sub-0162M1_ses-01_task-TO_run-1_eeg.edf\n",
      "Participant ID: 0162M1\n",
      "0162M1\n",
      "Output notebook file: /project/def-emayada/q1k/experimental/derivatives/pylossless/derivatives/sync_loss/derivatives/segment/code/q1k_segment/session_reports/TO/executed_notebooks/0162M1_TO_executed.ipynb\n",
      "Output HTML file: /project/def-emayada/q1k/experimental/derivatives/pylossless/derivatives/sync_loss/derivatives/segment/code/q1k_segment/session_reports/TO/0162M1_TO.html\n"
     ]
    },
    {
     "data": {
      "application/vnd.jupyter.widget-view+json": {
       "model_id": "1b78182864d04615980dc15b2ce2e75a",
       "version_major": 2,
       "version_minor": 0
      },
      "text/plain": [
       "Executing:   0%|          | 0/31 [00:00<?, ?cell/s]"
      ]
     },
     "metadata": {},
     "output_type": "display_data"
    },
    {
     "name": "stdout",
     "output_type": "stream",
     "text": [
      "HTML report saved for 0162M1.\n",
      "Current data file: sub-1009S1_ses-01_task-TO_run-1_eeg.edf\n",
      "Participant ID: 1009S1\n",
      "1009S1\n",
      "Output notebook file: /project/def-emayada/q1k/experimental/derivatives/pylossless/derivatives/sync_loss/derivatives/segment/code/q1k_segment/session_reports/TO/executed_notebooks/1009S1_TO_executed.ipynb\n",
      "Output HTML file: /project/def-emayada/q1k/experimental/derivatives/pylossless/derivatives/sync_loss/derivatives/segment/code/q1k_segment/session_reports/TO/1009S1_TO.html\n"
     ]
    },
    {
     "data": {
      "application/vnd.jupyter.widget-view+json": {
       "model_id": "1fc3e8f0b12f42c9a43fe58f1801da17",
       "version_major": 2,
       "version_minor": 0
      },
      "text/plain": [
       "Executing:   0%|          | 0/31 [00:00<?, ?cell/s]"
      ]
     },
     "metadata": {},
     "output_type": "display_data"
    },
    {
     "name": "stdout",
     "output_type": "stream",
     "text": [
      "HTML report saved for 1009S1.\n",
      "Current data file: sub-0159M1_ses-01_task-TO_run-1_eeg.edf\n",
      "Participant ID: 0159M1\n",
      "0159M1\n",
      "Output notebook file: /project/def-emayada/q1k/experimental/derivatives/pylossless/derivatives/sync_loss/derivatives/segment/code/q1k_segment/session_reports/TO/executed_notebooks/0159M1_TO_executed.ipynb\n",
      "Output HTML file: /project/def-emayada/q1k/experimental/derivatives/pylossless/derivatives/sync_loss/derivatives/segment/code/q1k_segment/session_reports/TO/0159M1_TO.html\n"
     ]
    },
    {
     "data": {
      "application/vnd.jupyter.widget-view+json": {
       "model_id": "6d8a8a5975254bd7992aa00fdb7d6c10",
       "version_major": 2,
       "version_minor": 0
      },
      "text/plain": [
       "Executing:   0%|          | 0/31 [00:00<?, ?cell/s]"
      ]
     },
     "metadata": {},
     "output_type": "display_data"
    },
    {
     "name": "stdout",
     "output_type": "stream",
     "text": [
      "HTML report saved for 0159M1.\n",
      "Current data file: sub-1080F1_ses-01_task-TO_run-1_eeg.edf\n",
      "Participant ID: 1080F1\n",
      "1080F1\n",
      "Output notebook file: /project/def-emayada/q1k/experimental/derivatives/pylossless/derivatives/sync_loss/derivatives/segment/code/q1k_segment/session_reports/TO/executed_notebooks/1080F1_TO_executed.ipynb\n",
      "Output HTML file: /project/def-emayada/q1k/experimental/derivatives/pylossless/derivatives/sync_loss/derivatives/segment/code/q1k_segment/session_reports/TO/1080F1_TO.html\n"
     ]
    },
    {
     "data": {
      "application/vnd.jupyter.widget-view+json": {
       "model_id": "a0e9741463434096b5fea2ab0a108a12",
       "version_major": 2,
       "version_minor": 0
      },
      "text/plain": [
       "Executing:   0%|          | 0/31 [00:00<?, ?cell/s]"
      ]
     },
     "metadata": {},
     "output_type": "display_data"
    },
    {
     "name": "stdout",
     "output_type": "stream",
     "text": [
      "HTML report saved for 1080F1.\n",
      "Current data file: sub-0181F1_ses-01_task-TO_run-1_eeg.edf\n",
      "Participant ID: 0181F1\n",
      "0181F1\n",
      "Output notebook file: /project/def-emayada/q1k/experimental/derivatives/pylossless/derivatives/sync_loss/derivatives/segment/code/q1k_segment/session_reports/TO/executed_notebooks/0181F1_TO_executed.ipynb\n",
      "Output HTML file: /project/def-emayada/q1k/experimental/derivatives/pylossless/derivatives/sync_loss/derivatives/segment/code/q1k_segment/session_reports/TO/0181F1_TO.html\n"
     ]
    },
    {
     "data": {
      "application/vnd.jupyter.widget-view+json": {
       "model_id": "63d3a0a5c71e4edbb122f100a93b7197",
       "version_major": 2,
       "version_minor": 0
      },
      "text/plain": [
       "Executing:   0%|          | 0/31 [00:00<?, ?cell/s]"
      ]
     },
     "metadata": {},
     "output_type": "display_data"
    },
    {
     "name": "stdout",
     "output_type": "stream",
     "text": [
      "HTML report saved for 0181F1.\n",
      "Current data file: sub-1121S1_ses-01_task-TO_run-1_eeg.edf\n",
      "Participant ID: 1121S1\n",
      "1121S1\n",
      "Output notebook file: /project/def-emayada/q1k/experimental/derivatives/pylossless/derivatives/sync_loss/derivatives/segment/code/q1k_segment/session_reports/TO/executed_notebooks/1121S1_TO_executed.ipynb\n",
      "Output HTML file: /project/def-emayada/q1k/experimental/derivatives/pylossless/derivatives/sync_loss/derivatives/segment/code/q1k_segment/session_reports/TO/1121S1_TO.html\n"
     ]
    },
    {
     "data": {
      "application/vnd.jupyter.widget-view+json": {
       "model_id": "124d00128e5a4809b501875a0367380b",
       "version_major": 2,
       "version_minor": 0
      },
      "text/plain": [
       "Executing:   0%|          | 0/31 [00:00<?, ?cell/s]"
      ]
     },
     "metadata": {},
     "output_type": "display_data"
    },
    {
     "name": "stdout",
     "output_type": "stream",
     "text": [
      "HTML report saved for 1121S1.\n",
      "Current data file: sub-1052F1_ses-01_task-TO_run-1_eeg.edf\n",
      "Participant ID: 1052F1\n",
      "1052F1\n",
      "Output notebook file: /project/def-emayada/q1k/experimental/derivatives/pylossless/derivatives/sync_loss/derivatives/segment/code/q1k_segment/session_reports/TO/executed_notebooks/1052F1_TO_executed.ipynb\n",
      "Output HTML file: /project/def-emayada/q1k/experimental/derivatives/pylossless/derivatives/sync_loss/derivatives/segment/code/q1k_segment/session_reports/TO/1052F1_TO.html\n"
     ]
    },
    {
     "data": {
      "application/vnd.jupyter.widget-view+json": {
       "model_id": "340977f0593444ea994a0861aa008d8f",
       "version_major": 2,
       "version_minor": 0
      },
      "text/plain": [
       "Executing:   0%|          | 0/31 [00:00<?, ?cell/s]"
      ]
     },
     "metadata": {},
     "output_type": "display_data"
    },
    {
     "name": "stdout",
     "output_type": "stream",
     "text": [
      "HTML report saved for 1052F1.\n",
      "Current data file: sub-1121P_ses-01_task-TO_run-1_eeg.edf\n",
      "Participant ID: 1121P\n",
      "1121P\n",
      "Output notebook file: /project/def-emayada/q1k/experimental/derivatives/pylossless/derivatives/sync_loss/derivatives/segment/code/q1k_segment/session_reports/TO/executed_notebooks/1121P_TO_executed.ipynb\n",
      "Output HTML file: /project/def-emayada/q1k/experimental/derivatives/pylossless/derivatives/sync_loss/derivatives/segment/code/q1k_segment/session_reports/TO/1121P_TO.html\n"
     ]
    },
    {
     "data": {
      "application/vnd.jupyter.widget-view+json": {
       "model_id": "97c9a0b17ae442728f89bf564af3f9d9",
       "version_major": 2,
       "version_minor": 0
      },
      "text/plain": [
       "Executing:   0%|          | 0/31 [00:00<?, ?cell/s]"
      ]
     },
     "metadata": {},
     "output_type": "display_data"
    },
    {
     "name": "stdout",
     "output_type": "stream",
     "text": [
      "HTML report saved for 1121P.\n",
      "Current data file: sub-1067M1_ses-01_task-TO_run-1_eeg.edf\n",
      "Participant ID: 1067M1\n",
      "1067M1\n",
      "Output notebook file: /project/def-emayada/q1k/experimental/derivatives/pylossless/derivatives/sync_loss/derivatives/segment/code/q1k_segment/session_reports/TO/executed_notebooks/1067M1_TO_executed.ipynb\n",
      "Output HTML file: /project/def-emayada/q1k/experimental/derivatives/pylossless/derivatives/sync_loss/derivatives/segment/code/q1k_segment/session_reports/TO/1067M1_TO.html\n"
     ]
    },
    {
     "data": {
      "application/vnd.jupyter.widget-view+json": {
       "model_id": "3efb85aca15544d1aafbd9b8236b72c7",
       "version_major": 2,
       "version_minor": 0
      },
      "text/plain": [
       "Executing:   0%|          | 0/31 [00:00<?, ?cell/s]"
      ]
     },
     "metadata": {},
     "output_type": "display_data"
    },
    {
     "name": "stdout",
     "output_type": "stream",
     "text": [
      "HTML report saved for 1067M1.\n",
      "Current data file: sub-1083S1_ses-01_task-TO_run-1_eeg.edf\n",
      "Participant ID: 1083S1\n",
      "1083S1\n",
      "Output notebook file: /project/def-emayada/q1k/experimental/derivatives/pylossless/derivatives/sync_loss/derivatives/segment/code/q1k_segment/session_reports/TO/executed_notebooks/1083S1_TO_executed.ipynb\n",
      "Output HTML file: /project/def-emayada/q1k/experimental/derivatives/pylossless/derivatives/sync_loss/derivatives/segment/code/q1k_segment/session_reports/TO/1083S1_TO.html\n"
     ]
    },
    {
     "data": {
      "application/vnd.jupyter.widget-view+json": {
       "model_id": "558c3e86468b44c998262a1e115b1707",
       "version_major": 2,
       "version_minor": 0
      },
      "text/plain": [
       "Executing:   0%|          | 0/31 [00:00<?, ?cell/s]"
      ]
     },
     "metadata": {},
     "output_type": "display_data"
    },
    {
     "name": "stdout",
     "output_type": "stream",
     "text": [
      "HTML report saved for 1083S1.\n",
      "Current data file: sub-0216P_ses-01_task-TO_run-1_eeg.edf\n",
      "Participant ID: 0216P\n",
      "0216P\n",
      "Output notebook file: /project/def-emayada/q1k/experimental/derivatives/pylossless/derivatives/sync_loss/derivatives/segment/code/q1k_segment/session_reports/TO/executed_notebooks/0216P_TO_executed.ipynb\n",
      "Output HTML file: /project/def-emayada/q1k/experimental/derivatives/pylossless/derivatives/sync_loss/derivatives/segment/code/q1k_segment/session_reports/TO/0216P_TO.html\n"
     ]
    },
    {
     "data": {
      "application/vnd.jupyter.widget-view+json": {
       "model_id": "5f8b43dfb632409e915dd60818ef0569",
       "version_major": 2,
       "version_minor": 0
      },
      "text/plain": [
       "Executing:   0%|          | 0/31 [00:00<?, ?cell/s]"
      ]
     },
     "metadata": {},
     "output_type": "display_data"
    },
    {
     "name": "stdout",
     "output_type": "stream",
     "text": [
      "HTML report saved for 0216P.\n",
      "Current data file: sub-1118P_ses-01_task-TO_run-1_eeg.edf\n",
      "Participant ID: 1118P\n",
      "1118P\n",
      "Output notebook file: /project/def-emayada/q1k/experimental/derivatives/pylossless/derivatives/sync_loss/derivatives/segment/code/q1k_segment/session_reports/TO/executed_notebooks/1118P_TO_executed.ipynb\n",
      "Output HTML file: /project/def-emayada/q1k/experimental/derivatives/pylossless/derivatives/sync_loss/derivatives/segment/code/q1k_segment/session_reports/TO/1118P_TO.html\n"
     ]
    },
    {
     "data": {
      "application/vnd.jupyter.widget-view+json": {
       "model_id": "d0b52a2b970640f290dd1fb24fd56ded",
       "version_major": 2,
       "version_minor": 0
      },
      "text/plain": [
       "Executing:   0%|          | 0/31 [00:00<?, ?cell/s]"
      ]
     },
     "metadata": {},
     "output_type": "display_data"
    },
    {
     "name": "stdout",
     "output_type": "stream",
     "text": [
      "HTML report saved for 1118P.\n",
      "Current data file: sub-0157M1_ses-01_task-TO_run-1_eeg.edf\n",
      "Participant ID: 0157M1\n",
      "0157M1\n",
      "Output notebook file: /project/def-emayada/q1k/experimental/derivatives/pylossless/derivatives/sync_loss/derivatives/segment/code/q1k_segment/session_reports/TO/executed_notebooks/0157M1_TO_executed.ipynb\n",
      "Output HTML file: /project/def-emayada/q1k/experimental/derivatives/pylossless/derivatives/sync_loss/derivatives/segment/code/q1k_segment/session_reports/TO/0157M1_TO.html\n"
     ]
    },
    {
     "data": {
      "application/vnd.jupyter.widget-view+json": {
       "model_id": "1ed1080ab1614ee1b6595fbbcf8e8531",
       "version_major": 2,
       "version_minor": 0
      },
      "text/plain": [
       "Executing:   0%|          | 0/31 [00:00<?, ?cell/s]"
      ]
     },
     "metadata": {},
     "output_type": "display_data"
    },
    {
     "name": "stdout",
     "output_type": "stream",
     "text": [
      "HTML report saved for 0157M1.\n",
      "Current data file: sub-1093S1_ses-01_task-TO_run-1_eeg.edf\n",
      "Participant ID: 1093S1\n",
      "1093S1\n",
      "Output notebook file: /project/def-emayada/q1k/experimental/derivatives/pylossless/derivatives/sync_loss/derivatives/segment/code/q1k_segment/session_reports/TO/executed_notebooks/1093S1_TO_executed.ipynb\n",
      "Output HTML file: /project/def-emayada/q1k/experimental/derivatives/pylossless/derivatives/sync_loss/derivatives/segment/code/q1k_segment/session_reports/TO/1093S1_TO.html\n"
     ]
    },
    {
     "data": {
      "application/vnd.jupyter.widget-view+json": {
       "model_id": "d7b055ea4d104009b193278c02782356",
       "version_major": 2,
       "version_minor": 0
      },
      "text/plain": [
       "Executing:   0%|          | 0/31 [00:00<?, ?cell/s]"
      ]
     },
     "metadata": {},
     "output_type": "display_data"
    },
    {
     "name": "stdout",
     "output_type": "stream",
     "text": [
      "HTML report saved for 1093S1.\n",
      "Current data file: sub-1018P_ses-01_task-TO_run-1_eeg.edf\n",
      "Participant ID: 1018P\n",
      "1018P\n",
      "Output notebook file: /project/def-emayada/q1k/experimental/derivatives/pylossless/derivatives/sync_loss/derivatives/segment/code/q1k_segment/session_reports/TO/executed_notebooks/1018P_TO_executed.ipynb\n",
      "Output HTML file: /project/def-emayada/q1k/experimental/derivatives/pylossless/derivatives/sync_loss/derivatives/segment/code/q1k_segment/session_reports/TO/1018P_TO.html\n"
     ]
    },
    {
     "data": {
      "application/vnd.jupyter.widget-view+json": {
       "model_id": "a773a478bdd74e40be5f4d0830f6576e",
       "version_major": 2,
       "version_minor": 0
      },
      "text/plain": [
       "Executing:   0%|          | 0/31 [00:00<?, ?cell/s]"
      ]
     },
     "metadata": {},
     "output_type": "display_data"
    },
    {
     "name": "stdout",
     "output_type": "stream",
     "text": [
      "HTML report saved for 1018P.\n",
      "Current data file: sub-0128P_ses-01_task-TO_run-1_eeg.edf\n",
      "Participant ID: 0128P\n",
      "0128P\n",
      "Output notebook file: /project/def-emayada/q1k/experimental/derivatives/pylossless/derivatives/sync_loss/derivatives/segment/code/q1k_segment/session_reports/TO/executed_notebooks/0128P_TO_executed.ipynb\n",
      "Output HTML file: /project/def-emayada/q1k/experimental/derivatives/pylossless/derivatives/sync_loss/derivatives/segment/code/q1k_segment/session_reports/TO/0128P_TO.html\n"
     ]
    },
    {
     "data": {
      "application/vnd.jupyter.widget-view+json": {
       "model_id": "0764f5c240ff4a04bfcab11373ee5df0",
       "version_major": 2,
       "version_minor": 0
      },
      "text/plain": [
       "Executing:   0%|          | 0/31 [00:00<?, ?cell/s]"
      ]
     },
     "metadata": {},
     "output_type": "display_data"
    },
    {
     "name": "stdout",
     "output_type": "stream",
     "text": [
      "HTML report saved for 0128P.\n",
      "Current data file: sub-1089P_ses-01_task-TO_run-1_eeg.edf\n",
      "Participant ID: 1089P\n",
      "1089P\n",
      "Output notebook file: /project/def-emayada/q1k/experimental/derivatives/pylossless/derivatives/sync_loss/derivatives/segment/code/q1k_segment/session_reports/TO/executed_notebooks/1089P_TO_executed.ipynb\n",
      "Output HTML file: /project/def-emayada/q1k/experimental/derivatives/pylossless/derivatives/sync_loss/derivatives/segment/code/q1k_segment/session_reports/TO/1089P_TO.html\n"
     ]
    },
    {
     "data": {
      "application/vnd.jupyter.widget-view+json": {
       "model_id": "61a149d6e1a54bccbb5f311f843633fe",
       "version_major": 2,
       "version_minor": 0
      },
      "text/plain": [
       "Executing:   0%|          | 0/31 [00:00<?, ?cell/s]"
      ]
     },
     "metadata": {},
     "output_type": "display_data"
    },
    {
     "name": "stdout",
     "output_type": "stream",
     "text": [
      "HTML report saved for 1089P.\n",
      "Current data file: sub-1021F1_ses-01_task-TO_run-1_eeg.edf\n",
      "Participant ID: 1021F1\n",
      "1021F1\n",
      "Output notebook file: /project/def-emayada/q1k/experimental/derivatives/pylossless/derivatives/sync_loss/derivatives/segment/code/q1k_segment/session_reports/TO/executed_notebooks/1021F1_TO_executed.ipynb\n",
      "Output HTML file: /project/def-emayada/q1k/experimental/derivatives/pylossless/derivatives/sync_loss/derivatives/segment/code/q1k_segment/session_reports/TO/1021F1_TO.html\n"
     ]
    },
    {
     "data": {
      "application/vnd.jupyter.widget-view+json": {
       "model_id": "2667a71de9f74c8ea63bbd5b173a3e23",
       "version_major": 2,
       "version_minor": 0
      },
      "text/plain": [
       "Executing:   0%|          | 0/31 [00:00<?, ?cell/s]"
      ]
     },
     "metadata": {},
     "output_type": "display_data"
    },
    {
     "name": "stdout",
     "output_type": "stream",
     "text": [
      "HTML report saved for 1021F1.\n",
      "Current data file: sub-1080M1_ses-01_task-TO_run-1_eeg.edf\n",
      "Participant ID: 1080M1\n",
      "1080M1\n",
      "Output notebook file: /project/def-emayada/q1k/experimental/derivatives/pylossless/derivatives/sync_loss/derivatives/segment/code/q1k_segment/session_reports/TO/executed_notebooks/1080M1_TO_executed.ipynb\n",
      "Output HTML file: /project/def-emayada/q1k/experimental/derivatives/pylossless/derivatives/sync_loss/derivatives/segment/code/q1k_segment/session_reports/TO/1080M1_TO.html\n"
     ]
    },
    {
     "data": {
      "application/vnd.jupyter.widget-view+json": {
       "model_id": "fc6e376d49d14ede83a0d5f091f3ce5a",
       "version_major": 2,
       "version_minor": 0
      },
      "text/plain": [
       "Executing:   0%|          | 0/31 [00:00<?, ?cell/s]"
      ]
     },
     "metadata": {},
     "output_type": "display_data"
    },
    {
     "name": "stdout",
     "output_type": "stream",
     "text": [
      "HTML report saved for 1080M1.\n",
      "Current data file: sub-1045S1_ses-01_task-TO_run-1_eeg.edf\n",
      "Participant ID: 1045S1\n",
      "1045S1\n",
      "Output notebook file: /project/def-emayada/q1k/experimental/derivatives/pylossless/derivatives/sync_loss/derivatives/segment/code/q1k_segment/session_reports/TO/executed_notebooks/1045S1_TO_executed.ipynb\n",
      "Output HTML file: /project/def-emayada/q1k/experimental/derivatives/pylossless/derivatives/sync_loss/derivatives/segment/code/q1k_segment/session_reports/TO/1045S1_TO.html\n"
     ]
    },
    {
     "data": {
      "application/vnd.jupyter.widget-view+json": {
       "model_id": "bfc5e25e4e814a3784b3d62282a6b27d",
       "version_major": 2,
       "version_minor": 0
      },
      "text/plain": [
       "Executing:   0%|          | 0/31 [00:00<?, ?cell/s]"
      ]
     },
     "metadata": {},
     "output_type": "display_data"
    },
    {
     "name": "stdout",
     "output_type": "stream",
     "text": [
      "HTML report saved for 1045S1.\n",
      "Current data file: sub-0181M1_ses-01_task-TO_run-1_eeg.edf\n",
      "Participant ID: 0181M1\n",
      "0181M1\n",
      "Output notebook file: /project/def-emayada/q1k/experimental/derivatives/pylossless/derivatives/sync_loss/derivatives/segment/code/q1k_segment/session_reports/TO/executed_notebooks/0181M1_TO_executed.ipynb\n",
      "Output HTML file: /project/def-emayada/q1k/experimental/derivatives/pylossless/derivatives/sync_loss/derivatives/segment/code/q1k_segment/session_reports/TO/0181M1_TO.html\n"
     ]
    },
    {
     "data": {
      "application/vnd.jupyter.widget-view+json": {
       "model_id": "278a1e936e96413484809a8a38ac2ad0",
       "version_major": 2,
       "version_minor": 0
      },
      "text/plain": [
       "Executing:   0%|          | 0/31 [00:00<?, ?cell/s]"
      ]
     },
     "metadata": {},
     "output_type": "display_data"
    },
    {
     "name": "stdout",
     "output_type": "stream",
     "text": [
      "HTML report saved for 0181M1.\n",
      "Current data file: sub-1021P_ses-01_task-TO_run-1_eeg.edf\n",
      "Participant ID: 1021P\n",
      "1021P\n",
      "Output notebook file: /project/def-emayada/q1k/experimental/derivatives/pylossless/derivatives/sync_loss/derivatives/segment/code/q1k_segment/session_reports/TO/executed_notebooks/1021P_TO_executed.ipynb\n",
      "Output HTML file: /project/def-emayada/q1k/experimental/derivatives/pylossless/derivatives/sync_loss/derivatives/segment/code/q1k_segment/session_reports/TO/1021P_TO.html\n"
     ]
    },
    {
     "data": {
      "application/vnd.jupyter.widget-view+json": {
       "model_id": "e0c9635823a44a7baccc04f1dceb719e",
       "version_major": 2,
       "version_minor": 0
      },
      "text/plain": [
       "Executing:   0%|          | 0/31 [00:00<?, ?cell/s]"
      ]
     },
     "metadata": {},
     "output_type": "display_data"
    },
    {
     "name": "stdout",
     "output_type": "stream",
     "text": [
      "HTML report saved for 1021P.\n",
      "Current data file: sub-1089S1_ses-01_task-TO_run-1_eeg.edf\n",
      "Participant ID: 1089S1\n",
      "1089S1\n",
      "Output notebook file: /project/def-emayada/q1k/experimental/derivatives/pylossless/derivatives/sync_loss/derivatives/segment/code/q1k_segment/session_reports/TO/executed_notebooks/1089S1_TO_executed.ipynb\n",
      "Output HTML file: /project/def-emayada/q1k/experimental/derivatives/pylossless/derivatives/sync_loss/derivatives/segment/code/q1k_segment/session_reports/TO/1089S1_TO.html\n"
     ]
    },
    {
     "data": {
      "application/vnd.jupyter.widget-view+json": {
       "model_id": "df5ca28469ad4b5f8c937ef6e6283aeb",
       "version_major": 2,
       "version_minor": 0
      },
      "text/plain": [
       "Executing:   0%|          | 0/31 [00:00<?, ?cell/s]"
      ]
     },
     "metadata": {},
     "output_type": "display_data"
    },
    {
     "name": "stdout",
     "output_type": "stream",
     "text": [
      "HTML report saved for 1089S1.\n",
      "Current data file: sub-1109F1_ses-01_task-TO_run-1_eeg.edf\n",
      "Participant ID: 1109F1\n",
      "1109F1\n",
      "Output notebook file: /project/def-emayada/q1k/experimental/derivatives/pylossless/derivatives/sync_loss/derivatives/segment/code/q1k_segment/session_reports/TO/executed_notebooks/1109F1_TO_executed.ipynb\n",
      "Output HTML file: /project/def-emayada/q1k/experimental/derivatives/pylossless/derivatives/sync_loss/derivatives/segment/code/q1k_segment/session_reports/TO/1109F1_TO.html\n"
     ]
    },
    {
     "data": {
      "application/vnd.jupyter.widget-view+json": {
       "model_id": "25e477f5368a4aa8b15c0d7294c27c25",
       "version_major": 2,
       "version_minor": 0
      },
      "text/plain": [
       "Executing:   0%|          | 0/31 [00:00<?, ?cell/s]"
      ]
     },
     "metadata": {},
     "output_type": "display_data"
    },
    {
     "name": "stdout",
     "output_type": "stream",
     "text": [
      "HTML report saved for 1109F1.\n",
      "Current data file: sub-1042F1_ses-01_task-TO_run-1_eeg.edf\n",
      "Participant ID: 1042F1\n",
      "1042F1\n",
      "Output notebook file: /project/def-emayada/q1k/experimental/derivatives/pylossless/derivatives/sync_loss/derivatives/segment/code/q1k_segment/session_reports/TO/executed_notebooks/1042F1_TO_executed.ipynb\n",
      "Output HTML file: /project/def-emayada/q1k/experimental/derivatives/pylossless/derivatives/sync_loss/derivatives/segment/code/q1k_segment/session_reports/TO/1042F1_TO.html\n"
     ]
    },
    {
     "data": {
      "application/vnd.jupyter.widget-view+json": {
       "model_id": "bbc25bd67d884623b723d77ad338390a",
       "version_major": 2,
       "version_minor": 0
      },
      "text/plain": [
       "Executing:   0%|          | 0/31 [00:00<?, ?cell/s]"
      ]
     },
     "metadata": {},
     "output_type": "display_data"
    },
    {
     "name": "stdout",
     "output_type": "stream",
     "text": [
      "HTML report saved for 1042F1.\n",
      "Current data file: sub-1143P_ses-01_task-TO_run-1_eeg.edf\n",
      "Participant ID: 1143P\n",
      "1143P\n",
      "Output notebook file: /project/def-emayada/q1k/experimental/derivatives/pylossless/derivatives/sync_loss/derivatives/segment/code/q1k_segment/session_reports/TO/executed_notebooks/1143P_TO_executed.ipynb\n",
      "Output HTML file: /project/def-emayada/q1k/experimental/derivatives/pylossless/derivatives/sync_loss/derivatives/segment/code/q1k_segment/session_reports/TO/1143P_TO.html\n"
     ]
    },
    {
     "data": {
      "application/vnd.jupyter.widget-view+json": {
       "model_id": "7f640b14633e4be6b78065ae2431849d",
       "version_major": 2,
       "version_minor": 0
      },
      "text/plain": [
       "Executing:   0%|          | 0/31 [00:00<?, ?cell/s]"
      ]
     },
     "metadata": {},
     "output_type": "display_data"
    },
    {
     "name": "stdout",
     "output_type": "stream",
     "text": [
      "HTML report saved for 1143P.\n",
      "Current data file: sub-0064P_ses-01_task-TO_run-1_eeg.edf\n",
      "Participant ID: 0064P\n",
      "0064P\n",
      "Output notebook file: /project/def-emayada/q1k/experimental/derivatives/pylossless/derivatives/sync_loss/derivatives/segment/code/q1k_segment/session_reports/TO/executed_notebooks/0064P_TO_executed.ipynb\n",
      "Output HTML file: /project/def-emayada/q1k/experimental/derivatives/pylossless/derivatives/sync_loss/derivatives/segment/code/q1k_segment/session_reports/TO/0064P_TO.html\n"
     ]
    },
    {
     "data": {
      "application/vnd.jupyter.widget-view+json": {
       "model_id": "4025cbf458e744dd8b1b820cdf982f42",
       "version_major": 2,
       "version_minor": 0
      },
      "text/plain": [
       "Executing:   0%|          | 0/31 [00:00<?, ?cell/s]"
      ]
     },
     "metadata": {},
     "output_type": "display_data"
    },
    {
     "name": "stdout",
     "output_type": "stream",
     "text": [
      "HTML report saved for 0064P.\n",
      "Current data file: sub-0200M1_ses-01_task-TO_run-1_eeg.edf\n",
      "Participant ID: 0200M1\n",
      "0200M1\n",
      "Output notebook file: /project/def-emayada/q1k/experimental/derivatives/pylossless/derivatives/sync_loss/derivatives/segment/code/q1k_segment/session_reports/TO/executed_notebooks/0200M1_TO_executed.ipynb\n",
      "Output HTML file: /project/def-emayada/q1k/experimental/derivatives/pylossless/derivatives/sync_loss/derivatives/segment/code/q1k_segment/session_reports/TO/0200M1_TO.html\n"
     ]
    },
    {
     "data": {
      "application/vnd.jupyter.widget-view+json": {
       "model_id": "a171ded198e2465bbc48987a909ebb6c",
       "version_major": 2,
       "version_minor": 0
      },
      "text/plain": [
       "Executing:   0%|          | 0/31 [00:00<?, ?cell/s]"
      ]
     },
     "metadata": {},
     "output_type": "display_data"
    },
    {
     "name": "stdout",
     "output_type": "stream",
     "text": [
      "HTML report saved for 0200M1.\n",
      "Current data file: sub-1134S1_ses-01_task-TO_run-1_eeg.edf\n",
      "Participant ID: 1134S1\n",
      "1134S1\n",
      "Output notebook file: /project/def-emayada/q1k/experimental/derivatives/pylossless/derivatives/sync_loss/derivatives/segment/code/q1k_segment/session_reports/TO/executed_notebooks/1134S1_TO_executed.ipynb\n",
      "Output HTML file: /project/def-emayada/q1k/experimental/derivatives/pylossless/derivatives/sync_loss/derivatives/segment/code/q1k_segment/session_reports/TO/1134S1_TO.html\n"
     ]
    },
    {
     "data": {
      "application/vnd.jupyter.widget-view+json": {
       "model_id": "f08867fd0a3a4faa863948e6e4aadec8",
       "version_major": 2,
       "version_minor": 0
      },
      "text/plain": [
       "Executing:   0%|          | 0/31 [00:00<?, ?cell/s]"
      ]
     },
     "metadata": {},
     "output_type": "display_data"
    },
    {
     "name": "stdout",
     "output_type": "stream",
     "text": [
      "HTML report saved for 1134S1.\n",
      "Current data file: sub-1106M1_ses-01_task-TO_run-1_eeg.edf\n",
      "Participant ID: 1106M1\n",
      "1106M1\n",
      "Output notebook file: /project/def-emayada/q1k/experimental/derivatives/pylossless/derivatives/sync_loss/derivatives/segment/code/q1k_segment/session_reports/TO/executed_notebooks/1106M1_TO_executed.ipynb\n",
      "Output HTML file: /project/def-emayada/q1k/experimental/derivatives/pylossless/derivatives/sync_loss/derivatives/segment/code/q1k_segment/session_reports/TO/1106M1_TO.html\n"
     ]
    },
    {
     "data": {
      "application/vnd.jupyter.widget-view+json": {
       "model_id": "7d0e1d67e5d84452add3f96366397c80",
       "version_major": 2,
       "version_minor": 0
      },
      "text/plain": [
       "Executing:   0%|          | 0/31 [00:00<?, ?cell/s]"
      ]
     },
     "metadata": {},
     "output_type": "display_data"
    },
    {
     "name": "stdout",
     "output_type": "stream",
     "text": [
      "HTML report saved for 1106M1.\n",
      "Current data file: sub-1061S3_ses-01_task-TO_run-1_eeg.edf\n",
      "Participant ID: 1061S3\n",
      "1061S3\n",
      "Output notebook file: /project/def-emayada/q1k/experimental/derivatives/pylossless/derivatives/sync_loss/derivatives/segment/code/q1k_segment/session_reports/TO/executed_notebooks/1061S3_TO_executed.ipynb\n",
      "Output HTML file: /project/def-emayada/q1k/experimental/derivatives/pylossless/derivatives/sync_loss/derivatives/segment/code/q1k_segment/session_reports/TO/1061S3_TO.html\n"
     ]
    },
    {
     "data": {
      "application/vnd.jupyter.widget-view+json": {
       "model_id": "ac34beacc3a94656ad3bcfa14ba5a91d",
       "version_major": 2,
       "version_minor": 0
      },
      "text/plain": [
       "Executing:   0%|          | 0/31 [00:00<?, ?cell/s]"
      ]
     },
     "metadata": {},
     "output_type": "display_data"
    },
    {
     "name": "stdout",
     "output_type": "stream",
     "text": [
      "HTML report saved for 1061S3.\n",
      "Current data file: sub-1001F1_ses-01_task-TO_run-1_eeg.edf\n",
      "Participant ID: 1001F1\n",
      "1001F1\n",
      "Output notebook file: /project/def-emayada/q1k/experimental/derivatives/pylossless/derivatives/sync_loss/derivatives/segment/code/q1k_segment/session_reports/TO/executed_notebooks/1001F1_TO_executed.ipynb\n",
      "Output HTML file: /project/def-emayada/q1k/experimental/derivatives/pylossless/derivatives/sync_loss/derivatives/segment/code/q1k_segment/session_reports/TO/1001F1_TO.html\n"
     ]
    },
    {
     "data": {
      "application/vnd.jupyter.widget-view+json": {
       "model_id": "df18a380018140c7969a19b8ac37658d",
       "version_major": 2,
       "version_minor": 0
      },
      "text/plain": [
       "Executing:   0%|          | 0/31 [00:00<?, ?cell/s]"
      ]
     },
     "metadata": {},
     "output_type": "display_data"
    },
    {
     "name": "stdout",
     "output_type": "stream",
     "text": [
      "HTML report saved for 1001F1.\n",
      "Current data file: sub-0064M1_ses-01_task-TO_run-1_eeg.edf\n",
      "Participant ID: 0064M1\n",
      "0064M1\n",
      "Output notebook file: /project/def-emayada/q1k/experimental/derivatives/pylossless/derivatives/sync_loss/derivatives/segment/code/q1k_segment/session_reports/TO/executed_notebooks/0064M1_TO_executed.ipynb\n",
      "Output HTML file: /project/def-emayada/q1k/experimental/derivatives/pylossless/derivatives/sync_loss/derivatives/segment/code/q1k_segment/session_reports/TO/0064M1_TO.html\n"
     ]
    },
    {
     "data": {
      "application/vnd.jupyter.widget-view+json": {
       "model_id": "03f90e0d1e9b4fa8b7fd09fa244c0b48",
       "version_major": 2,
       "version_minor": 0
      },
      "text/plain": [
       "Executing:   0%|          | 0/31 [00:00<?, ?cell/s]"
      ]
     },
     "metadata": {},
     "output_type": "display_data"
    },
    {
     "name": "stdout",
     "output_type": "stream",
     "text": [
      "HTML report saved for 0064M1.\n",
      "Current data file: sub-1026P_ses-01_task-TO_run-1_eeg.edf\n",
      "Participant ID: 1026P\n",
      "1026P\n",
      "Output notebook file: /project/def-emayada/q1k/experimental/derivatives/pylossless/derivatives/sync_loss/derivatives/segment/code/q1k_segment/session_reports/TO/executed_notebooks/1026P_TO_executed.ipynb\n",
      "Output HTML file: /project/def-emayada/q1k/experimental/derivatives/pylossless/derivatives/sync_loss/derivatives/segment/code/q1k_segment/session_reports/TO/1026P_TO.html\n"
     ]
    },
    {
     "data": {
      "application/vnd.jupyter.widget-view+json": {
       "model_id": "3b033d9db1484f6fb3e3f110431e77e1",
       "version_major": 2,
       "version_minor": 0
      },
      "text/plain": [
       "Executing:   0%|          | 0/31 [00:00<?, ?cell/s]"
      ]
     },
     "metadata": {},
     "output_type": "display_data"
    },
    {
     "name": "stdout",
     "output_type": "stream",
     "text": [
      "HTML report saved for 1026P.\n",
      "Current data file: sub-1078F1_ses-01_task-TO_run-1_eeg.edf\n",
      "Participant ID: 1078F1\n",
      "1078F1\n",
      "Output notebook file: /project/def-emayada/q1k/experimental/derivatives/pylossless/derivatives/sync_loss/derivatives/segment/code/q1k_segment/session_reports/TO/executed_notebooks/1078F1_TO_executed.ipynb\n",
      "Output HTML file: /project/def-emayada/q1k/experimental/derivatives/pylossless/derivatives/sync_loss/derivatives/segment/code/q1k_segment/session_reports/TO/1078F1_TO.html\n"
     ]
    },
    {
     "data": {
      "application/vnd.jupyter.widget-view+json": {
       "model_id": "41a2130d72e24f3fbc283d3e95601a2d",
       "version_major": 2,
       "version_minor": 0
      },
      "text/plain": [
       "Executing:   0%|          | 0/31 [00:00<?, ?cell/s]"
      ]
     },
     "metadata": {},
     "output_type": "display_data"
    },
    {
     "name": "stdout",
     "output_type": "stream",
     "text": [
      "HTML report saved for 1078F1.\n",
      "Current data file: sub-1057M1_ses-01_task-TO_run-1_eeg.edf\n",
      "Participant ID: 1057M1\n",
      "1057M1\n",
      "Output notebook file: /project/def-emayada/q1k/experimental/derivatives/pylossless/derivatives/sync_loss/derivatives/segment/code/q1k_segment/session_reports/TO/executed_notebooks/1057M1_TO_executed.ipynb\n",
      "Output HTML file: /project/def-emayada/q1k/experimental/derivatives/pylossless/derivatives/sync_loss/derivatives/segment/code/q1k_segment/session_reports/TO/1057M1_TO.html\n"
     ]
    },
    {
     "data": {
      "application/vnd.jupyter.widget-view+json": {
       "model_id": "ea8b742ef1db43a2a551518c113120a9",
       "version_major": 2,
       "version_minor": 0
      },
      "text/plain": [
       "Executing:   0%|          | 0/31 [00:00<?, ?cell/s]"
      ]
     },
     "metadata": {},
     "output_type": "display_data"
    },
    {
     "name": "stdout",
     "output_type": "stream",
     "text": [
      "HTML report saved for 1057M1.\n",
      "Current data file: sub-0183S1_ses-01_task-TO_run-1_eeg.edf\n",
      "Participant ID: 0183S1\n",
      "0183S1\n",
      "Output notebook file: /project/def-emayada/q1k/experimental/derivatives/pylossless/derivatives/sync_loss/derivatives/segment/code/q1k_segment/session_reports/TO/executed_notebooks/0183S1_TO_executed.ipynb\n",
      "Output HTML file: /project/def-emayada/q1k/experimental/derivatives/pylossless/derivatives/sync_loss/derivatives/segment/code/q1k_segment/session_reports/TO/0183S1_TO.html\n"
     ]
    },
    {
     "data": {
      "application/vnd.jupyter.widget-view+json": {
       "model_id": "a00a599ffc334e5f9b779647d3e92726",
       "version_major": 2,
       "version_minor": 0
      },
      "text/plain": [
       "Executing:   0%|          | 0/31 [00:00<?, ?cell/s]"
      ]
     },
     "metadata": {},
     "output_type": "display_data"
    },
    {
     "name": "stdout",
     "output_type": "stream",
     "text": [
      "HTML report saved for 0183S1.\n",
      "Current data file: sub-1147S1_ses-01_task-TO_run-1_eeg.edf\n",
      "Participant ID: 1147S1\n",
      "1147S1\n",
      "Output notebook file: /project/def-emayada/q1k/experimental/derivatives/pylossless/derivatives/sync_loss/derivatives/segment/code/q1k_segment/session_reports/TO/executed_notebooks/1147S1_TO_executed.ipynb\n",
      "Output HTML file: /project/def-emayada/q1k/experimental/derivatives/pylossless/derivatives/sync_loss/derivatives/segment/code/q1k_segment/session_reports/TO/1147S1_TO.html\n"
     ]
    },
    {
     "data": {
      "application/vnd.jupyter.widget-view+json": {
       "model_id": "9df40fcb7ade4e8faf31125b89aa3403",
       "version_major": 2,
       "version_minor": 0
      },
      "text/plain": [
       "Executing:   0%|          | 0/31 [00:00<?, ?cell/s]"
      ]
     },
     "metadata": {},
     "output_type": "display_data"
    },
    {
     "name": "stdout",
     "output_type": "stream",
     "text": [
      "HTML report saved for 1147S1.\n",
      "Current data file: sub-1118F1_ses-01_task-TO_run-1_eeg.edf\n",
      "Participant ID: 1118F1\n",
      "1118F1\n",
      "Output notebook file: /project/def-emayada/q1k/experimental/derivatives/pylossless/derivatives/sync_loss/derivatives/segment/code/q1k_segment/session_reports/TO/executed_notebooks/1118F1_TO_executed.ipynb\n",
      "Output HTML file: /project/def-emayada/q1k/experimental/derivatives/pylossless/derivatives/sync_loss/derivatives/segment/code/q1k_segment/session_reports/TO/1118F1_TO.html\n"
     ]
    },
    {
     "data": {
      "application/vnd.jupyter.widget-view+json": {
       "model_id": "42b8d0095153442ea9c54fedd97d817a",
       "version_major": 2,
       "version_minor": 0
      },
      "text/plain": [
       "Executing:   0%|          | 0/31 [00:00<?, ?cell/s]"
      ]
     },
     "metadata": {},
     "output_type": "display_data"
    },
    {
     "name": "stdout",
     "output_type": "stream",
     "text": [
      "HTML report saved for 1118F1.\n",
      "Current data file: sub-1024M1_ses-01_task-TO_run-1_eeg.edf\n",
      "Participant ID: 1024M1\n",
      "1024M1\n",
      "Output notebook file: /project/def-emayada/q1k/experimental/derivatives/pylossless/derivatives/sync_loss/derivatives/segment/code/q1k_segment/session_reports/TO/executed_notebooks/1024M1_TO_executed.ipynb\n",
      "Output HTML file: /project/def-emayada/q1k/experimental/derivatives/pylossless/derivatives/sync_loss/derivatives/segment/code/q1k_segment/session_reports/TO/1024M1_TO.html\n"
     ]
    },
    {
     "data": {
      "application/vnd.jupyter.widget-view+json": {
       "model_id": "3bba9cbd428348f5b6277e436610ac4c",
       "version_major": 2,
       "version_minor": 0
      },
      "text/plain": [
       "Executing:   0%|          | 0/31 [00:00<?, ?cell/s]"
      ]
     },
     "metadata": {},
     "output_type": "display_data"
    },
    {
     "name": "stdout",
     "output_type": "stream",
     "text": [
      "HTML report saved for 1024M1.\n",
      "Current data file: sub-0248M1_ses-01_task-TO_run-1_eeg.edf\n",
      "Participant ID: 0248M1\n",
      "0248M1\n",
      "Output notebook file: /project/def-emayada/q1k/experimental/derivatives/pylossless/derivatives/sync_loss/derivatives/segment/code/q1k_segment/session_reports/TO/executed_notebooks/0248M1_TO_executed.ipynb\n",
      "Output HTML file: /project/def-emayada/q1k/experimental/derivatives/pylossless/derivatives/sync_loss/derivatives/segment/code/q1k_segment/session_reports/TO/0248M1_TO.html\n"
     ]
    },
    {
     "data": {
      "application/vnd.jupyter.widget-view+json": {
       "model_id": "1f557c3320a2447fab4156cb502ec2fb",
       "version_major": 2,
       "version_minor": 0
      },
      "text/plain": [
       "Executing:   0%|          | 0/31 [00:00<?, ?cell/s]"
      ]
     },
     "metadata": {},
     "output_type": "display_data"
    },
    {
     "name": "stdout",
     "output_type": "stream",
     "text": [
      "HTML report saved for 0248M1.\n",
      "Current data file: sub-1037P_ses-01_task-TO_run-1_eeg.edf\n",
      "Participant ID: 1037P\n",
      "1037P\n",
      "Output notebook file: /project/def-emayada/q1k/experimental/derivatives/pylossless/derivatives/sync_loss/derivatives/segment/code/q1k_segment/session_reports/TO/executed_notebooks/1037P_TO_executed.ipynb\n",
      "Output HTML file: /project/def-emayada/q1k/experimental/derivatives/pylossless/derivatives/sync_loss/derivatives/segment/code/q1k_segment/session_reports/TO/1037P_TO.html\n"
     ]
    },
    {
     "data": {
      "application/vnd.jupyter.widget-view+json": {
       "model_id": "528746dec7df486fbd430912d851b3f2",
       "version_major": 2,
       "version_minor": 0
      },
      "text/plain": [
       "Executing:   0%|          | 0/31 [00:00<?, ?cell/s]"
      ]
     },
     "metadata": {},
     "output_type": "display_data"
    },
    {
     "name": "stdout",
     "output_type": "stream",
     "text": [
      "HTML report saved for 1037P.\n",
      "Current data file: sub-0043F1_ses-01_task-TO_run-1_eeg.edf\n",
      "Participant ID: 0043F1\n",
      "0043F1\n",
      "Output notebook file: /project/def-emayada/q1k/experimental/derivatives/pylossless/derivatives/sync_loss/derivatives/segment/code/q1k_segment/session_reports/TO/executed_notebooks/0043F1_TO_executed.ipynb\n",
      "Output HTML file: /project/def-emayada/q1k/experimental/derivatives/pylossless/derivatives/sync_loss/derivatives/segment/code/q1k_segment/session_reports/TO/0043F1_TO.html\n"
     ]
    },
    {
     "data": {
      "application/vnd.jupyter.widget-view+json": {
       "model_id": "1532a4b727b640398dce036257bc1659",
       "version_major": 2,
       "version_minor": 0
      },
      "text/plain": [
       "Executing:   0%|          | 0/31 [00:00<?, ?cell/s]"
      ]
     },
     "metadata": {},
     "output_type": "display_data"
    },
    {
     "name": "stdout",
     "output_type": "stream",
     "text": [
      "HTML report saved for 0043F1.\n",
      "Current data file: sub-0196P_ses-01_task-TO_run-1_eeg.edf\n",
      "Participant ID: 0196P\n",
      "0196P\n",
      "Output notebook file: /project/def-emayada/q1k/experimental/derivatives/pylossless/derivatives/sync_loss/derivatives/segment/code/q1k_segment/session_reports/TO/executed_notebooks/0196P_TO_executed.ipynb\n",
      "Output HTML file: /project/def-emayada/q1k/experimental/derivatives/pylossless/derivatives/sync_loss/derivatives/segment/code/q1k_segment/session_reports/TO/0196P_TO.html\n"
     ]
    },
    {
     "data": {
      "application/vnd.jupyter.widget-view+json": {
       "model_id": "c0285c1062c3465c9fc10ba8ecdde423",
       "version_major": 2,
       "version_minor": 0
      },
      "text/plain": [
       "Executing:   0%|          | 0/31 [00:00<?, ?cell/s]"
      ]
     },
     "metadata": {},
     "output_type": "display_data"
    },
    {
     "name": "stdout",
     "output_type": "stream",
     "text": [
      "HTML report saved for 0196P.\n",
      "Current data file: sub-0181P_ses-01_task-TO_run-1_eeg.edf\n",
      "Participant ID: 0181P\n",
      "0181P\n",
      "Output notebook file: /project/def-emayada/q1k/experimental/derivatives/pylossless/derivatives/sync_loss/derivatives/segment/code/q1k_segment/session_reports/TO/executed_notebooks/0181P_TO_executed.ipynb\n",
      "Output HTML file: /project/def-emayada/q1k/experimental/derivatives/pylossless/derivatives/sync_loss/derivatives/segment/code/q1k_segment/session_reports/TO/0181P_TO.html\n"
     ]
    },
    {
     "data": {
      "application/vnd.jupyter.widget-view+json": {
       "model_id": "4d16aebac73142e0a5fd1ca9e9eeceb1",
       "version_major": 2,
       "version_minor": 0
      },
      "text/plain": [
       "Executing:   0%|          | 0/31 [00:00<?, ?cell/s]"
      ]
     },
     "metadata": {},
     "output_type": "display_data"
    },
    {
     "name": "stdout",
     "output_type": "stream",
     "text": [
      "HTML report saved for 0181P.\n",
      "Current data file: sub-1026M1_ses-01_task-TO_run-1_eeg.edf\n",
      "Participant ID: 1026M1\n",
      "1026M1\n",
      "Output notebook file: /project/def-emayada/q1k/experimental/derivatives/pylossless/derivatives/sync_loss/derivatives/segment/code/q1k_segment/session_reports/TO/executed_notebooks/1026M1_TO_executed.ipynb\n",
      "Output HTML file: /project/def-emayada/q1k/experimental/derivatives/pylossless/derivatives/sync_loss/derivatives/segment/code/q1k_segment/session_reports/TO/1026M1_TO.html\n"
     ]
    },
    {
     "data": {
      "application/vnd.jupyter.widget-view+json": {
       "model_id": "681675fb3f7c4a61a54cf4a00ec847b7",
       "version_major": 2,
       "version_minor": 0
      },
      "text/plain": [
       "Executing:   0%|          | 0/31 [00:00<?, ?cell/s]"
      ]
     },
     "metadata": {},
     "output_type": "display_data"
    },
    {
     "name": "stdout",
     "output_type": "stream",
     "text": [
      "HTML report saved for 1026M1.\n",
      "Current data file: sub-0104C1_ses-01_task-TO_run-1_eeg.edf\n",
      "Participant ID: 0104C1\n",
      "0104C1\n",
      "Output notebook file: /project/def-emayada/q1k/experimental/derivatives/pylossless/derivatives/sync_loss/derivatives/segment/code/q1k_segment/session_reports/TO/executed_notebooks/0104C1_TO_executed.ipynb\n",
      "Output HTML file: /project/def-emayada/q1k/experimental/derivatives/pylossless/derivatives/sync_loss/derivatives/segment/code/q1k_segment/session_reports/TO/0104C1_TO.html\n"
     ]
    },
    {
     "data": {
      "application/vnd.jupyter.widget-view+json": {
       "model_id": "420c7e555906460c88f8190eb9d1f694",
       "version_major": 2,
       "version_minor": 0
      },
      "text/plain": [
       "Executing:   0%|          | 0/31 [00:00<?, ?cell/s]"
      ]
     },
     "metadata": {},
     "output_type": "display_data"
    },
    {
     "name": "stdout",
     "output_type": "stream",
     "text": [
      "HTML report saved for 0104C1.\n",
      "Current data file: sub-0171F1_ses-01_task-TO_run-1_eeg.edf\n",
      "Participant ID: 0171F1\n",
      "0171F1\n",
      "Output notebook file: /project/def-emayada/q1k/experimental/derivatives/pylossless/derivatives/sync_loss/derivatives/segment/code/q1k_segment/session_reports/TO/executed_notebooks/0171F1_TO_executed.ipynb\n",
      "Output HTML file: /project/def-emayada/q1k/experimental/derivatives/pylossless/derivatives/sync_loss/derivatives/segment/code/q1k_segment/session_reports/TO/0171F1_TO.html\n"
     ]
    },
    {
     "data": {
      "application/vnd.jupyter.widget-view+json": {
       "model_id": "9af8f19b3eb74d1fa577ed7b6d0348cb",
       "version_major": 2,
       "version_minor": 0
      },
      "text/plain": [
       "Executing:   0%|          | 0/31 [00:00<?, ?cell/s]"
      ]
     },
     "metadata": {},
     "output_type": "display_data"
    },
    {
     "name": "stdout",
     "output_type": "stream",
     "text": [
      "HTML report saved for 0171F1.\n",
      "Current data file: sub-0186F1_ses-01_task-TO_run-1_eeg.edf\n",
      "Participant ID: 0186F1\n",
      "0186F1\n",
      "Output notebook file: /project/def-emayada/q1k/experimental/derivatives/pylossless/derivatives/sync_loss/derivatives/segment/code/q1k_segment/session_reports/TO/executed_notebooks/0186F1_TO_executed.ipynb\n",
      "Output HTML file: /project/def-emayada/q1k/experimental/derivatives/pylossless/derivatives/sync_loss/derivatives/segment/code/q1k_segment/session_reports/TO/0186F1_TO.html\n"
     ]
    },
    {
     "data": {
      "application/vnd.jupyter.widget-view+json": {
       "model_id": "a13b75f8d71d45d381bec30b9b083644",
       "version_major": 2,
       "version_minor": 0
      },
      "text/plain": [
       "Executing:   0%|          | 0/31 [00:00<?, ?cell/s]"
      ]
     },
     "metadata": {},
     "output_type": "display_data"
    },
    {
     "name": "stdout",
     "output_type": "stream",
     "text": [
      "HTML report saved for 0186F1.\n",
      "Current data file: sub-1114M1_ses-01_task-TO_run-1_eeg.edf\n",
      "Participant ID: 1114M1\n",
      "1114M1\n",
      "Output notebook file: /project/def-emayada/q1k/experimental/derivatives/pylossless/derivatives/sync_loss/derivatives/segment/code/q1k_segment/session_reports/TO/executed_notebooks/1114M1_TO_executed.ipynb\n",
      "Output HTML file: /project/def-emayada/q1k/experimental/derivatives/pylossless/derivatives/sync_loss/derivatives/segment/code/q1k_segment/session_reports/TO/1114M1_TO.html\n"
     ]
    },
    {
     "data": {
      "application/vnd.jupyter.widget-view+json": {
       "model_id": "c86f1aaddd0d4f8c8251566b5cd1b0f8",
       "version_major": 2,
       "version_minor": 0
      },
      "text/plain": [
       "Executing:   0%|          | 0/31 [00:00<?, ?cell/s]"
      ]
     },
     "metadata": {},
     "output_type": "display_data"
    },
    {
     "name": "stdout",
     "output_type": "stream",
     "text": [
      "HTML report saved for 1114M1.\n",
      "Current data file: sub-1106P_ses-01_task-TO_run-1_eeg.edf\n",
      "Participant ID: 1106P\n",
      "1106P\n",
      "Output notebook file: /project/def-emayada/q1k/experimental/derivatives/pylossless/derivatives/sync_loss/derivatives/segment/code/q1k_segment/session_reports/TO/executed_notebooks/1106P_TO_executed.ipynb\n",
      "Output HTML file: /project/def-emayada/q1k/experimental/derivatives/pylossless/derivatives/sync_loss/derivatives/segment/code/q1k_segment/session_reports/TO/1106P_TO.html\n"
     ]
    },
    {
     "data": {
      "application/vnd.jupyter.widget-view+json": {
       "model_id": "84c36f8b8f3c4966a0ff0b44f221123c",
       "version_major": 2,
       "version_minor": 0
      },
      "text/plain": [
       "Executing:   0%|          | 0/31 [00:00<?, ?cell/s]"
      ]
     },
     "metadata": {},
     "output_type": "display_data"
    },
    {
     "name": "stdout",
     "output_type": "stream",
     "text": [
      "HTML report saved for 1106P.\n",
      "Current data file: sub-1121F1_ses-01_task-TO_run-1_eeg.edf\n",
      "Participant ID: 1121F1\n",
      "1121F1\n",
      "Output notebook file: /project/def-emayada/q1k/experimental/derivatives/pylossless/derivatives/sync_loss/derivatives/segment/code/q1k_segment/session_reports/TO/executed_notebooks/1121F1_TO_executed.ipynb\n",
      "Output HTML file: /project/def-emayada/q1k/experimental/derivatives/pylossless/derivatives/sync_loss/derivatives/segment/code/q1k_segment/session_reports/TO/1121F1_TO.html\n"
     ]
    },
    {
     "data": {
      "application/vnd.jupyter.widget-view+json": {
       "model_id": "f60cfae706aa4ab9b1f0d0857abd7c7c",
       "version_major": 2,
       "version_minor": 0
      },
      "text/plain": [
       "Executing:   0%|          | 0/31 [00:00<?, ?cell/s]"
      ]
     },
     "metadata": {},
     "output_type": "display_data"
    },
    {
     "name": "stdout",
     "output_type": "stream",
     "text": [
      "HTML report saved for 1121F1.\n",
      "Current data file: sub-0068F1_ses-01_task-TO_run-1_eeg.edf\n",
      "Participant ID: 0068F1\n",
      "0068F1\n",
      "Output notebook file: /project/def-emayada/q1k/experimental/derivatives/pylossless/derivatives/sync_loss/derivatives/segment/code/q1k_segment/session_reports/TO/executed_notebooks/0068F1_TO_executed.ipynb\n",
      "Output HTML file: /project/def-emayada/q1k/experimental/derivatives/pylossless/derivatives/sync_loss/derivatives/segment/code/q1k_segment/session_reports/TO/0068F1_TO.html\n"
     ]
    },
    {
     "data": {
      "application/vnd.jupyter.widget-view+json": {
       "model_id": "ab9d91896c21414ba7033513a31e9836",
       "version_major": 2,
       "version_minor": 0
      },
      "text/plain": [
       "Executing:   0%|          | 0/31 [00:00<?, ?cell/s]"
      ]
     },
     "metadata": {},
     "output_type": "display_data"
    },
    {
     "name": "stdout",
     "output_type": "stream",
     "text": [
      "HTML report saved for 0068F1.\n",
      "Current data file: sub-1067S1_ses-01_task-TO_run-1_eeg.edf\n",
      "Participant ID: 1067S1\n",
      "1067S1\n",
      "Output notebook file: /project/def-emayada/q1k/experimental/derivatives/pylossless/derivatives/sync_loss/derivatives/segment/code/q1k_segment/session_reports/TO/executed_notebooks/1067S1_TO_executed.ipynb\n",
      "Output HTML file: /project/def-emayada/q1k/experimental/derivatives/pylossless/derivatives/sync_loss/derivatives/segment/code/q1k_segment/session_reports/TO/1067S1_TO.html\n"
     ]
    },
    {
     "data": {
      "application/vnd.jupyter.widget-view+json": {
       "model_id": "e60cf032631e4089a7aa10a54c2e93b9",
       "version_major": 2,
       "version_minor": 0
      },
      "text/plain": [
       "Executing:   0%|          | 0/31 [00:00<?, ?cell/s]"
      ]
     },
     "metadata": {},
     "output_type": "display_data"
    },
    {
     "name": "stdout",
     "output_type": "stream",
     "text": [
      "HTML report saved for 1067S1.\n",
      "Current data file: sub-1028P_ses-01_task-TO_run-1_eeg.edf\n",
      "Participant ID: 1028P\n",
      "1028P\n",
      "Output notebook file: /project/def-emayada/q1k/experimental/derivatives/pylossless/derivatives/sync_loss/derivatives/segment/code/q1k_segment/session_reports/TO/executed_notebooks/1028P_TO_executed.ipynb\n",
      "Output HTML file: /project/def-emayada/q1k/experimental/derivatives/pylossless/derivatives/sync_loss/derivatives/segment/code/q1k_segment/session_reports/TO/1028P_TO.html\n"
     ]
    },
    {
     "data": {
      "application/vnd.jupyter.widget-view+json": {
       "model_id": "256ea50c19a9425db91c0c04ae80cfe4",
       "version_major": 2,
       "version_minor": 0
      },
      "text/plain": [
       "Executing:   0%|          | 0/31 [00:00<?, ?cell/s]"
      ]
     },
     "metadata": {},
     "output_type": "display_data"
    },
    {
     "name": "stdout",
     "output_type": "stream",
     "text": [
      "HTML report saved for 1028P.\n",
      "Current data file: sub-0218M1_ses-01_task-TO_run-1_eeg.edf\n",
      "Participant ID: 0218M1\n",
      "0218M1\n",
      "Output notebook file: /project/def-emayada/q1k/experimental/derivatives/pylossless/derivatives/sync_loss/derivatives/segment/code/q1k_segment/session_reports/TO/executed_notebooks/0218M1_TO_executed.ipynb\n",
      "Output HTML file: /project/def-emayada/q1k/experimental/derivatives/pylossless/derivatives/sync_loss/derivatives/segment/code/q1k_segment/session_reports/TO/0218M1_TO.html\n"
     ]
    },
    {
     "data": {
      "application/vnd.jupyter.widget-view+json": {
       "model_id": "7a6bae4c14d04de89c251289e752930f",
       "version_major": 2,
       "version_minor": 0
      },
      "text/plain": [
       "Executing:   0%|          | 0/31 [00:00<?, ?cell/s]"
      ]
     },
     "metadata": {},
     "output_type": "display_data"
    },
    {
     "name": "stdout",
     "output_type": "stream",
     "text": [
      "HTML report saved for 0218M1.\n",
      "Current data file: sub-1045P_ses-01_task-TO_run-1_eeg.edf\n",
      "Participant ID: 1045P\n",
      "1045P\n",
      "Output notebook file: /project/def-emayada/q1k/experimental/derivatives/pylossless/derivatives/sync_loss/derivatives/segment/code/q1k_segment/session_reports/TO/executed_notebooks/1045P_TO_executed.ipynb\n",
      "Output HTML file: /project/def-emayada/q1k/experimental/derivatives/pylossless/derivatives/sync_loss/derivatives/segment/code/q1k_segment/session_reports/TO/1045P_TO.html\n"
     ]
    },
    {
     "data": {
      "application/vnd.jupyter.widget-view+json": {
       "model_id": "10c8011a50a64b048208fb814c99a9d7",
       "version_major": 2,
       "version_minor": 0
      },
      "text/plain": [
       "Executing:   0%|          | 0/31 [00:00<?, ?cell/s]"
      ]
     },
     "metadata": {},
     "output_type": "display_data"
    },
    {
     "name": "stdout",
     "output_type": "stream",
     "text": [
      "HTML report saved for 1045P.\n",
      "Current data file: sub-1006P_ses-01_task-TO_run-1_eeg.edf\n",
      "Participant ID: 1006P\n",
      "1006P\n",
      "Output notebook file: /project/def-emayada/q1k/experimental/derivatives/pylossless/derivatives/sync_loss/derivatives/segment/code/q1k_segment/session_reports/TO/executed_notebooks/1006P_TO_executed.ipynb\n",
      "Output HTML file: /project/def-emayada/q1k/experimental/derivatives/pylossless/derivatives/sync_loss/derivatives/segment/code/q1k_segment/session_reports/TO/1006P_TO.html\n"
     ]
    },
    {
     "data": {
      "application/vnd.jupyter.widget-view+json": {
       "model_id": "77d3c8a0ab2e4e5388bc47482352d5cd",
       "version_major": 2,
       "version_minor": 0
      },
      "text/plain": [
       "Executing:   0%|          | 0/31 [00:00<?, ?cell/s]"
      ]
     },
     "metadata": {},
     "output_type": "display_data"
    },
    {
     "name": "stdout",
     "output_type": "stream",
     "text": [
      "HTML report saved for 1006P.\n",
      "Current data file: sub-1093S2_ses-01_task-TO_run-1_eeg.edf\n",
      "Participant ID: 1093S2\n",
      "1093S2\n",
      "Output notebook file: /project/def-emayada/q1k/experimental/derivatives/pylossless/derivatives/sync_loss/derivatives/segment/code/q1k_segment/session_reports/TO/executed_notebooks/1093S2_TO_executed.ipynb\n",
      "Output HTML file: /project/def-emayada/q1k/experimental/derivatives/pylossless/derivatives/sync_loss/derivatives/segment/code/q1k_segment/session_reports/TO/1093S2_TO.html\n"
     ]
    },
    {
     "data": {
      "application/vnd.jupyter.widget-view+json": {
       "model_id": "46c09e9ec7134557bfebb40536206f1a",
       "version_major": 2,
       "version_minor": 0
      },
      "text/plain": [
       "Executing:   0%|          | 0/31 [00:00<?, ?cell/s]"
      ]
     },
     "metadata": {},
     "output_type": "display_data"
    },
    {
     "name": "stdout",
     "output_type": "stream",
     "text": [
      "HTML report saved for 1093S2.\n",
      "Current data file: sub-0162P_ses-01_task-TO_run-1_eeg.edf\n",
      "Participant ID: 0162P\n",
      "0162P\n",
      "Output notebook file: /project/def-emayada/q1k/experimental/derivatives/pylossless/derivatives/sync_loss/derivatives/segment/code/q1k_segment/session_reports/TO/executed_notebooks/0162P_TO_executed.ipynb\n",
      "Output HTML file: /project/def-emayada/q1k/experimental/derivatives/pylossless/derivatives/sync_loss/derivatives/segment/code/q1k_segment/session_reports/TO/0162P_TO.html\n"
     ]
    },
    {
     "data": {
      "application/vnd.jupyter.widget-view+json": {
       "model_id": "1db40de8812a4e2aa68b84cb439ba250",
       "version_major": 2,
       "version_minor": 0
      },
      "text/plain": [
       "Executing:   0%|          | 0/31 [00:00<?, ?cell/s]"
      ]
     },
     "metadata": {},
     "output_type": "display_data"
    },
    {
     "name": "stdout",
     "output_type": "stream",
     "text": [
      "HTML report saved for 0162P.\n",
      "Current data file: sub-1080P_ses-01_task-TO_run-1_eeg.edf\n",
      "Participant ID: 1080P\n",
      "1080P\n",
      "Output notebook file: /project/def-emayada/q1k/experimental/derivatives/pylossless/derivatives/sync_loss/derivatives/segment/code/q1k_segment/session_reports/TO/executed_notebooks/1080P_TO_executed.ipynb\n",
      "Output HTML file: /project/def-emayada/q1k/experimental/derivatives/pylossless/derivatives/sync_loss/derivatives/segment/code/q1k_segment/session_reports/TO/1080P_TO.html\n"
     ]
    },
    {
     "data": {
      "application/vnd.jupyter.widget-view+json": {
       "model_id": "e5de8b53ce2e4602895bdb1607213128",
       "version_major": 2,
       "version_minor": 0
      },
      "text/plain": [
       "Executing:   0%|          | 0/31 [00:00<?, ?cell/s]"
      ]
     },
     "metadata": {},
     "output_type": "display_data"
    },
    {
     "name": "stdout",
     "output_type": "stream",
     "text": [
      "HTML report saved for 1080P.\n",
      "Current data file: sub-1052P_ses-01_task-TO_run-1_eeg.edf\n",
      "Participant ID: 1052P\n",
      "1052P\n",
      "Output notebook file: /project/def-emayada/q1k/experimental/derivatives/pylossless/derivatives/sync_loss/derivatives/segment/code/q1k_segment/session_reports/TO/executed_notebooks/1052P_TO_executed.ipynb\n",
      "Output HTML file: /project/def-emayada/q1k/experimental/derivatives/pylossless/derivatives/sync_loss/derivatives/segment/code/q1k_segment/session_reports/TO/1052P_TO.html\n"
     ]
    },
    {
     "data": {
      "application/vnd.jupyter.widget-view+json": {
       "model_id": "b5834d2412344b55ac9c01aa23ac358d",
       "version_major": 2,
       "version_minor": 0
      },
      "text/plain": [
       "Executing:   0%|          | 0/31 [00:00<?, ?cell/s]"
      ]
     },
     "metadata": {},
     "output_type": "display_data"
    },
    {
     "name": "stdout",
     "output_type": "stream",
     "text": [
      "HTML report saved for 1052P.\n",
      "Current data file: sub-0200P_ses-01_task-TO_run-1_eeg.edf\n",
      "Participant ID: 0200P\n",
      "0200P\n",
      "Output notebook file: /project/def-emayada/q1k/experimental/derivatives/pylossless/derivatives/sync_loss/derivatives/segment/code/q1k_segment/session_reports/TO/executed_notebooks/0200P_TO_executed.ipynb\n",
      "Output HTML file: /project/def-emayada/q1k/experimental/derivatives/pylossless/derivatives/sync_loss/derivatives/segment/code/q1k_segment/session_reports/TO/0200P_TO.html\n"
     ]
    },
    {
     "data": {
      "application/vnd.jupyter.widget-view+json": {
       "model_id": "88c6587337384ba19eb865c769a624a3",
       "version_major": 2,
       "version_minor": 0
      },
      "text/plain": [
       "Executing:   0%|          | 0/31 [00:00<?, ?cell/s]"
      ]
     },
     "metadata": {},
     "output_type": "display_data"
    },
    {
     "name": "stdout",
     "output_type": "stream",
     "text": [
      "HTML report saved for 0200P.\n",
      "Current data file: sub-1109P_ses-01_task-TO_run-1_eeg.edf\n",
      "Participant ID: 1109P\n",
      "1109P\n",
      "Output notebook file: /project/def-emayada/q1k/experimental/derivatives/pylossless/derivatives/sync_loss/derivatives/segment/code/q1k_segment/session_reports/TO/executed_notebooks/1109P_TO_executed.ipynb\n",
      "Output HTML file: /project/def-emayada/q1k/experimental/derivatives/pylossless/derivatives/sync_loss/derivatives/segment/code/q1k_segment/session_reports/TO/1109P_TO.html\n"
     ]
    },
    {
     "data": {
      "application/vnd.jupyter.widget-view+json": {
       "model_id": "0203bc48331648f3a64ad67b50a1b3d1",
       "version_major": 2,
       "version_minor": 0
      },
      "text/plain": [
       "Executing:   0%|          | 0/31 [00:00<?, ?cell/s]"
      ]
     },
     "metadata": {},
     "output_type": "display_data"
    },
    {
     "name": "stdout",
     "output_type": "stream",
     "text": [
      "HTML report saved for 1109P.\n",
      "Current data file: sub-0281P_ses-01_task-TO_run-1_eeg.edf\n",
      "Participant ID: 0281P\n",
      "0281P\n",
      "Output notebook file: /project/def-emayada/q1k/experimental/derivatives/pylossless/derivatives/sync_loss/derivatives/segment/code/q1k_segment/session_reports/TO/executed_notebooks/0281P_TO_executed.ipynb\n",
      "Output HTML file: /project/def-emayada/q1k/experimental/derivatives/pylossless/derivatives/sync_loss/derivatives/segment/code/q1k_segment/session_reports/TO/0281P_TO.html\n"
     ]
    },
    {
     "data": {
      "application/vnd.jupyter.widget-view+json": {
       "model_id": "73e2c5839d23453d9600b641a4424b85",
       "version_major": 2,
       "version_minor": 0
      },
      "text/plain": [
       "Executing:   0%|          | 0/31 [00:00<?, ?cell/s]"
      ]
     },
     "metadata": {},
     "output_type": "display_data"
    },
    {
     "name": "stdout",
     "output_type": "stream",
     "text": [
      "HTML report saved for 0281P.\n",
      "Current data file: sub-1061F1_ses-01_task-TO_run-1_eeg.edf\n",
      "Participant ID: 1061F1\n",
      "1061F1\n",
      "Output notebook file: /project/def-emayada/q1k/experimental/derivatives/pylossless/derivatives/sync_loss/derivatives/segment/code/q1k_segment/session_reports/TO/executed_notebooks/1061F1_TO_executed.ipynb\n",
      "Output HTML file: /project/def-emayada/q1k/experimental/derivatives/pylossless/derivatives/sync_loss/derivatives/segment/code/q1k_segment/session_reports/TO/1061F1_TO.html\n"
     ]
    },
    {
     "data": {
      "application/vnd.jupyter.widget-view+json": {
       "model_id": "7ef9e8bf7291457ab5d32a67e4e3adbc",
       "version_major": 2,
       "version_minor": 0
      },
      "text/plain": [
       "Executing:   0%|          | 0/31 [00:00<?, ?cell/s]"
      ]
     },
     "metadata": {},
     "output_type": "display_data"
    },
    {
     "name": "stdout",
     "output_type": "stream",
     "text": [
      "HTML report saved for 1061F1.\n",
      "Current data file: sub-0248S1_ses-01_task-TO_run-1_eeg.edf\n",
      "Participant ID: 0248S1\n",
      "0248S1\n",
      "Output notebook file: /project/def-emayada/q1k/experimental/derivatives/pylossless/derivatives/sync_loss/derivatives/segment/code/q1k_segment/session_reports/TO/executed_notebooks/0248S1_TO_executed.ipynb\n",
      "Output HTML file: /project/def-emayada/q1k/experimental/derivatives/pylossless/derivatives/sync_loss/derivatives/segment/code/q1k_segment/session_reports/TO/0248S1_TO.html\n"
     ]
    },
    {
     "data": {
      "application/vnd.jupyter.widget-view+json": {
       "model_id": "ff1bc161594b41efaf33e9c356bbd94d",
       "version_major": 2,
       "version_minor": 0
      },
      "text/plain": [
       "Executing:   0%|          | 0/31 [00:00<?, ?cell/s]"
      ]
     },
     "metadata": {},
     "output_type": "display_data"
    },
    {
     "name": "stdout",
     "output_type": "stream",
     "text": [
      "HTML report saved for 0248S1.\n",
      "Current data file: sub-1042P_ses-01_task-TO_run-1_eeg.edf\n",
      "Participant ID: 1042P\n",
      "1042P\n",
      "Output notebook file: /project/def-emayada/q1k/experimental/derivatives/pylossless/derivatives/sync_loss/derivatives/segment/code/q1k_segment/session_reports/TO/executed_notebooks/1042P_TO_executed.ipynb\n",
      "Output HTML file: /project/def-emayada/q1k/experimental/derivatives/pylossless/derivatives/sync_loss/derivatives/segment/code/q1k_segment/session_reports/TO/1042P_TO.html\n"
     ]
    },
    {
     "data": {
      "application/vnd.jupyter.widget-view+json": {
       "model_id": "da6fdd0604394462a6973ec0f5295912",
       "version_major": 2,
       "version_minor": 0
      },
      "text/plain": [
       "Executing:   0%|          | 0/31 [00:00<?, ?cell/s]"
      ]
     },
     "metadata": {},
     "output_type": "display_data"
    },
    {
     "name": "stdout",
     "output_type": "stream",
     "text": [
      "HTML report saved for 1042P.\n",
      "Current data file: sub-1001P_ses-01_task-TO_run-1_eeg.edf\n",
      "Participant ID: 1001P\n",
      "1001P\n",
      "Output notebook file: /project/def-emayada/q1k/experimental/derivatives/pylossless/derivatives/sync_loss/derivatives/segment/code/q1k_segment/session_reports/TO/executed_notebooks/1001P_TO_executed.ipynb\n",
      "Output HTML file: /project/def-emayada/q1k/experimental/derivatives/pylossless/derivatives/sync_loss/derivatives/segment/code/q1k_segment/session_reports/TO/1001P_TO.html\n"
     ]
    },
    {
     "data": {
      "application/vnd.jupyter.widget-view+json": {
       "model_id": "cb98834631ec4709a2eebb2ee11281d0",
       "version_major": 2,
       "version_minor": 0
      },
      "text/plain": [
       "Executing:   0%|          | 0/31 [00:00<?, ?cell/s]"
      ]
     },
     "metadata": {},
     "output_type": "display_data"
    },
    {
     "name": "stdout",
     "output_type": "stream",
     "text": [
      "HTML report saved for 1001P.\n",
      "Current data file: sub-0275P_ses-01_task-TO_run-1_eeg.edf\n",
      "Participant ID: 0275P\n",
      "0275P\n",
      "Output notebook file: /project/def-emayada/q1k/experimental/derivatives/pylossless/derivatives/sync_loss/derivatives/segment/code/q1k_segment/session_reports/TO/executed_notebooks/0275P_TO_executed.ipynb\n",
      "Output HTML file: /project/def-emayada/q1k/experimental/derivatives/pylossless/derivatives/sync_loss/derivatives/segment/code/q1k_segment/session_reports/TO/0275P_TO.html\n"
     ]
    },
    {
     "data": {
      "application/vnd.jupyter.widget-view+json": {
       "model_id": "beb3697df8b048e8b19f0f8b5e90c652",
       "version_major": 2,
       "version_minor": 0
      },
      "text/plain": [
       "Executing:   0%|          | 0/31 [00:00<?, ?cell/s]"
      ]
     },
     "metadata": {},
     "output_type": "display_data"
    },
    {
     "name": "stdout",
     "output_type": "stream",
     "text": [
      "HTML report saved for 0275P.\n",
      "Current data file: sub-1147S2_ses-01_task-TO_run-1_eeg.edf\n",
      "Participant ID: 1147S2\n",
      "1147S2\n",
      "Output notebook file: /project/def-emayada/q1k/experimental/derivatives/pylossless/derivatives/sync_loss/derivatives/segment/code/q1k_segment/session_reports/TO/executed_notebooks/1147S2_TO_executed.ipynb\n",
      "Output HTML file: /project/def-emayada/q1k/experimental/derivatives/pylossless/derivatives/sync_loss/derivatives/segment/code/q1k_segment/session_reports/TO/1147S2_TO.html\n"
     ]
    },
    {
     "data": {
      "application/vnd.jupyter.widget-view+json": {
       "model_id": "71130a4bcd5b449dbf36cf4909aa0578",
       "version_major": 2,
       "version_minor": 0
      },
      "text/plain": [
       "Executing:   0%|          | 0/31 [00:00<?, ?cell/s]"
      ]
     },
     "metadata": {},
     "output_type": "display_data"
    },
    {
     "name": "stdout",
     "output_type": "stream",
     "text": [
      "HTML report saved for 1147S2.\n",
      "Current data file: sub-0064S1_ses-01_task-TO_run-1_eeg.edf\n",
      "Participant ID: 0064S1\n",
      "0064S1\n",
      "Output notebook file: /project/def-emayada/q1k/experimental/derivatives/pylossless/derivatives/sync_loss/derivatives/segment/code/q1k_segment/session_reports/TO/executed_notebooks/0064S1_TO_executed.ipynb\n",
      "Output HTML file: /project/def-emayada/q1k/experimental/derivatives/pylossless/derivatives/sync_loss/derivatives/segment/code/q1k_segment/session_reports/TO/0064S1_TO.html\n"
     ]
    },
    {
     "data": {
      "application/vnd.jupyter.widget-view+json": {
       "model_id": "962e7a9f8ca04b7999c1b8ea84e7f12b",
       "version_major": 2,
       "version_minor": 0
      },
      "text/plain": [
       "Executing:   0%|          | 0/31 [00:00<?, ?cell/s]"
      ]
     },
     "metadata": {},
     "output_type": "display_data"
    },
    {
     "name": "stdout",
     "output_type": "stream",
     "text": [
      "HTML report saved for 0064S1.\n",
      "Current data file: sub-1101P_ses-01_task-TO_run-1_eeg.edf\n",
      "Participant ID: 1101P\n",
      "1101P\n",
      "Output notebook file: /project/def-emayada/q1k/experimental/derivatives/pylossless/derivatives/sync_loss/derivatives/segment/code/q1k_segment/session_reports/TO/executed_notebooks/1101P_TO_executed.ipynb\n",
      "Output HTML file: /project/def-emayada/q1k/experimental/derivatives/pylossless/derivatives/sync_loss/derivatives/segment/code/q1k_segment/session_reports/TO/1101P_TO.html\n"
     ]
    },
    {
     "data": {
      "application/vnd.jupyter.widget-view+json": {
       "model_id": "cd6b6e43623f402f9dd418fc030bcf75",
       "version_major": 2,
       "version_minor": 0
      },
      "text/plain": [
       "Executing:   0%|          | 0/31 [00:00<?, ?cell/s]"
      ]
     },
     "metadata": {},
     "output_type": "display_data"
    },
    {
     "name": "stdout",
     "output_type": "stream",
     "text": [
      "HTML report saved for 1101P.\n",
      "Current data file: sub-0218P_ses-01_task-TO_run-1_eeg.edf\n",
      "Participant ID: 0218P\n",
      "0218P\n",
      "Output notebook file: /project/def-emayada/q1k/experimental/derivatives/pylossless/derivatives/sync_loss/derivatives/segment/code/q1k_segment/session_reports/TO/executed_notebooks/0218P_TO_executed.ipynb\n",
      "Output HTML file: /project/def-emayada/q1k/experimental/derivatives/pylossless/derivatives/sync_loss/derivatives/segment/code/q1k_segment/session_reports/TO/0218P_TO.html\n"
     ]
    },
    {
     "data": {
      "application/vnd.jupyter.widget-view+json": {
       "model_id": "924e321da4bb4a3d9812cdb7bfc682a0",
       "version_major": 2,
       "version_minor": 0
      },
      "text/plain": [
       "Executing:   0%|          | 0/31 [00:00<?, ?cell/s]"
      ]
     },
     "metadata": {},
     "output_type": "display_data"
    },
    {
     "name": "stdout",
     "output_type": "stream",
     "text": [
      "HTML report saved for 0218P.\n",
      "Current data file: sub-1006M1_ses-01_task-TO_run-1_eeg.edf\n",
      "Participant ID: 1006M1\n",
      "1006M1\n",
      "Output notebook file: /project/def-emayada/q1k/experimental/derivatives/pylossless/derivatives/sync_loss/derivatives/segment/code/q1k_segment/session_reports/TO/executed_notebooks/1006M1_TO_executed.ipynb\n",
      "Output HTML file: /project/def-emayada/q1k/experimental/derivatives/pylossless/derivatives/sync_loss/derivatives/segment/code/q1k_segment/session_reports/TO/1006M1_TO.html\n"
     ]
    },
    {
     "data": {
      "application/vnd.jupyter.widget-view+json": {
       "model_id": "64f24ce3f016409aa9620970c3827c8c",
       "version_major": 2,
       "version_minor": 0
      },
      "text/plain": [
       "Executing:   0%|          | 0/31 [00:00<?, ?cell/s]"
      ]
     },
     "metadata": {},
     "output_type": "display_data"
    },
    {
     "name": "stdout",
     "output_type": "stream",
     "text": [
      "HTML report saved for 1006M1.\n",
      "Current data file: sub-1009P_ses-01_task-TO_run-1_eeg.edf\n",
      "Participant ID: 1009P\n",
      "1009P\n",
      "Output notebook file: /project/def-emayada/q1k/experimental/derivatives/pylossless/derivatives/sync_loss/derivatives/segment/code/q1k_segment/session_reports/TO/executed_notebooks/1009P_TO_executed.ipynb\n",
      "Output HTML file: /project/def-emayada/q1k/experimental/derivatives/pylossless/derivatives/sync_loss/derivatives/segment/code/q1k_segment/session_reports/TO/1009P_TO.html\n"
     ]
    },
    {
     "data": {
      "application/vnd.jupyter.widget-view+json": {
       "model_id": "1984845991c4411db0e7f6e29dc15a02",
       "version_major": 2,
       "version_minor": 0
      },
      "text/plain": [
       "Executing:   0%|          | 0/31 [00:00<?, ?cell/s]"
      ]
     },
     "metadata": {},
     "output_type": "display_data"
    },
    {
     "name": "stdout",
     "output_type": "stream",
     "text": [
      "HTML report saved for 1009P.\n",
      "Current data file: sub-0200S1_ses-01_task-TO_run-1_eeg.edf\n",
      "Participant ID: 0200S1\n",
      "0200S1\n",
      "Output notebook file: /project/def-emayada/q1k/experimental/derivatives/pylossless/derivatives/sync_loss/derivatives/segment/code/q1k_segment/session_reports/TO/executed_notebooks/0200S1_TO_executed.ipynb\n",
      "Output HTML file: /project/def-emayada/q1k/experimental/derivatives/pylossless/derivatives/sync_loss/derivatives/segment/code/q1k_segment/session_reports/TO/0200S1_TO.html\n"
     ]
    },
    {
     "data": {
      "application/vnd.jupyter.widget-view+json": {
       "model_id": "4af557d6ea604a6499733d80acc17a06",
       "version_major": 2,
       "version_minor": 0
      },
      "text/plain": [
       "Executing:   0%|          | 0/31 [00:00<?, ?cell/s]"
      ]
     },
     "metadata": {},
     "output_type": "display_data"
    },
    {
     "name": "stdout",
     "output_type": "stream",
     "text": [
      "HTML report saved for 0200S1.\n",
      "Current data file: sub-1134M1_ses-01_task-TO_run-1_eeg.edf\n",
      "Participant ID: 1134M1\n",
      "1134M1\n",
      "Output notebook file: /project/def-emayada/q1k/experimental/derivatives/pylossless/derivatives/sync_loss/derivatives/segment/code/q1k_segment/session_reports/TO/executed_notebooks/1134M1_TO_executed.ipynb\n",
      "Output HTML file: /project/def-emayada/q1k/experimental/derivatives/pylossless/derivatives/sync_loss/derivatives/segment/code/q1k_segment/session_reports/TO/1134M1_TO.html\n"
     ]
    },
    {
     "data": {
      "application/vnd.jupyter.widget-view+json": {
       "model_id": "0f6fae01d4064ab6982336d5d21c1e9f",
       "version_major": 2,
       "version_minor": 0
      },
      "text/plain": [
       "Executing:   0%|          | 0/31 [00:00<?, ?cell/s]"
      ]
     },
     "metadata": {},
     "output_type": "display_data"
    },
    {
     "name": "stdout",
     "output_type": "stream",
     "text": [
      "HTML report saved for 1134M1.\n",
      "Current data file: sub-1073P_ses-01_task-TO_run-1_eeg.edf\n",
      "Participant ID: 1073P\n",
      "1073P\n",
      "Output notebook file: /project/def-emayada/q1k/experimental/derivatives/pylossless/derivatives/sync_loss/derivatives/segment/code/q1k_segment/session_reports/TO/executed_notebooks/1073P_TO_executed.ipynb\n",
      "Output HTML file: /project/def-emayada/q1k/experimental/derivatives/pylossless/derivatives/sync_loss/derivatives/segment/code/q1k_segment/session_reports/TO/1073P_TO.html\n"
     ]
    },
    {
     "data": {
      "application/vnd.jupyter.widget-view+json": {
       "model_id": "5df0d9440e2446efb4bea1ea87cc5e4e",
       "version_major": 2,
       "version_minor": 0
      },
      "text/plain": [
       "Executing:   0%|          | 0/31 [00:00<?, ?cell/s]"
      ]
     },
     "metadata": {},
     "output_type": "display_data"
    },
    {
     "name": "stdout",
     "output_type": "stream",
     "text": [
      "HTML report saved for 1073P.\n",
      "Current data file: sub-1143F1_ses-01_task-TO_run-1_eeg.edf\n",
      "Participant ID: 1143F1\n",
      "1143F1\n",
      "Output notebook file: /project/def-emayada/q1k/experimental/derivatives/pylossless/derivatives/sync_loss/derivatives/segment/code/q1k_segment/session_reports/TO/executed_notebooks/1143F1_TO_executed.ipynb\n",
      "Output HTML file: /project/def-emayada/q1k/experimental/derivatives/pylossless/derivatives/sync_loss/derivatives/segment/code/q1k_segment/session_reports/TO/1143F1_TO.html\n"
     ]
    },
    {
     "data": {
      "application/vnd.jupyter.widget-view+json": {
       "model_id": "68899198ecbd44b794d495bf03fa2cff",
       "version_major": 2,
       "version_minor": 0
      },
      "text/plain": [
       "Executing:   0%|          | 0/31 [00:00<?, ?cell/s]"
      ]
     },
     "metadata": {},
     "output_type": "display_data"
    },
    {
     "name": "stdout",
     "output_type": "stream",
     "text": [
      "HTML report saved for 1143F1.\n",
      "Current data file: sub-0154P_ses-01_task-TO_run-1_eeg.edf\n",
      "Participant ID: 0154P\n",
      "0154P\n",
      "Output notebook file: /project/def-emayada/q1k/experimental/derivatives/pylossless/derivatives/sync_loss/derivatives/segment/code/q1k_segment/session_reports/TO/executed_notebooks/0154P_TO_executed.ipynb\n",
      "Output HTML file: /project/def-emayada/q1k/experimental/derivatives/pylossless/derivatives/sync_loss/derivatives/segment/code/q1k_segment/session_reports/TO/0154P_TO.html\n"
     ]
    },
    {
     "data": {
      "application/vnd.jupyter.widget-view+json": {
       "model_id": "5bfd30de29a5417b85766e4dbb5d0f03",
       "version_major": 2,
       "version_minor": 0
      },
      "text/plain": [
       "Executing:   0%|          | 0/31 [00:00<?, ?cell/s]"
      ]
     },
     "metadata": {},
     "output_type": "display_data"
    },
    {
     "name": "stdout",
     "output_type": "stream",
     "text": [
      "HTML report saved for 0154P.\n",
      "These subjects have errors: ['0171P', '0196M1'] and need to be reprocessed\n"
     ]
    }
   ],
   "source": [
    "# Directory to save HTML reports\n",
    "#html_reports_dir = './../../session_reports/' + task_id_in + '/'\n",
    "\n",
    "\n",
    "# Create a list for participants with errors\n",
    "error_subjects = []\n",
    "\n",
    "#for file in glob.glob(\"./../../sourcedata/eeg/Q1K*/Q1K\" + \"*AEP\" + '*.mff'):\n",
    "#for file in glob.glob(project_path + sourcedata_path + \"eeg/Q1K*/Q1K*\" + task_id_in + '*.mff'):\n",
    "for file in in_file_paths:\n",
    "    \n",
    "    file_name = os.path.basename(file)\n",
    "    print('Current data file: ' + file_name)\n",
    "    ## Select anything after the Q1K and before the AEP\n",
    "    ##subject_id = file.split('_')[2]\n",
    "    ##site_part = file.split(\"HSJ_\")\n",
    "    subject_id = file_name.split(\"_\")[0].split(\"-\")[1]\n",
    "    print('Participant ID: ' + subject_id)\n",
    "\n",
    "    #subject_relation = site_part[1].split(\"_\")[1].split(\"/\")[0]\n",
    "    #print('Participant relation: ' + subject_relation)\n",
    "\n",
    "    #subject_id_in = subject_number + \"_\" + subject_relation\n",
    "    #print('Participant ID input: ' + subject_id_in)\n",
    "    #subject_id_out = subject_number.replace('_','').replace('-','') + subject_relation\n",
    "    #print('Participant ID output: ' + subject_id_out)\n",
    "    \n",
    "    # Skip sessions that have already been processed\n",
    "    print(subject_id)\n",
    "    #if subject_id in out_seg_file_paths:\n",
    "    if subject_id in processed_sessions:\n",
    "        print(subject_id + ' has already been processed')\n",
    "        continue    \n",
    "\n",
    "    # Define paths\n",
    "    input_notebook = project_path + pyll_path + sync_loss_path + segment_path + code_path + 'session_seg_' + task_id + '.ipynb'\n",
    "\n",
    "    ##output_notebook = f'./../../session_reports/{task_id_in}/executed_notebooks/{subject_id}_{task_id_in}_executed.ipynb'\n",
    "    ##output_html = f'./../../session_reports/{task_id_in}/{subject_id}_{session_id}_{task_id_in}.html'\n",
    "    ##output_html = f'{html_reports_dir}/{subject_id}.html'\n",
    "    output_notebook = f'{project_path}{pyll_path}{sync_loss_path}{segment_path}{code_path}{html_reports_path}{task_id}/executed_notebooks/{subject_id}_{task_id}_executed.ipynb'\n",
    "    print('Output notebook file: ' + output_notebook)\n",
    "    output_html = f'{project_path}{pyll_path}{sync_loss_path}{segment_path}{code_path}{html_reports_path}{task_id}/{subject_id}_{task_id}.html'\n",
    "    print('Output HTML file: ' + output_html)\n",
    "\n",
    "    try:\n",
    "        # Execute the notebook\n",
    "        pm.execute_notebook(input_notebook, output_notebook, kernel_name = 'q1k_env', parameters=dict(subject_id=subject_id, task_id=task_id,\n",
    "        session_id=session_id, run_id=run_id))\n",
    "\n",
    "        # Convert executed notebook to HTML\n",
    "        html_exporter = HTMLExporter()\n",
    "        html_exporter.exclude_input = True\n",
    "\n",
    "        (body, resources) = html_exporter.from_filename(output_notebook)\n",
    "\n",
    "        # Save HTML output\n",
    "        with open(output_html, 'w', encoding='utf-8') as f:\n",
    "            f.write(body)\n",
    "\n",
    "        print(f\"HTML report saved for {subject_id}.\")\n",
    "    \n",
    "\n",
    "    except Exception as e:\n",
    "        # Handle the error \n",
    "        error_subjects.append(subject_id)\n",
    "        print(f\"Error while processing {subject_id}: {e}\")\n",
    "\n",
    "        # Print out the list of subjects with errors\n",
    "print( \"These subjects have errors: \" + str(error_subjects) + \" and need to be reprocessed\")"
   ]
  },
  {
   "cell_type": "code",
   "execution_count": null,
   "metadata": {},
   "outputs": [],
   "source": []
  }
 ],
 "metadata": {
  "kernelspec": {
   "display_name": "Python (Q1K-REST)",
   "language": "python",
   "name": "q1k_env"
  },
  "language_info": {
   "codemirror_mode": {
    "name": "ipython",
    "version": 3
   },
   "file_extension": ".py",
   "mimetype": "text/x-python",
   "name": "python",
   "nbconvert_exporter": "python",
   "pygments_lexer": "ipython3",
   "version": "3.11.5"
  }
 },
 "nbformat": 4,
 "nbformat_minor": 4
}

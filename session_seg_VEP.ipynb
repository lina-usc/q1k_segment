{
 "cells": [
  {
   "cell_type": "markdown",
   "id": "793c3da2-34a6-4fce-a4d7-a6bcbe92219f",
   "metadata": {},
   "source": [
    "# Single Subject Segmentation Q1K"
   ]
  },
  {
   "cell_type": "code",
   "execution_count": null,
   "id": "1112aca4-41d1-4c95-b9c6-29f605655ef8",
   "metadata": {
    "tags": [
     "parameters"
    ]
   },
   "outputs": [],
   "source": [
    "##use these commented parameters for testing this notebook outside of the automated loop of q1k_automated_reports.ipynb\n",
    "#subject_id = \"100105M1\"\n",
    "#task_id = \"VEP\"\n",
    "#session_id = \"01\"\n",
    "#run_id = \"1\"\n",
    "\n",
    "#use these parameters when executing this notebook from the automation notebook..\n",
    "subject_id = \"\"\n",
    "task_id = \"\"\n",
    "session_id = \"\"\n",
    "run_id = \"\"\n"
   ]
  },
  {
   "cell_type": "code",
   "execution_count": null,
   "id": "9450f6bf-4cb0-4e7e-bd64-f9dd953de143",
   "metadata": {},
   "outputs": [],
   "source": [
    "# import packages\n",
    "import mne\n",
    "import mne_bids\n",
    "import numpy as np\n",
    "import pandas as pd\n",
    "\n",
    "import matplotlib.pyplot as plt\n",
    "\n",
    "from pathlib import Path\n",
    "import shutil\n",
    "import pylossless as ll\n",
    "from autoreject import AutoReject\n",
    "\n",
    "import warnings\n",
    "warnings.filterwarnings('ignore')\n"
   ]
  },
  {
   "cell_type": "markdown",
   "id": "d5961caa",
   "metadata": {},
   "source": [
    "# Set the parameters and read the pylossless data."
   ]
  },
  {
   "cell_type": "code",
   "execution_count": null,
   "id": "14258a9e",
   "metadata": {},
   "outputs": [],
   "source": [
    "project_path = \"/project/def-emayada/q1k/experimental/\"\n",
    "pylossless_path = \"derivatives/pylossless/\"\n",
    "sync_loss_path = \"derivatives/sync_loss/\"\n",
    "segment_path = \"derivatives/segment/\"\n",
    "\n",
    "bids_path = mne_bids.BIDSPath(\n",
    "    subject=subject_id, session=session_id, task=task_id, run=\"1\", datatype=\"eeg\", suffix=\"eeg\",root=project_path + pylossless_path + sync_loss_path\n",
    ")\n",
    "print(bids_path)"
   ]
  },
  {
   "cell_type": "code",
   "execution_count": null,
   "id": "5cb698e8",
   "metadata": {},
   "outputs": [],
   "source": [
    "# Read the BIDS pylossless output file..\n",
    "eeg_raw = mne_bids.read_raw_bids(bids_path=bids_path, verbose=False)"
   ]
  },
  {
   "cell_type": "code",
   "execution_count": null,
   "id": "322b9043-207a-4101-a596-fabddcc02de8",
   "metadata": {},
   "outputs": [],
   "source": [
    "#show channel types...\n",
    "channel_types = eeg_raw.get_channel_types()\n",
    "print(\"Channel Types:\", channel_types)\n",
    "print(\"Channel Names:\", eeg_raw.info['ch_names'])"
   ]
  },
  {
   "cell_type": "code",
   "execution_count": null,
   "id": "5f4cda91-dc53-4713-8b29-eaeaf5f538aa",
   "metadata": {},
   "outputs": [],
   "source": [
    "# Define a few channel groups of interest and plot the data\n",
    "frontal = [\"E19\", \"E11\", \"E4\", \"E12\", \"E5\"]\n",
    "occipital = [\"E61\", \"E62\", \"E78\", \"E67\", \"E72\", \"E77\"]\n",
    "din = [\"DIN\"]\n",
    "pupil = [\"pupil_left\"]\n",
    "x_pos = [\"xpos_left\"]\n",
    "y_pos = [\"ypos_left\"]\n",
    "\n",
    "scale_dict = dict(eeg=1e-4, eyegaze=30, pupil=30)\n",
    "\n",
    "# picks must be numeric (not string) when passed to `raw.plot(..., order=)`\n",
    "picks_idx = mne.pick_channels(eeg_raw.ch_names, din + frontal + occipital + pupil + x_pos + y_pos, ordered=True)\n",
    "eeg_raw.plot(start=0,duration=30,order=picks_idx, scalings=scale_dict)"
   ]
  },
  {
   "cell_type": "markdown",
   "id": "ffa549e1",
   "metadata": {},
   "source": [
    "# Segment the data to 'sv06' and 'sv15'"
   ]
  },
  {
   "cell_type": "code",
   "execution_count": null,
   "id": "324bdd13",
   "metadata": {},
   "outputs": [],
   "source": [
    "# Get the events form the annotations\n",
    "eeg_events, eeg_event_dict  = mne.events_from_annotations(eeg_raw)\n",
    "\n",
    "# Relabel condition vars for niceness\n",
    "eeg_event_dict['sv/visual/disp/sv06'] = eeg_event_dict.pop('sv06')\n",
    "eeg_event_dict['sv/visual/disp/sv15'] = eeg_event_dict.pop('sv15')\n",
    "eeg_event_dict['sv/visual/disp/sv06_d'] = eeg_event_dict.pop('sv06_d')\n",
    "eeg_event_dict['sv/visual/disp/sv15_d'] = eeg_event_dict.pop('sv15_d')"
   ]
  },
  {
   "cell_type": "code",
   "execution_count": null,
   "id": "0394ac69-f474-4e9d-b529-2071fed377ed",
   "metadata": {},
   "outputs": [],
   "source": []
  },
  {
   "cell_type": "code",
   "execution_count": null,
   "id": "d0fcd9cc-4762-4b2f-a709-6c38115d2318",
   "metadata": {},
   "outputs": [],
   "source": [
    "#reject_criteria = {'eeg': 400e-6}"
   ]
  },
  {
   "cell_type": "code",
   "execution_count": null,
   "id": "3fc2575e",
   "metadata": {},
   "outputs": [],
   "source": [
    "# Epoch structure is created for ALL events, then you 'segment' by indexing into it\n",
    "epochs = mne.Epochs(eeg_raw, eeg_events, event_id=eeg_event_dict, tmin=-1, tmax=2.0, on_missing='warn', event_repeated='drop')\n",
    "epochs = epochs[['sv06_d', 'sv15_d']]\n",
    "display(epochs)\n",
    "\n",
    "#save the cleaned epochs...\n",
    "epochs.save(project_path + pylossless_path + sync_loss_path + segment_path + 'epoch_fif_files/VEP/' + bids_path.basename + '_epo.fif', overwrite=True)"
   ]
  },
  {
   "cell_type": "code",
   "execution_count": null,
   "id": "09f9df01-7ca0-45c0-8737-b64c2780104d",
   "metadata": {},
   "outputs": [],
   "source": [
    "# peak... at the EEG channel types\n",
    "channel_types = epochs.get_channel_types()\n",
    "print(\"EEG Channel Types:\", channel_types)\n",
    "print(\"EEG Channel Names:\", epochs.info['ch_names'])"
   ]
  },
  {
   "cell_type": "code",
   "execution_count": null,
   "id": "93f39d71",
   "metadata": {},
   "outputs": [],
   "source": [
    "evokeds = {'sv06_d': epochs['sv06_d'].average(picks=['eeg','misc']), 'sv15_d': epochs['sv15_d'].average(picks=['eeg','misc'])}\n",
    "mne.write_evokeds(project_path + pylossless_path + sync_loss_path + segment_path + 'erp_fif_files/VEP/' + bids_path.basename + '_erp.fif',list(evokeds.values()), overwrite=True)"
   ]
  },
  {
   "cell_type": "markdown",
   "id": "5122057f",
   "metadata": {},
   "source": [
    "# Plot ERP envelopes and topographies"
   ]
  },
  {
   "cell_type": "code",
   "execution_count": null,
   "id": "6d05fc62",
   "metadata": {},
   "outputs": [],
   "source": [
    "evokeds['sv06_d'].plot_joint(picks=['eeg'], title='6Hz ERP')"
   ]
  },
  {
   "cell_type": "code",
   "execution_count": null,
   "id": "14ed786f",
   "metadata": {},
   "outputs": [],
   "source": [
    "evokeds['sv15_d'].plot_joint(picks=['eeg'],title='15Hz ERP')"
   ]
  },
  {
   "cell_type": "markdown",
   "id": "ff3b3dab",
   "metadata": {},
   "source": [
    "# Plot the ERP overlay"
   ]
  },
  {
   "cell_type": "code",
   "execution_count": null,
   "id": "98e36a79",
   "metadata": {},
   "outputs": [],
   "source": [
    "# Plot ERP overlay\n",
    "mne.viz.plot_compare_evokeds(evokeds, picks=['E70'], combine='mean')"
   ]
  },
  {
   "cell_type": "code",
   "execution_count": null,
   "id": "4eda9db6-440c-4216-9151-5a2bf7aaaba3",
   "metadata": {},
   "outputs": [],
   "source": [
    "# Plot ERP overlay\n",
    "mne.viz.plot_compare_evokeds(evokeds, picks=['pupil_left'], combine='mean')"
   ]
  },
  {
   "cell_type": "code",
   "execution_count": null,
   "id": "2c45b6d0",
   "metadata": {},
   "outputs": [],
   "source": [
    "ch_name = 'E70'\n",
    "\n",
    "decim = 2\n",
    "freqs = np.arange(3, 50, 2)  # define frequencies of interest\n",
    "n_cycles = freqs / 2"
   ]
  },
  {
   "cell_type": "code",
   "execution_count": null,
   "id": "b708d0e4",
   "metadata": {},
   "outputs": [],
   "source": [
    "decim = 2\n",
    "freqs = np.arange(2, 50, 2)  # define frequencies of interest\n",
    "n_cycles = freqs / 2\n",
    "\n",
    "pow_1, itc_1 = mne.time_frequency.tfr_morlet(\n",
    "    epochs['sv06_d'],\n",
    "    freqs,\n",
    "    picks=ch_name,\n",
    "    n_cycles=n_cycles,\n",
    "    decim=decim,\n",
    "    return_itc=True,\n",
    "    average=True,\n",
    ")\n",
    "\n",
    "pow_2, itc_2 = mne.time_frequency.tfr_morlet(\n",
    "    epochs['sv15_d'],\n",
    "    freqs,\n",
    "    picks=ch_name,\n",
    "    n_cycles=n_cycles,\n",
    "    decim=decim,\n",
    "    return_itc=True,\n",
    "    average=True,\n",
    ")\n",
    "\n",
    "itc_dat_1 = itc_1.data[0, :, :]  # only 1 channel as 3D matrix\n",
    "pow_dat_1 = pow_1.data[0, :, :]  # only 1 channel as 3D matrix\n",
    "\n",
    "itc_dat_2 = itc_2.data[0, :, :]  # only 1 channel as 3D matrix\n",
    "pow_dat_2 = pow_2.data[0, :, :]  # only 1 channel as 3D matrix"
   ]
  },
  {
   "cell_type": "code",
   "execution_count": null,
   "id": "004608c3",
   "metadata": {},
   "outputs": [],
   "source": [
    "times = 1e3 * epochs['sv06_d'].times  # change unit to ms\n",
    "\n",
    "fig1, (ax1t, ax1b) = plt.subplots(2, 1, figsize=(6, 4))\n",
    "fig1.subplots_adjust(0.12, 0.08, 0.96, 0.94, 0.2, 0.43)\n",
    "\n",
    "ax1t.imshow(\n",
    "    pow_dat_1,\n",
    "    extent=[times[0], times[-1], freqs[0], freqs[-1]],\n",
    "    aspect=\"auto\",\n",
    "    origin=\"lower\",\n",
    "    cmap=\"RdBu_r\",\n",
    ")\n",
    "\n",
    "ax1b.imshow(\n",
    "    itc_dat_1,\n",
    "    extent=[times[0], times[-1], freqs[0], freqs[-1]],\n",
    "    aspect=\"auto\",\n",
    "    origin=\"lower\",\n",
    "    cmap=\"RdBu_r\",\n",
    ")\n",
    "\n",
    "ax1t.set_ylabel(\"Frequency (Hz)\")\n",
    "ax1t.set_title(f\"6Hz Induced power ({ch_name})\")\n",
    "ax1b.set_title(f\"6Hz Inter Trial Coherence ({ch_name})\")\n",
    "ax1b.set_xlabel(\"Time (ms)\")\n",
    "\n",
    "plt.show()"
   ]
  },
  {
   "cell_type": "code",
   "execution_count": null,
   "id": "9e706eef",
   "metadata": {},
   "outputs": [],
   "source": [
    "fig2, (ax2t, ax2b) = plt.subplots(2, 1, figsize=(6, 4))\n",
    "fig2.subplots_adjust(0.12, 0.08, 0.96, 0.94, 0.2, 0.43)\n",
    "\n",
    "ax2t.imshow(\n",
    "    pow_dat_2,\n",
    "    extent=[times[0], times[-1], freqs[0], freqs[-1]],\n",
    "    aspect=\"auto\",\n",
    "    origin=\"lower\",\n",
    "    cmap=\"RdBu_r\",\n",
    ")\n",
    "\n",
    "ax2b.imshow(\n",
    "    itc_dat_2,\n",
    "    extent=[times[0], times[-1], freqs[0], freqs[-1]],\n",
    "    aspect=\"auto\",\n",
    "    origin=\"lower\",\n",
    "    cmap=\"RdBu_r\",\n",
    ")\n",
    "\n",
    "ax2t.set_ylabel(\"Frequency (Hz)\")\n",
    "ax2t.set_title(f\"15Hz Induced power ({ch_name})\")\n",
    "ax2b.set_title(f\"15Hz Inter Trial Coherence ({ch_name})\")\n",
    "ax2b.set_xlabel(\"Time (ms)\")\n",
    "\n",
    "plt.show()"
   ]
  },
  {
   "cell_type": "code",
   "execution_count": null,
   "id": "5831546d",
   "metadata": {},
   "outputs": [],
   "source": [
    "fig3, (ax3t, ax3b) = plt.subplots(2, 1, figsize=(6, 4))\n",
    "fig3.subplots_adjust(0.12, 0.08, 0.96, 0.94, 0.2, 0.43)\n",
    "\n",
    "ax3t.imshow(\n",
    "    pow_dat_2 - pow_dat_1,\n",
    "    extent=[times[0], times[-1], freqs[0], freqs[-1]],\n",
    "    aspect=\"auto\",\n",
    "    origin=\"lower\",\n",
    "    cmap=\"RdBu_r\",\n",
    ")\n",
    "\n",
    "ax3b.imshow(\n",
    "    itc_dat_2 - itc_dat_1,\n",
    "    extent=[times[0], times[-1], freqs[0], freqs[-1]],\n",
    "    aspect=\"auto\",\n",
    "    origin=\"lower\",\n",
    "    cmap=\"RdBu_r\",\n",
    ")\n",
    "\n",
    "ax3t.set_ylabel(\"Frequency (Hz)\")\n",
    "ax3t.set_title(f\"15Hz - 6Hz Induced power ({ch_name})\")\n",
    "ax3b.set_title(f\"15Hz - 6Hz Inter Trial Coherence ({ch_name})\")\n",
    "ax3b.set_xlabel(\"Time (ms)\")\n",
    "\n",
    "plt.show()"
   ]
  },
  {
   "cell_type": "code",
   "execution_count": null,
   "id": "4b2d55ba",
   "metadata": {},
   "outputs": [],
   "source": [
    "#!jupyter nbconvert --output {\"session_reports/\" + bids_path.basename + \".html\"} --TagRemovePreprocessor.remove_all_outputs_tags='{\"exclude\"}' --no-input --to html session_seg_vp.ipynb"
   ]
  },
  {
   "cell_type": "code",
   "execution_count": null,
   "id": "c3158e95",
   "metadata": {},
   "outputs": [],
   "source": []
  }
 ],
 "metadata": {
  "kernelspec": {
   "display_name": "q1k_env",
   "language": "python",
   "name": "q1k_env"
  },
  "language_info": {
   "codemirror_mode": {
    "name": "ipython",
    "version": 3
   },
   "file_extension": ".py",
   "mimetype": "text/x-python",
   "name": "python",
   "nbconvert_exporter": "python",
   "pygments_lexer": "ipython3",
   "version": "3.11.5"
  }
 },
 "nbformat": 4,
 "nbformat_minor": 5
}

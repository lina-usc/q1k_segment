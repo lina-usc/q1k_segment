{
 "cells": [
  {
   "cell_type": "markdown",
   "id": "793c3da2-34a6-4fce-a4d7-a6bcbe92219f",
   "metadata": {},
   "source": [
    "# Single Subject Segmentation Q1K - Resting state"
   ]
  },
  {
   "cell_type": "code",
   "execution_count": null,
   "id": "1112aca4-41d1-4c95-b9c6-29f605655ef8",
   "metadata": {
    "tags": [
     "parameters"
    ]
   },
   "outputs": [],
   "source": [
    "# #use these commented parameters for testing this notebook outside of the automated loop of q1k_automated_reports.ipynb\n",
    "# subject_id = \"0042P\"\n",
    "# task_id = \"RS\"\n",
    "# session_id = \"01\"\n",
    "# run_id = \"1\"\n",
    "\n",
    "#use these parameters when executing this notebook from the automation notebook..\n",
    "subject_id = \"\"\n",
    "task_id = \"\"\n",
    "session_id = \"\"\n",
    "run_id = \"\"\n"
   ]
  },
  {
   "cell_type": "code",
   "execution_count": null,
   "id": "9450f6bf-4cb0-4e7e-bd64-f9dd953de143",
   "metadata": {},
   "outputs": [],
   "source": [
    "# import packages\n",
    "import mne\n",
    "import mne_bids\n",
    "import numpy as np\n",
    "import pandas as pd\n",
    "from collections import OrderedDict\n",
    "import matplotlib.pyplot as plt\n",
    "import seaborn as sns\n",
    "\n",
    "from pathlib import Path\n",
    "import shutil\n",
    "import pylossless as ll\n",
    "\n",
    "import warnings\n",
    "warnings.filterwarnings('ignore')\n"
   ]
  },
  {
   "cell_type": "code",
   "execution_count": null,
   "id": "7c5c4f21-4192-4a4a-92c6-47b13cbb7d4f",
   "metadata": {},
   "outputs": [],
   "source": [
    "common_freqs = {\n",
    "    'delta' : (0,4),\n",
    "    'theta': (4, 7),\n",
    "    'alpha': (8, 12),\n",
    "    'beta':(13, 30),\n",
    "    'gamma': (30, 45)\n",
    "}\n",
    "\n",
    "frontal_roi = ['E18','E19','E23','E24','E27','E3','E4','E10','E118','E123','E124']"
   ]
  },
  {
   "cell_type": "markdown",
   "id": "d5961caa",
   "metadata": {},
   "source": [
    "# Set the parameters and read the pylossless data."
   ]
  },
  {
   "cell_type": "code",
   "execution_count": null,
   "id": "14258a9e",
   "metadata": {},
   "outputs": [],
   "source": [
    "project_path = \"/project/def-emayada/q1k/experimental/\"\n",
    "pylossless_path = \"derivatives/pylossless/\"\n",
    "sync_loss_path = \"derivatives/sync_loss/\"\n",
    "segment_path = \"derivatives/segment/\"\n",
    "\n",
    "bids_path = mne_bids.BIDSPath(\n",
    "    subject=subject_id, session=session_id, task=task_id, run=\"1\", datatype=\"eeg\", suffix=\"eeg\",root=project_path + pylossless_path + sync_loss_path\n",
    ")\n",
    "print(bids_path)"
   ]
  },
  {
   "cell_type": "code",
   "execution_count": null,
   "id": "5cb698e8",
   "metadata": {},
   "outputs": [],
   "source": [
    "# Read the BIDS pylossless output file..\n",
    "eeg_raw = mne_bids.read_raw_bids(bids_path=bids_path, verbose=False)"
   ]
  },
  {
   "cell_type": "code",
   "execution_count": null,
   "id": "0fd82d7e-ecea-4378-8791-b22c62989cf2",
   "metadata": {},
   "outputs": [],
   "source": [
    "eeg_raw.info"
   ]
  },
  {
   "cell_type": "code",
   "execution_count": null,
   "id": "7712556c-8f39-4c2b-99aa-ee8cab19cff1",
   "metadata": {},
   "outputs": [],
   "source": [
    "eeg_events, eeg_event_dict  = mne.events_from_annotations(eeg_raw)\n",
    "eeg_event_dict"
   ]
  },
  {
   "cell_type": "code",
   "execution_count": null,
   "id": "94347a34-a7af-4061-abf7-bfb5d385c4ac",
   "metadata": {},
   "outputs": [],
   "source": [
    "eeg_raw.annotations.description"
   ]
  },
  {
   "cell_type": "markdown",
   "id": "fbdfa674-0a08-4c76-ba89-37b97fd9ba96",
   "metadata": {},
   "source": [
    "## Plot events"
   ]
  },
  {
   "cell_type": "code",
   "execution_count": null,
   "id": "28dbd209-6a81-4447-ab9a-b7e063ce0998",
   "metadata": {},
   "outputs": [],
   "source": [
    "fig=mne.viz.plot_events(\n",
    "    eeg_events, sfreq=eeg_raw.info[\"sfreq\"], first_samp=eeg_raw.first_samp, \n",
    "    event_id=eeg_event_dict\n",
    ")"
   ]
  },
  {
   "cell_type": "markdown",
   "id": "68923082-814c-4aa6-a809-e72b89501c6d",
   "metadata": {},
   "source": [
    "### Define all rest events"
   ]
  },
  {
   "cell_type": "code",
   "execution_count": null,
   "id": "c37631bc-ac85-4ca7-b245-352cce8ea499",
   "metadata": {},
   "outputs": [],
   "source": [
    "annot_sample = []\n",
    "annot_id = []\n",
    "freq = eeg_raw.info[\"sfreq\"]\n",
    "\n",
    "# Select all annotations \n",
    "annots = [a for a in eeg_raw.annotations if a[\"description\"] in [\"dbrk\", \"vs01\", \"vs02\",\"vs03\",\"vs04\", \"vs05\",\"vs06\"]]\n",
    "\n",
    "# Add an end annotation - there are 60 seconds after the last annotation\n",
    "annots.append(OrderedDict(((\"onset\", annots[-1][\"onset\"] + 60.), (\"duration\", 0),\n",
    "                               (\"description\", \"end\"), ('orig_time', None))))\n",
    "\n",
    "# Create new annotations for epochs\n",
    "for annot, next_annot in zip(annots[:-1], annots[1:]):\n",
    "    if annot[\"description\"] == \"dbrk\" or annot[\"description\"]==\"end\":\n",
    "        continue\n",
    "\n",
    "    annot_sample.append(np.arange(int(annot[\"onset\"] * freq),\n",
    "                                    int(next_annot[\"onset\"] * freq),\n",
    "                                    int(1 * freq)))\n",
    "    id_ = eeg_event_dict[annot[\"description\"]]\n",
    "    annot_id.extend(id_ * np.ones(len(annot_sample[-1])))\n",
    "\n",
    "annot_sample = np.concatenate(annot_sample)\n",
    "\n",
    "rs_eeg_events=np.array([annot_sample, [0] * len(annot_sample), annot_id], dtype=int).T\n",
    "rs_eeg_events = mne.merge_events(rs_eeg_events, np.unique(rs_eeg_events[:, -1]), 1)\n"
   ]
  },
  {
   "cell_type": "code",
   "execution_count": null,
   "id": "51c65179-7c02-45c1-b9fb-b40b61b40f7c",
   "metadata": {},
   "outputs": [],
   "source": [
    "# Check events after creation of event structure\n",
    "fig=mne.viz.plot_events(\n",
    "    rs_eeg_events, sfreq=eeg_raw.info[\"sfreq\"], first_samp=eeg_raw.first_samp,\n",
    ")"
   ]
  },
  {
   "cell_type": "code",
   "execution_count": null,
   "id": "e300a189-8cdf-41a0-822a-4ec0153a63cb",
   "metadata": {},
   "outputs": [],
   "source": [
    "channel_types = eeg_raw.get_channel_types()\n",
    "print(\"Channel Types:\", channel_types)\n",
    "print(\"Channel Names:\", eeg_raw.info['ch_names'])"
   ]
  },
  {
   "cell_type": "markdown",
   "id": "e0f4200a",
   "metadata": {},
   "source": [
    "# Interpret the annotations and apply the data selections."
   ]
  },
  {
   "cell_type": "code",
   "execution_count": null,
   "id": "2297b5cc-a589-4d12-a8bc-d3fa63d629ab",
   "metadata": {},
   "outputs": [],
   "source": [
    "#show channel types...\n",
    "channel_types = eeg_raw.get_channel_types()\n",
    "print(\"Channel Types:\", channel_types)\n",
    "print(\"Channel Names:\", eeg_raw.info['ch_names'])"
   ]
  },
  {
   "cell_type": "code",
   "execution_count": null,
   "id": "566de4d7-5851-4cf8-8d1b-edae07d906d3",
   "metadata": {},
   "outputs": [],
   "source": [
    "rs_event_id= {\"rest\":1}"
   ]
  },
  {
   "cell_type": "markdown",
   "id": "ffa549e1",
   "metadata": {
    "tags": []
   },
   "source": [
    "# Segment the data to create epochs"
   ]
  },
  {
   "cell_type": "code",
   "execution_count": null,
   "id": "3fc2575e",
   "metadata": {},
   "outputs": [],
   "source": [
    "# Epoch structure is created for ALL events, then you 'segment' by indexing into it\n",
    "epochs = mne.Epochs(eeg_raw, rs_eeg_events, tmin=-0.2, tmax=0.8, on_missing='warn', event_id=rs_event_id)\n",
    "\n",
    "epochs.save(project_path + pylossless_path + sync_loss_path + segment_path + 'epoch_fif_files/RS/' + bids_path.basename + '_epo.fif', overwrite=True)"
   ]
  },
  {
   "cell_type": "code",
   "execution_count": null,
   "id": "cc4dfbc6-9e67-47d3-9371-0506fff69a46",
   "metadata": {},
   "outputs": [],
   "source": [
    "epochs = epochs[['rest']]\n",
    "display(epochs)\n",
    "#epochs.save(project_path + pylossless_path + postproc_path + 'epoch_fif_files/PLR/' + bids_path.basename + '_epo.fif', overwrite=True)"
   ]
  },
  {
   "cell_type": "code",
   "execution_count": null,
   "id": "e957237d-5409-4a88-8cfe-06b13fcfc627",
   "metadata": {},
   "outputs": [],
   "source": [
    "epo_power= epochs.compute_psd(fmin=0,fmax=50)\n",
    "psds, freqs = epo_power.get_data(return_freqs=True)\n",
    "print(f\"\\nPSDs shape: {psds.shape}, freqs shape: {freqs.shape}\")"
   ]
  },
  {
   "cell_type": "markdown",
   "id": "77dce6fb-ebf5-44c6-935e-00b2cf16a476",
   "metadata": {},
   "source": [
    "## Plot power spectrum"
   ]
  },
  {
   "cell_type": "code",
   "execution_count": null,
   "id": "034423f3-4d8f-4cc1-be0a-26600b8dcdb4",
   "metadata": {},
   "outputs": [],
   "source": [
    "fig=epo_power.plot(picks=\"eeg\", exclude=\"bads\", amplitude=False)"
   ]
  },
  {
   "cell_type": "code",
   "execution_count": null,
   "id": "5f5c63be-d0aa-4a7b-935c-1c314b2096d8",
   "metadata": {},
   "outputs": [],
   "source": [
    "fig=epo_power.plot(picks=frontal_roi, exclude=\"bads\", amplitude=False)"
   ]
  },
  {
   "cell_type": "code",
   "execution_count": null,
   "id": "d69ab9f4-c44c-44ff-b1b2-552accafc175",
   "metadata": {},
   "outputs": [],
   "source": [
    "fig=epo_power.plot_topomap(ch_type=\"eeg\", agg_fun=np.median)"
   ]
  },
  {
   "cell_type": "code",
   "execution_count": null,
   "id": "4b2d55ba",
   "metadata": {},
   "outputs": [],
   "source": [
    "#!jupyter nbconvert --output {\"session_reports/RS/\" + bids_path.basename + \".html\"} --TagRemovePreprocessor.remove_all_outputs_tags='{\"exclude\"}' --no-input --to html session_seg_RS.ipynb"
   ]
  }
 ],
 "metadata": {
  "kernelspec": {
   "display_name": "q1k_env",
   "language": "python",
   "name": "q1k_env"
  },
  "language_info": {
   "codemirror_mode": {
    "name": "ipython",
    "version": 3
   },
   "file_extension": ".py",
   "mimetype": "text/x-python",
   "name": "python",
   "nbconvert_exporter": "python",
   "pygments_lexer": "ipython3",
   "version": "3.11.5"
  }
 },
 "nbformat": 4,
 "nbformat_minor": 5
}

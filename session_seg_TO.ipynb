{
 "cells": [
  {
   "cell_type": "markdown",
   "id": "793c3da2-34a6-4fce-a4d7-a6bcbe92219f",
   "metadata": {},
   "source": [
    "# Single Subject Segmentation Q1K"
   ]
  },
  {
   "cell_type": "code",
   "execution_count": null,
   "id": "1112aca4-41d1-4c95-b9c6-29f605655ef8",
   "metadata": {
    "tags": [
     "parameters"
    ]
   },
   "outputs": [],
   "source": [
    "# #use these commented parameters for testing this notebook outside of the automated loop of q1k_automated_reports.ipynb\n",
    "# subject_id = \"1093S2\"\n",
    "# task_id = \"TO\"\n",
    "# session_id = \"01\"\n",
    "# run_id = \"1\"\n",
    "\n",
    "#use these parameters when executing this notebook from the automation notebook..\n",
    "subject_id = \"\"\n",
    "task_id = \"\"\n",
    "session_id = \"\"\n",
    "run_id = \"\"\n"
   ]
  },
  {
   "cell_type": "code",
   "execution_count": null,
   "id": "9450f6bf-4cb0-4e7e-bd64-f9dd953de143",
   "metadata": {},
   "outputs": [],
   "source": [
    "# import packages\n",
    "import mne\n",
    "import mne_bids\n",
    "import numpy as np\n",
    "import pandas as pd\n",
    "\n",
    "import matplotlib.pyplot as plt\n",
    "\n",
    "from pathlib import Path\n",
    "import shutil\n",
    "import pylossless as ll\n",
    "from autoreject import AutoReject\n",
    "\n",
    "import warnings\n",
    "warnings.filterwarnings('ignore')\n"
   ]
  },
  {
   "cell_type": "markdown",
   "id": "d5961caa",
   "metadata": {},
   "source": [
    "# Set the parameters and read the pylossless data."
   ]
  },
  {
   "cell_type": "code",
   "execution_count": null,
   "id": "14258a9e",
   "metadata": {},
   "outputs": [],
   "source": [
    "project_path = \"/project/def-emayada/q1k/experimental/\"\n",
    "pylossless_path = \"derivatives/pylossless/\"\n",
    "sync_loss_path = \"derivatives/sync_loss/\"\n",
    "segment_path = \"derivatives/segment/\"\n",
    "\n",
    "bids_path = mne_bids.BIDSPath(\n",
    "    subject=subject_id, session=session_id, task=task_id, run=\"1\", datatype=\"eeg\", suffix=\"eeg\",root=project_path + pylossless_path + sync_loss_path\n",
    ")\n",
    "print(bids_path)"
   ]
  },
  {
   "cell_type": "code",
   "execution_count": null,
   "id": "5cb698e8",
   "metadata": {},
   "outputs": [],
   "source": [
    "# Read the BIDS pylossless output file..\n",
    "eeg_raw = mne_bids.read_raw_bids(bids_path=bids_path, verbose=False)"
   ]
  },
  {
   "cell_type": "code",
   "execution_count": null,
   "id": "322b9043-207a-4101-a596-fabddcc02de8",
   "metadata": {},
   "outputs": [],
   "source": [
    "#show channel types...\n",
    "channel_types = eeg_raw.get_channel_types()\n",
    "print(\"Channel Types:\", channel_types)\n",
    "print(\"Channel Names:\", eeg_raw.info['ch_names'])"
   ]
  },
  {
   "cell_type": "code",
   "execution_count": null,
   "id": "5f4cda91-dc53-4713-8b29-eaeaf5f538aa",
   "metadata": {},
   "outputs": [],
   "source": [
    "# Define a few channel groups of interest and plot the data\n",
    "frontal = [\"E19\", \"E11\", \"E4\", \"E12\", \"E5\"]\n",
    "occipital = [\"E61\", \"E62\", \"E78\", \"E67\", \"E72\", \"E77\"]\n",
    "# din = [\"DIN\"]\n",
    "# pupil = [\"pupil_left\"]\n",
    "# x_pos = [\"xpos_left\"]\n",
    "# y_pos = [\"ypos_left\"]\n",
    "\n",
    "#scale_dict = dict(eeg=1e-4, eyegaze=30, pupil=30)\n",
    "scale_dict = dict(eeg=1e-4)\n",
    "\n",
    "# picks must be numeric (not string) when passed to `raw.plot(..., order=)`\n",
    "picks_idx = mne.pick_channels(eeg_raw.ch_names, frontal + occipital, ordered=True)\n",
    "#picks_idx = mne.pick_channels(eeg_raw.ch_names, frontal + occipital, ordered=True)\n",
    "eeg_raw.plot(start=0,duration=30,order=picks_idx, scalings=scale_dict)"
   ]
  },
  {
   "cell_type": "markdown",
   "id": "ffa549e1",
   "metadata": {},
   "source": [
    "# Segment the data to 'sv06' and 'sv15'"
   ]
  },
  {
   "cell_type": "code",
   "execution_count": null,
   "id": "324bdd13",
   "metadata": {},
   "outputs": [],
   "source": [
    "# Get the events form the annotations\n",
    "eeg_events, eeg_event_dict  = mne.events_from_annotations(eeg_raw)\n",
    "\n",
    "## Relabel condition vars for niceness\n",
    "eeg_event_dict['to/stimulus/audio/standard/set4/item1/SO41'] = eeg_event_dict.pop('SO41')\n",
    "eeg_event_dict['to/stimulus/audio/standard/set4/item2/SO42'] = eeg_event_dict.pop('SO42')\n",
    "eeg_event_dict['to/stimulus/audio/standard/set4/item3/SO43'] = eeg_event_dict.pop('SO43')\n",
    "eeg_event_dict['to/stimulus/audio/standard/set4/item4/SO44'] = eeg_event_dict.pop('SO44')\n",
    "\n",
    "eeg_event_dict['to/stimulus/audio/standard/set5/item1/SO51'] = eeg_event_dict.pop('SO51')\n",
    "eeg_event_dict['to/stimulus/audio/standard/set5/item2/SO52'] = eeg_event_dict.pop('SO52')\n",
    "eeg_event_dict['to/stimulus/audio/standard/set5/item3/SO53'] = eeg_event_dict.pop('SO53')\n",
    "eeg_event_dict['to/stimulus/audio/standard/set5/item4/SO54'] = eeg_event_dict.pop('SO54')\n",
    "eeg_event_dict['to/stimulus/audio/standard/set5/item1/SO55'] = eeg_event_dict.pop('SO55')\n",
    "\n",
    "eeg_event_dict['to/stimulus/audio/standard/set6/item1/SO61'] = eeg_event_dict.pop('SO61')\n",
    "eeg_event_dict['to/stimulus/audio/standard/set6/item2/SO62'] = eeg_event_dict.pop('SO62')\n",
    "eeg_event_dict['to/stimulus/audio/standard/set6/item3/SO63'] = eeg_event_dict.pop('SO63')\n",
    "eeg_event_dict['to/stimulus/audio/standard/set6/item4/SO64'] = eeg_event_dict.pop('SO64')\n",
    "eeg_event_dict['to/stimulus/audio/standard/set6/item5/SO65'] = eeg_event_dict.pop('SO65')\n",
    "eeg_event_dict['to/stimulus/audio/standard/set6/item6/SO66'] = eeg_event_dict.pop('SO66')\n",
    "\n",
    "eeg_event_dict['to/stimulus/audio/standard/set7/item1/SO71'] = eeg_event_dict.pop('SO71')\n",
    "eeg_event_dict['to/stimulus/audio/standard/set7/item2/SO72'] = eeg_event_dict.pop('SO72')\n",
    "eeg_event_dict['to/stimulus/audio/standard/set7/item3/SO73'] = eeg_event_dict.pop('SO73')\n",
    "eeg_event_dict['to/stimulus/audio/standard/set7/item4/SO74'] = eeg_event_dict.pop('SO74')\n",
    "eeg_event_dict['to/stimulus/audio/standard/set7/item5/SO75'] = eeg_event_dict.pop('SO75')\n",
    "eeg_event_dict['to/stimulus/audio/standard/set7/item6/SO76'] = eeg_event_dict.pop('SO76')\n",
    "eeg_event_dict['to/stimulus/audio/standard/set7/item7/SO77'] = eeg_event_dict.pop('SO77')\n",
    "\n",
    "eeg_event_dict['to/stimulus/audio/standard/set8/item1/SO81'] = eeg_event_dict.pop('SO81')\n",
    "eeg_event_dict['to/stimulus/audio/standard/set8/item2/SO82'] = eeg_event_dict.pop('SO82')\n",
    "eeg_event_dict['to/stimulus/audio/standard/set8/item3/SO83'] = eeg_event_dict.pop('SO83')\n",
    "eeg_event_dict['to/stimulus/audio/standard/set8/item4/SO84'] = eeg_event_dict.pop('SO84')\n",
    "eeg_event_dict['to/stimulus/audio/standard/set8/item5/SO85'] = eeg_event_dict.pop('SO85')\n",
    "eeg_event_dict['to/stimulus/audio/standard/set8/item6/SO86'] = eeg_event_dict.pop('SO86')\n",
    "eeg_event_dict['to/stimulus/audio/standard/set8/item7/SO87'] = eeg_event_dict.pop('SO87')\n",
    "eeg_event_dict['to/stimulus/audio/standard/set8/item8/SO88'] = eeg_event_dict.pop('SO88')\n",
    "\n",
    "eeg_event_dict['to/stimulus/audio/standard/set9/item1/SO91'] = eeg_event_dict.pop('SO91')\n",
    "eeg_event_dict['to/stimulus/audio/standard/set9/item2/SO92'] = eeg_event_dict.pop('SO92')\n",
    "eeg_event_dict['to/stimulus/audio/standard/set9/item3/SO93'] = eeg_event_dict.pop('SO93')\n",
    "eeg_event_dict['to/stimulus/audio/standard/set9/item4/SO94'] = eeg_event_dict.pop('SO94')\n",
    "eeg_event_dict['to/stimulus/audio/standard/set9/item5/SO95'] = eeg_event_dict.pop('SO95')\n",
    "eeg_event_dict['to/stimulus/audio/standard/set9/item6/SO96'] = eeg_event_dict.pop('SO96')\n",
    "eeg_event_dict['to/stimulus/audio/standard/set9/item7/SO97'] = eeg_event_dict.pop('SO97')\n",
    "eeg_event_dict['to/stimulus/audio/standard/set9/item8/SO98'] = eeg_event_dict.pop('SO98')\n",
    "eeg_event_dict['to/stimulus/audio/standard/set9/item9/SO99'] = eeg_event_dict.pop('SO99')\n",
    "\n",
    "eeg_event_dict['to/stimulus/audio/deviant/set4/Dev4'] = eeg_event_dict.pop('Dev4')\n",
    "eeg_event_dict['to/stimulus/audio/deviant/set5/Dev5'] = eeg_event_dict.pop('Dev5')\n",
    "eeg_event_dict['to/stimulus/audio/deviant/set6/Dev6'] = eeg_event_dict.pop('Dev6')\n",
    "eeg_event_dict['to/stimulus/audio/deviant/set7/Dev7'] = eeg_event_dict.pop('Dev7')\n",
    "eeg_event_dict['to/stimulus/audio/deviant/set8/Dev8'] = eeg_event_dict.pop('Dev8')\n",
    "eeg_event_dict['to/stimulus/audio/deviant/set9/Dev9'] = eeg_event_dict.pop('Dev9')\n",
    "\n",
    "\n"
   ]
  },
  {
   "cell_type": "code",
   "execution_count": null,
   "id": "3646d9b1-c5c7-4cbc-bd74-ebf8af0eca73",
   "metadata": {},
   "outputs": [],
   "source": [
    "eeg_event_dict"
   ]
  },
  {
   "cell_type": "code",
   "execution_count": null,
   "id": "3fc2575e",
   "metadata": {},
   "outputs": [],
   "source": [
    "#create a new dictionary keeping only keys that start with 'd' or 'g' ('display' and 'gaze' onset events)\n",
    "epoch_eeg_event_dict = {key: value for key, value in eeg_event_dict.items() if key.startswith(('to/'))}\n",
    "#print the filtered dictionary\n",
    "#print(epoch_eeg_event_dict)\n",
    "\n",
    "#epoch to the filtered dictionary .. select specific conditions at a later stage..\n",
    "epochs = mne.Epochs(eeg_raw, eeg_events, event_id=epoch_eeg_event_dict, tmin=-1, tmax=1.0, on_missing='warn', event_repeated='drop')\n",
    "#epochs = epochs[['dtbc', 'dtoc', 'dtgc']]\n",
    "display(epochs)\n",
    "\n",
    "##apply autoreject to the epochs..\n",
    "#ar = AutoReject()\n",
    "#epochs.load_data()\n",
    "#epochs_clean = ar.fit_transform(epochs)\n",
    "\n",
    "#save the cleaned epochs...\n",
    "epochs.save(project_path + pylossless_path + sync_loss_path + segment_path + 'epoch_fif_files/TO/' + bids_path.basename + '_epo.fif', overwrite=True)"
   ]
  },
  {
   "cell_type": "code",
   "execution_count": null,
   "id": "66c2483e-3cf3-4d26-9dc6-ff43c07a571f",
   "metadata": {},
   "outputs": [],
   "source": [
    "#required_conditions = {'dtbc', 'dtoc', 'dtgc'}\n",
    "#available_conditions = set(epochs.event_id.keys())\n",
    "#if required_conditions.issubset(available_conditions):\n",
    "#    print(\"All required conditions are present.\")\n",
    "#else:\n",
    "#    print(\"Missing conditions:\", required_conditions - available_conditions)"
   ]
  },
  {
   "cell_type": "code",
   "execution_count": null,
   "id": "09f9df01-7ca0-45c0-8737-b64c2780104d",
   "metadata": {},
   "outputs": [],
   "source": [
    "# peak... at the EEG channel types\n",
    "channel_types = epochs.get_channel_types()\n",
    "print(\"EEG Channel Types:\", channel_types)\n",
    "print(\"EEG Channel Names:\", epochs.info['ch_names'])"
   ]
  },
  {
   "cell_type": "code",
   "execution_count": null,
   "id": "93f39d71",
   "metadata": {},
   "outputs": [],
   "source": [
    "#evokeds = {'dev': epochs['deviant'].average(picks=['eeg']), 'stan1': epochs['stan*item1'].average(picks=['eeg']), 'stan4': epochs['stan*item4'].average(picks=['eeg'])}\n",
    "#mne.write_evokeds(project_path + pylossless_path + sync_loss_path + segment_path + 'erp_fif_files/TO/' + bids_path.basename + '_erp.fif',list(evokeds.values()), overwrite=True)"
   ]
  },
  {
   "cell_type": "markdown",
   "id": "5122057f",
   "metadata": {},
   "source": [
    "# Plot ERP envelopes and topographies"
   ]
  },
  {
   "cell_type": "code",
   "execution_count": null,
   "id": "ca0126e8-6ca7-4480-be42-da11fba4f435",
   "metadata": {},
   "outputs": [],
   "source": [
    "# conditions = ['search/a5','search/a9','search/at']\n",
    "# #conditions = ['dtgc','dtbc','dtoc']\n",
    "# roi = ['E83']\n",
    "# eye = ['pupil_left']\n",
    "# decim = 2\n",
    "# freqs = np.arange(2, 50, 2)\n",
    "# n_cycles = freqs / 2\n",
    "\n",
    "# epochs = epochs[conditions]\n",
    "# epochs.apply_baseline((-.2, 0))\n",
    "\n",
    "\n",
    "# # Get the original epochs data\n",
    "# data = epochs.get_data()  # Shape: (n_epochs, n_channels, n_times)\n",
    "\n",
    "# # Get the data for the 'xpos_left' channel\n",
    "# x_channel_index = epochs.ch_names.index('xpos_left')\n",
    "# x_data = epochs.get_data(picks=['xpos_left'])\n",
    "# x_baseline_mean = np.mean(x_data[:, :, 800:1000], axis=2, keepdims=True)  # Shape: (n_epochs, 1)\n",
    "# #x_data_adjusted = np.abs(data - baseline_means)\n",
    "# x_data_adjusted = x_data - x_baseline_mean\n",
    "\n",
    "# # Get the data for the 'xpos_left' channel\n",
    "# y_channel_index = epochs.ch_names.index('ypos_left')\n",
    "# y_data = epochs.get_data(picks=['ypos_left'])  # Shape: (n_epochs, 2, n_times)\n",
    "# #y_data = epochs.get_data()[:, y_channel_index, :]\n",
    "# print ('y_data shape: ', y_data.shape)\n",
    "# y_baseline_mean = np.mean(y_data[:, :, 800:1000], axis=2, keepdims=True)  # Shape: (n_epochs, 1)\n",
    "# #x_data_adjusted = np.abs(data - baseline_means)\n",
    "# y_data_adjusted = y_data - y_baseline_mean\n",
    "# print ('y_data_adjusted shape: ', y_data_adjusted.shape)\n",
    "\n",
    "# #absolute distance from baseline....\n",
    "# origin_distance = np.sqrt(x_data_adjusted**2 + y_data_adjusted**2)\n",
    "# print ('origin distance shape: ', origin_distance.shape)\n",
    "# #first derivative of distance from origin..\n",
    "# velocity = np.diff(origin_distance, axis=-1)\n",
    "# velocity = np.pad(velocity, ((0, 0), (0, 0), (0, 1)), mode='constant', constant_values=0)\n",
    "\n",
    "# #cumulative sum of velocity...\n",
    "# total_travel = np.cumsum(velocity, axis=1)\n",
    "\n",
    "\n",
    "\n",
    "\n",
    "# if np.any(np.isnan(x_baseline_mean)):\n",
    "#     print(\"The array contains NaN values.\")\n",
    "# else:\n",
    "#     print(\"The array does not contain any NaN values.\")\n",
    "\n",
    "\n",
    "# #insert the new signals into the data array.. \n",
    "# ch_id = epochs.ch_names.index('distance')\n",
    "# data[:, ch_id, :] = origin_distance.squeeze(1)\n",
    "# ch_id = epochs.ch_names.index('x_head')\n",
    "# data[:, ch_id, :] = velocity.squeeze(1)\n",
    "# ch_id = epochs.ch_names.index('y_head')\n",
    "# data[:, ch_id, :] = total_travel.squeeze(1)\n",
    "\n",
    "# # Create a new Epochs object with modified data but original info\n",
    "# new_epochs = mne.EpochsArray(data, info=epochs.info, events=epochs.events, event_id=epochs.event_id, tmin=epochs.tmin)\n",
    "\n",
    "# #rename the channels...\n",
    "# # Define the mapping for renaming channels.. and rename the channel\n",
    "# rename_mapping = {'distance': 'origin_dist'}\n",
    "# new_epochs.rename_channels(rename_mapping)\n",
    "# rename_mapping = {'x_head': 'velocity'}\n",
    "# new_epochs.rename_channels(rename_mapping)\n",
    "# rename_mapping = {'y_head': 'total_travel'}\n",
    "# new_epochs.rename_channels(rename_mapping)\n",
    "\n",
    "\n",
    "# epochs = new_epochs\n"
   ]
  },
  {
   "cell_type": "code",
   "execution_count": null,
   "id": "b0987fad-dfc3-4ff5-a275-5af830c9f573",
   "metadata": {},
   "outputs": [],
   "source": [
    "event_names = epochs.event_id.keys()\n",
    "selected_events_stan1 = [event for event in event_names if \"stan\" in event and \"item1\" in event]\n",
    "selected_events_stan4 = [event for event in event_names if \"stan\" in event and \"item4\" in event]\n",
    "selected_events_deviant = [event for event in event_names if \"deviant\" in event and \"Dev\" in event]\n",
    "\n",
    "evokeds = {'stan1': epochs[selected_events_stan1].average(picks=['eeg']), 'stan4': epochs[selected_events_stan4].average(picks=['eeg']), 'dev': epochs[selected_events_deviant].average(picks=['eeg','misc'])}"
   ]
  },
  {
   "cell_type": "code",
   "execution_count": null,
   "id": "6d05fc62",
   "metadata": {},
   "outputs": [],
   "source": [
    "evokeds['stan1'].plot_joint(picks=['eeg'], title='standard item 1')"
   ]
  },
  {
   "cell_type": "code",
   "execution_count": null,
   "id": "14ed786f",
   "metadata": {},
   "outputs": [],
   "source": [
    "evokeds['stan4'].plot_joint(picks=['eeg'],title='standard item 4')"
   ]
  },
  {
   "cell_type": "code",
   "execution_count": null,
   "id": "8b1c4e24-1a04-49e2-b5bb-ba857a0ee525",
   "metadata": {},
   "outputs": [],
   "source": [
    "evokeds['dev'].plot_joint(picks=['eeg'],title='deviant')"
   ]
  },
  {
   "cell_type": "markdown",
   "id": "ff3b3dab",
   "metadata": {},
   "source": [
    "# Plot the ERP overlay"
   ]
  },
  {
   "cell_type": "code",
   "execution_count": null,
   "id": "98e36a79",
   "metadata": {},
   "outputs": [],
   "source": [
    "# Plot ERP overlay\n",
    "mne.viz.plot_compare_evokeds(evokeds, picks=['E62'], combine='mean')"
   ]
  },
  {
   "cell_type": "code",
   "execution_count": null,
   "id": "2c45b6d0",
   "metadata": {},
   "outputs": [],
   "source": [
    "#epochs_condition_1 = epochs['sv06']\n",
    "#epochs_condition_2 = epochs['sv15']\n",
    "ch_name = 'E70'\n",
    "\n",
    "decim = 2\n",
    "freqs = np.arange(3, 50, 2)  # define frequencies of interest\n",
    "n_cycles = freqs / 2\n",
    "\n",
    "#epochs_chan = epochs.pick_channels([ch_name])\n"
   ]
  },
  {
   "cell_type": "code",
   "execution_count": null,
   "id": "b708d0e4",
   "metadata": {},
   "outputs": [],
   "source": [
    "decim = 2\n",
    "freqs = np.arange(2, 50, 2)  # define frequencies of interest\n",
    "n_cycles = freqs / 2\n",
    "\n",
    "pow_1, itc_1 = mne.time_frequency.tfr_morlet(\n",
    "    epochs[selected_events_stan1],\n",
    "    freqs,\n",
    "    picks=ch_name,\n",
    "    n_cycles=n_cycles,\n",
    "    decim=decim,\n",
    "    return_itc=True,\n",
    "    average=True,\n",
    ")\n",
    "\n",
    "pow_2, itc_2 = mne.time_frequency.tfr_morlet(\n",
    "    epochs[selected_events_deviant],\n",
    "    freqs,\n",
    "    picks=ch_name,\n",
    "    n_cycles=n_cycles,\n",
    "    decim=decim,\n",
    "    return_itc=True,\n",
    "    average=True,\n",
    ")\n",
    "\n",
    "itc_dat_1 = itc_1.data[0, :, :]  # only 1 channel as 3D matrix\n",
    "pow_dat_1 = pow_1.data[0, :, :]  # only 1 channel as 3D matrix\n",
    "\n",
    "itc_dat_2 = itc_2.data[0, :, :]  # only 1 channel as 3D matrix\n",
    "pow_dat_2 = pow_2.data[0, :, :]  # only 1 channel as 3D matrix"
   ]
  },
  {
   "cell_type": "code",
   "execution_count": null,
   "id": "004608c3",
   "metadata": {},
   "outputs": [],
   "source": [
    "times = 1e3 * epochs[selected_events_stan1].times  # change unit to ms\n",
    "\n",
    "fig1, (ax1t, ax1b) = plt.subplots(2, 1, figsize=(6, 4))\n",
    "fig1.subplots_adjust(0.12, 0.08, 0.96, 0.94, 0.2, 0.43)\n",
    "\n",
    "ax1t.imshow(\n",
    "    pow_dat_1,\n",
    "    extent=[times[0], times[-1], freqs[0], freqs[-1]],\n",
    "    aspect=\"auto\",\n",
    "    origin=\"lower\",\n",
    "    cmap=\"RdBu_r\",\n",
    ")\n",
    "\n",
    "ax1b.imshow(\n",
    "    itc_dat_1,\n",
    "    extent=[times[0], times[-1], freqs[0], freqs[-1]],\n",
    "    aspect=\"auto\",\n",
    "    origin=\"lower\",\n",
    "    cmap=\"RdBu_r\",\n",
    ")\n",
    "\n",
    "ax1t.set_ylabel(\"Frequency (Hz)\")\n",
    "ax1t.set_title(f\"target gap Induced power ({ch_name})\")\n",
    "ax1b.set_title(f\"target gap Inter Trial Coherence ({ch_name})\")\n",
    "ax1b.set_xlabel(\"Time (ms)\")\n",
    "\n",
    "plt.show()"
   ]
  },
  {
   "cell_type": "code",
   "execution_count": null,
   "id": "9e706eef",
   "metadata": {},
   "outputs": [],
   "source": [
    "fig2, (ax2t, ax2b) = plt.subplots(2, 1, figsize=(6, 4))\n",
    "fig2.subplots_adjust(0.12, 0.08, 0.96, 0.94, 0.2, 0.43)\n",
    "\n",
    "ax2t.imshow(\n",
    "    pow_dat_2,\n",
    "    extent=[times[0], times[-1], freqs[0], freqs[-1]],\n",
    "    aspect=\"auto\",\n",
    "    origin=\"lower\",\n",
    "    cmap=\"RdBu_r\",\n",
    ")\n",
    "\n",
    "ax2b.imshow(\n",
    "    itc_dat_2,\n",
    "    extent=[times[0], times[-1], freqs[0], freqs[-1]],\n",
    "    aspect=\"auto\",\n",
    "    origin=\"lower\",\n",
    "    cmap=\"RdBu_r\",\n",
    ")\n",
    "\n",
    "ax2t.set_ylabel(\"Frequency (Hz)\")\n",
    "ax2t.set_title(f\"target overlap Induced power ({ch_name})\")\n",
    "ax2b.set_title(f\"target overlap Inter Trial Coherence ({ch_name})\")\n",
    "ax2b.set_xlabel(\"Time (ms)\")\n",
    "\n",
    "plt.show()"
   ]
  },
  {
   "cell_type": "code",
   "execution_count": null,
   "id": "5831546d",
   "metadata": {},
   "outputs": [],
   "source": [
    "fig3, (ax3t, ax3b) = plt.subplots(2, 1, figsize=(6, 4))\n",
    "fig3.subplots_adjust(0.12, 0.08, 0.96, 0.94, 0.2, 0.43)\n",
    "\n",
    "ax3t.imshow(\n",
    "    pow_dat_2 - pow_dat_1,\n",
    "    extent=[times[0], times[-1], freqs[0], freqs[-1]],\n",
    "    aspect=\"auto\",\n",
    "    origin=\"lower\",\n",
    "    cmap=\"RdBu_r\",\n",
    ")\n",
    "\n",
    "ax3b.imshow(\n",
    "    itc_dat_2 - itc_dat_1,\n",
    "    extent=[times[0], times[-1], freqs[0], freqs[-1]],\n",
    "    aspect=\"auto\",\n",
    "    origin=\"lower\",\n",
    "    cmap=\"RdBu_r\",\n",
    ")\n",
    "\n",
    "ax3t.set_ylabel(\"Frequency (Hz)\")\n",
    "ax3t.set_title(f\"gap - overlap Induced power ({ch_name})\")\n",
    "ax3b.set_title(f\"gap - overlap Inter Trial Coherence ({ch_name})\")\n",
    "ax3b.set_xlabel(\"Time (ms)\")\n",
    "\n",
    "plt.show()"
   ]
  },
  {
   "cell_type": "code",
   "execution_count": null,
   "id": "4b2d55ba",
   "metadata": {},
   "outputs": [],
   "source": [
    "!jupyter nbconvert --output {\"session_reports/\" + bids_path.basename + \".html\"} --TagRemovePreprocessor.remove_all_outputs_tags='{\"exclude\"}' --no-input --to html session_seg_vp.ipynb"
   ]
  },
  {
   "cell_type": "code",
   "execution_count": null,
   "id": "c3158e95",
   "metadata": {},
   "outputs": [],
   "source": []
  }
 ],
 "metadata": {
  "kernelspec": {
   "display_name": "q1k_env",
   "language": "python",
   "name": "q1k_env"
  },
  "language_info": {
   "codemirror_mode": {
    "name": "ipython",
    "version": 3
   },
   "file_extension": ".py",
   "mimetype": "text/x-python",
   "name": "python",
   "nbconvert_exporter": "python",
   "pygments_lexer": "ipython3",
   "version": "3.11.5"
  }
 },
 "nbformat": 4,
 "nbformat_minor": 5
}
